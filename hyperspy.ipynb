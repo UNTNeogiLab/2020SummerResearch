{
 "cells": [
  {
   "cell_type": "code",
   "execution_count": 1,
   "metadata": {
    "pycharm": {
     "name": "#%%\n"
    }
   },
   "outputs": [
    {
     "name": "stdout",
     "output_type": "stream",
     "text": [
      "\n",
      "Logging is active\n",
      "The log is stored in the hyperspy_log.py file in the current directory\n",
      "Imported Packages\n"
     ]
    },
    {
     "data": {
      "text/plain": "VBox(children=(Tab(children=(VBox(children=(HBox(children=(Label(value='Expand structures in DictionaryTreeBro…",
      "application/vnd.jupyter.widget-view+json": {
       "version_major": 2,
       "version_minor": 0,
       "model_id": "2e093c093def4efbb3c99c6bb30838e0"
      }
     },
     "metadata": {},
     "output_type": "display_data"
    }
   ],
   "source": [
    "%gui qt\n",
    "%matplotlib qt\n",
    "from func import *\n",
    "from importer import *\n",
    "import matplotlib.pyplot as plt\n",
    "import hyperspy.api as hs\n",
    "hs.preferences.gui(toolkit=\"ipywidgets\")\n",
    "print(\"Imported Packages\")\n"
   ]
  },
  {
   "cell_type": "code",
   "execution_count": 2,
   "metadata": {
    "pycharm": {
     "name": "#%%\n"
    }
   },
   "outputs": [
    {
     "name": "stdout",
     "output_type": "stream",
     "text": [
      "spc\n"
     ]
    },
    {
     "ename": "OverflowError",
     "evalue": "memory mapped length must be positive",
     "output_type": "error",
     "traceback": [
      "\u001B[1;31m---------------------------------------------------------------------------\u001B[0m",
      "\u001B[1;31mOverflowError\u001B[0m                             Traceback (most recent call last)",
      "\u001B[1;32m<ipython-input-2-f71a0b1f5455>\u001B[0m in \u001B[0;36m<module>\u001B[1;34m\u001B[0m\n\u001B[1;32m----> 1\u001B[1;33m \u001B[0mdata\u001B[0m \u001B[1;33m=\u001B[0m \u001B[0mread\u001B[0m\u001B[1;33m(\u001B[0m\u001B[0mgui_fname\u001B[0m\u001B[1;33m(\u001B[0m\u001B[1;33m)\u001B[0m\u001B[1;33m)\u001B[0m\u001B[1;33m\u001B[0m\u001B[1;33m\u001B[0m\u001B[0m\n\u001B[0m\u001B[0;32m      2\u001B[0m \u001B[1;33m\u001B[0m\u001B[0m\n",
      "\u001B[1;32m~\\PycharmProjects\\research\\importer.py\u001B[0m in \u001B[0;36mread\u001B[1;34m(filename)\u001B[0m\n\u001B[0;32m     21\u001B[0m     \u001B[1;32mif\u001B[0m \u001B[1;33m(\u001B[0m\u001B[0mextension\u001B[0m \u001B[1;32min\u001B[0m \u001B[0mloadables\u001B[0m\u001B[1;33m)\u001B[0m\u001B[1;33m:\u001B[0m\u001B[1;33m\u001B[0m\u001B[1;33m\u001B[0m\u001B[0m\n\u001B[0;32m     22\u001B[0m \u001B[1;33m\u001B[0m\u001B[0m\n\u001B[1;32m---> 23\u001B[1;33m         \u001B[1;32mreturn\u001B[0m \u001B[0mhs\u001B[0m\u001B[1;33m.\u001B[0m\u001B[0mload\u001B[0m\u001B[1;33m(\u001B[0m\u001B[0mfilename\u001B[0m\u001B[1;33m)\u001B[0m\u001B[1;33m\u001B[0m\u001B[1;33m\u001B[0m\u001B[0m\n\u001B[0m\u001B[0;32m     24\u001B[0m     \u001B[1;32melse\u001B[0m\u001B[1;33m:\u001B[0m\u001B[1;33m\u001B[0m\u001B[1;33m\u001B[0m\u001B[0m\n\u001B[0;32m     25\u001B[0m         \u001B[0mprint\u001B[0m\u001B[1;33m(\u001B[0m\u001B[1;34m\"INVALID FILE TYPE\"\u001B[0m\u001B[1;33m)\u001B[0m\u001B[1;33m\u001B[0m\u001B[1;33m\u001B[0m\u001B[0m\n",
      "\u001B[1;32m~\\Anaconda3\\envs\\python\\lib\\site-packages\\hyperspy\\io.py\u001B[0m in \u001B[0;36mload\u001B[1;34m(filenames, signal_type, stack, stack_axis, new_axis_name, lazy, convert_units, **kwds)\u001B[0m\n\u001B[0;32m    277\u001B[0m         \u001B[1;32melse\u001B[0m\u001B[1;33m:\u001B[0m\u001B[1;33m\u001B[0m\u001B[1;33m\u001B[0m\u001B[0m\n\u001B[0;32m    278\u001B[0m             \u001B[1;31m# No stack, so simply we load all signals in all files separately\u001B[0m\u001B[1;33m\u001B[0m\u001B[1;33m\u001B[0m\u001B[1;33m\u001B[0m\u001B[0m\n\u001B[1;32m--> 279\u001B[1;33m             objects = [load_single_file(filename, lazy=lazy,\n\u001B[0m\u001B[0;32m    280\u001B[0m                                         **kwds)\n\u001B[0;32m    281\u001B[0m                        for filename in filenames]\n",
      "\u001B[1;32m~\\Anaconda3\\envs\\python\\lib\\site-packages\\hyperspy\\io.py\u001B[0m in \u001B[0;36m<listcomp>\u001B[1;34m(.0)\u001B[0m\n\u001B[0;32m    277\u001B[0m         \u001B[1;32melse\u001B[0m\u001B[1;33m:\u001B[0m\u001B[1;33m\u001B[0m\u001B[1;33m\u001B[0m\u001B[0m\n\u001B[0;32m    278\u001B[0m             \u001B[1;31m# No stack, so simply we load all signals in all files separately\u001B[0m\u001B[1;33m\u001B[0m\u001B[1;33m\u001B[0m\u001B[1;33m\u001B[0m\u001B[0m\n\u001B[1;32m--> 279\u001B[1;33m             objects = [load_single_file(filename, lazy=lazy,\n\u001B[0m\u001B[0;32m    280\u001B[0m                                         **kwds)\n\u001B[0;32m    281\u001B[0m                        for filename in filenames]\n",
      "\u001B[1;32m~\\Anaconda3\\envs\\python\\lib\\site-packages\\hyperspy\\io.py\u001B[0m in \u001B[0;36mload_single_file\u001B[1;34m(filename, **kwds)\u001B[0m\n\u001B[0;32m    316\u001B[0m     \u001B[1;32melse\u001B[0m\u001B[1;33m:\u001B[0m\u001B[1;33m\u001B[0m\u001B[1;33m\u001B[0m\u001B[0m\n\u001B[0;32m    317\u001B[0m         \u001B[0mreader\u001B[0m \u001B[1;33m=\u001B[0m \u001B[0mio_plugins\u001B[0m\u001B[1;33m[\u001B[0m\u001B[0mi\u001B[0m\u001B[1;33m]\u001B[0m\u001B[1;33m\u001B[0m\u001B[1;33m\u001B[0m\u001B[0m\n\u001B[1;32m--> 318\u001B[1;33m         \u001B[1;32mreturn\u001B[0m \u001B[0mload_with_reader\u001B[0m\u001B[1;33m(\u001B[0m\u001B[0mfilename\u001B[0m\u001B[1;33m=\u001B[0m\u001B[0mfilename\u001B[0m\u001B[1;33m,\u001B[0m \u001B[0mreader\u001B[0m\u001B[1;33m=\u001B[0m\u001B[0mreader\u001B[0m\u001B[1;33m,\u001B[0m \u001B[1;33m**\u001B[0m\u001B[0mkwds\u001B[0m\u001B[1;33m)\u001B[0m\u001B[1;33m\u001B[0m\u001B[1;33m\u001B[0m\u001B[0m\n\u001B[0m\u001B[0;32m    319\u001B[0m \u001B[1;33m\u001B[0m\u001B[0m\n\u001B[0;32m    320\u001B[0m \u001B[1;33m\u001B[0m\u001B[0m\n",
      "\u001B[1;32m~\\Anaconda3\\envs\\python\\lib\\site-packages\\hyperspy\\io.py\u001B[0m in \u001B[0;36mload_with_reader\u001B[1;34m(filename, reader, signal_type, convert_units, **kwds)\u001B[0m\n\u001B[0;32m    322\u001B[0m                      **kwds):\n\u001B[0;32m    323\u001B[0m     \u001B[0mlazy\u001B[0m \u001B[1;33m=\u001B[0m \u001B[0mkwds\u001B[0m\u001B[1;33m.\u001B[0m\u001B[0mget\u001B[0m\u001B[1;33m(\u001B[0m\u001B[1;34m'lazy'\u001B[0m\u001B[1;33m,\u001B[0m \u001B[1;32mFalse\u001B[0m\u001B[1;33m)\u001B[0m\u001B[1;33m\u001B[0m\u001B[1;33m\u001B[0m\u001B[0m\n\u001B[1;32m--> 324\u001B[1;33m     file_data_list = reader.file_reader(filename,\n\u001B[0m\u001B[0;32m    325\u001B[0m                                         **kwds)\n\u001B[0;32m    326\u001B[0m     \u001B[0mobjects\u001B[0m \u001B[1;33m=\u001B[0m \u001B[1;33m[\u001B[0m\u001B[1;33m]\u001B[0m\u001B[1;33m\u001B[0m\u001B[1;33m\u001B[0m\u001B[0m\n",
      "\u001B[1;32m~\\Anaconda3\\envs\\python\\lib\\site-packages\\hyperspy\\io_plugins\\edax.py\u001B[0m in \u001B[0;36mfile_reader\u001B[1;34m(filename, record_by, endianess, **kwargs)\u001B[0m\n\u001B[0;32m   1013\u001B[0m                           **kwargs)\n\u001B[0;32m   1014\u001B[0m     \u001B[1;32melif\u001B[0m \u001B[0mext\u001B[0m \u001B[1;32min\u001B[0m \u001B[0mspc_extensions\u001B[0m\u001B[1;33m:\u001B[0m\u001B[1;33m\u001B[0m\u001B[1;33m\u001B[0m\u001B[0m\n\u001B[1;32m-> 1015\u001B[1;33m         return spc_reader(filename,\n\u001B[0m\u001B[0;32m   1016\u001B[0m                           \u001B[0mendianess\u001B[0m\u001B[1;33m,\u001B[0m\u001B[1;33m\u001B[0m\u001B[1;33m\u001B[0m\u001B[0m\n\u001B[0;32m   1017\u001B[0m                           **kwargs)\n",
      "\u001B[1;32m~\\Anaconda3\\envs\\python\\lib\\site-packages\\hyperspy\\io_plugins\\edax.py\u001B[0m in \u001B[0;36mspc_reader\u001B[1;34m(filename, endianess, load_all_spc, **kwargs)\u001B[0m\n\u001B[0;32m    776\u001B[0m \u001B[1;33m\u001B[0m\u001B[0m\n\u001B[0;32m    777\u001B[0m         \u001B[1;31m# Read data from file into a numpy memmap object\u001B[0m\u001B[1;33m\u001B[0m\u001B[1;33m\u001B[0m\u001B[1;33m\u001B[0m\u001B[0m\n\u001B[1;32m--> 778\u001B[1;33m         data = np.memmap(f, mode=mode, offset=data_offset,\n\u001B[0m\u001B[0;32m    779\u001B[0m                          dtype='u4', shape=(1, nz), **kwargs).squeeze()\n\u001B[0;32m    780\u001B[0m \u001B[1;33m\u001B[0m\u001B[0m\n",
      "\u001B[1;32m~\\Anaconda3\\envs\\python\\lib\\site-packages\\numpy\\core\\memmap.py\u001B[0m in \u001B[0;36m__new__\u001B[1;34m(subtype, filename, dtype, mode, offset, shape, order)\u001B[0m\n\u001B[0;32m    262\u001B[0m             \u001B[0mbytes\u001B[0m \u001B[1;33m-=\u001B[0m \u001B[0mstart\u001B[0m\u001B[1;33m\u001B[0m\u001B[1;33m\u001B[0m\u001B[0m\n\u001B[0;32m    263\u001B[0m             \u001B[0marray_offset\u001B[0m \u001B[1;33m=\u001B[0m \u001B[0moffset\u001B[0m \u001B[1;33m-\u001B[0m \u001B[0mstart\u001B[0m\u001B[1;33m\u001B[0m\u001B[1;33m\u001B[0m\u001B[0m\n\u001B[1;32m--> 264\u001B[1;33m             \u001B[0mmm\u001B[0m \u001B[1;33m=\u001B[0m \u001B[0mmmap\u001B[0m\u001B[1;33m.\u001B[0m\u001B[0mmmap\u001B[0m\u001B[1;33m(\u001B[0m\u001B[0mfid\u001B[0m\u001B[1;33m.\u001B[0m\u001B[0mfileno\u001B[0m\u001B[1;33m(\u001B[0m\u001B[1;33m)\u001B[0m\u001B[1;33m,\u001B[0m \u001B[0mbytes\u001B[0m\u001B[1;33m,\u001B[0m \u001B[0maccess\u001B[0m\u001B[1;33m=\u001B[0m\u001B[0macc\u001B[0m\u001B[1;33m,\u001B[0m \u001B[0moffset\u001B[0m\u001B[1;33m=\u001B[0m\u001B[0mstart\u001B[0m\u001B[1;33m)\u001B[0m\u001B[1;33m\u001B[0m\u001B[1;33m\u001B[0m\u001B[0m\n\u001B[0m\u001B[0;32m    265\u001B[0m \u001B[1;33m\u001B[0m\u001B[0m\n\u001B[0;32m    266\u001B[0m             self = ndarray.__new__(subtype, shape, dtype=descr, buffer=mm,\n",
      "\u001B[1;31mOverflowError\u001B[0m: memory mapped length must be positive"
     ]
    }
   ],
   "source": [
    "data = read(gui_fname())"
   ]
  },
  {
   "cell_type": "code",
   "execution_count": 25,
   "metadata": {
    "pycharm": {
     "name": "#%%\n"
    }
   },
   "outputs": [
    {
     "data": {
      "text/plain": "HBox(children=(Accordion(children=(VBox(children=(HBox(children=(Label(value='Name'), Text(value='')), layout=…",
      "application/vnd.jupyter.widget-view+json": {
       "version_major": 2,
       "version_minor": 0,
       "model_id": "f7cf23e2a1f0411b8c9580ad89934d55"
      }
     },
     "metadata": {},
     "output_type": "display_data"
    },
    {
     "data": {
      "text/plain": "VBox(children=(HBox(children=(Label(value='Unnamed 0th axis', layout=Layout(width='15%')), IntSlider(value=0, …",
      "application/vnd.jupyter.widget-view+json": {
       "version_major": 2,
       "version_minor": 0,
       "model_id": "2b653fc65729499fbbd1ff4de4f80a42"
      }
     },
     "metadata": {},
     "output_type": "display_data"
    }
   ],
   "source": [
    "data.axes_manager.gui()\n",
    "data.axes_manager.gui_navigation_sliders()\n",
    "data.plot()"
   ]
  },
  {
   "cell_type": "code",
   "execution_count": 9,
   "metadata": {
    "pycharm": {
     "name": "#%%\n"
    }
   },
   "outputs": [
    {
     "ename": "OverflowError",
     "evalue": "memory mapped length must be positive",
     "output_type": "error",
     "traceback": [
      "\u001B[1;31m---------------------------------------------------------------------------\u001B[0m",
      "\u001B[1;31mOverflowError\u001B[0m                             Traceback (most recent call last)",
      "\u001B[1;32m<ipython-input-9-ed458568991d>\u001B[0m in \u001B[0;36m<module>\u001B[1;34m\u001B[0m\n\u001B[1;32m----> 1\u001B[1;33m \u001B[0mdata\u001B[0m \u001B[1;33m=\u001B[0m \u001B[0mhs\u001B[0m\u001B[1;33m.\u001B[0m\u001B[0mload\u001B[0m\u001B[1;33m(\u001B[0m\u001B[1;34m\"data/MoS2_Map1_Copy.spc\"\u001B[0m\u001B[1;33m,\u001B[0m\u001B[0msignal_type\u001B[0m\u001B[1;33m=\u001B[0m\u001B[1;34m\"EDSSEMSpectrum\"\u001B[0m\u001B[1;33m)\u001B[0m\u001B[1;33m\u001B[0m\u001B[1;33m\u001B[0m\u001B[0m\n\u001B[0m",
      "\u001B[1;32m~\\Anaconda3\\envs\\python\\lib\\site-packages\\hyperspy\\io.py\u001B[0m in \u001B[0;36mload\u001B[1;34m(filenames, signal_type, stack, stack_axis, new_axis_name, lazy, convert_units, **kwds)\u001B[0m\n\u001B[0;32m    277\u001B[0m         \u001B[1;32melse\u001B[0m\u001B[1;33m:\u001B[0m\u001B[1;33m\u001B[0m\u001B[1;33m\u001B[0m\u001B[0m\n\u001B[0;32m    278\u001B[0m             \u001B[1;31m# No stack, so simply we load all signals in all files separately\u001B[0m\u001B[1;33m\u001B[0m\u001B[1;33m\u001B[0m\u001B[1;33m\u001B[0m\u001B[0m\n\u001B[1;32m--> 279\u001B[1;33m             objects = [load_single_file(filename, lazy=lazy,\n\u001B[0m\u001B[0;32m    280\u001B[0m                                         **kwds)\n\u001B[0;32m    281\u001B[0m                        for filename in filenames]\n",
      "\u001B[1;32m~\\Anaconda3\\envs\\python\\lib\\site-packages\\hyperspy\\io.py\u001B[0m in \u001B[0;36m<listcomp>\u001B[1;34m(.0)\u001B[0m\n\u001B[0;32m    277\u001B[0m         \u001B[1;32melse\u001B[0m\u001B[1;33m:\u001B[0m\u001B[1;33m\u001B[0m\u001B[1;33m\u001B[0m\u001B[0m\n\u001B[0;32m    278\u001B[0m             \u001B[1;31m# No stack, so simply we load all signals in all files separately\u001B[0m\u001B[1;33m\u001B[0m\u001B[1;33m\u001B[0m\u001B[1;33m\u001B[0m\u001B[0m\n\u001B[1;32m--> 279\u001B[1;33m             objects = [load_single_file(filename, lazy=lazy,\n\u001B[0m\u001B[0;32m    280\u001B[0m                                         **kwds)\n\u001B[0;32m    281\u001B[0m                        for filename in filenames]\n",
      "\u001B[1;32m~\\Anaconda3\\envs\\python\\lib\\site-packages\\hyperspy\\io.py\u001B[0m in \u001B[0;36mload_single_file\u001B[1;34m(filename, **kwds)\u001B[0m\n\u001B[0;32m    316\u001B[0m     \u001B[1;32melse\u001B[0m\u001B[1;33m:\u001B[0m\u001B[1;33m\u001B[0m\u001B[1;33m\u001B[0m\u001B[0m\n\u001B[0;32m    317\u001B[0m         \u001B[0mreader\u001B[0m \u001B[1;33m=\u001B[0m \u001B[0mio_plugins\u001B[0m\u001B[1;33m[\u001B[0m\u001B[0mi\u001B[0m\u001B[1;33m]\u001B[0m\u001B[1;33m\u001B[0m\u001B[1;33m\u001B[0m\u001B[0m\n\u001B[1;32m--> 318\u001B[1;33m         \u001B[1;32mreturn\u001B[0m \u001B[0mload_with_reader\u001B[0m\u001B[1;33m(\u001B[0m\u001B[0mfilename\u001B[0m\u001B[1;33m=\u001B[0m\u001B[0mfilename\u001B[0m\u001B[1;33m,\u001B[0m \u001B[0mreader\u001B[0m\u001B[1;33m=\u001B[0m\u001B[0mreader\u001B[0m\u001B[1;33m,\u001B[0m \u001B[1;33m**\u001B[0m\u001B[0mkwds\u001B[0m\u001B[1;33m)\u001B[0m\u001B[1;33m\u001B[0m\u001B[1;33m\u001B[0m\u001B[0m\n\u001B[0m\u001B[0;32m    319\u001B[0m \u001B[1;33m\u001B[0m\u001B[0m\n\u001B[0;32m    320\u001B[0m \u001B[1;33m\u001B[0m\u001B[0m\n",
      "\u001B[1;32m~\\Anaconda3\\envs\\python\\lib\\site-packages\\hyperspy\\io.py\u001B[0m in \u001B[0;36mload_with_reader\u001B[1;34m(filename, reader, signal_type, convert_units, **kwds)\u001B[0m\n\u001B[0;32m    322\u001B[0m                      **kwds):\n\u001B[0;32m    323\u001B[0m     \u001B[0mlazy\u001B[0m \u001B[1;33m=\u001B[0m \u001B[0mkwds\u001B[0m\u001B[1;33m.\u001B[0m\u001B[0mget\u001B[0m\u001B[1;33m(\u001B[0m\u001B[1;34m'lazy'\u001B[0m\u001B[1;33m,\u001B[0m \u001B[1;32mFalse\u001B[0m\u001B[1;33m)\u001B[0m\u001B[1;33m\u001B[0m\u001B[1;33m\u001B[0m\u001B[0m\n\u001B[1;32m--> 324\u001B[1;33m     file_data_list = reader.file_reader(filename,\n\u001B[0m\u001B[0;32m    325\u001B[0m                                         **kwds)\n\u001B[0;32m    326\u001B[0m     \u001B[0mobjects\u001B[0m \u001B[1;33m=\u001B[0m \u001B[1;33m[\u001B[0m\u001B[1;33m]\u001B[0m\u001B[1;33m\u001B[0m\u001B[1;33m\u001B[0m\u001B[0m\n",
      "\u001B[1;32m~\\Anaconda3\\envs\\python\\lib\\site-packages\\hyperspy\\io_plugins\\edax.py\u001B[0m in \u001B[0;36mfile_reader\u001B[1;34m(filename, record_by, endianess, **kwargs)\u001B[0m\n\u001B[0;32m   1013\u001B[0m                           **kwargs)\n\u001B[0;32m   1014\u001B[0m     \u001B[1;32melif\u001B[0m \u001B[0mext\u001B[0m \u001B[1;32min\u001B[0m \u001B[0mspc_extensions\u001B[0m\u001B[1;33m:\u001B[0m\u001B[1;33m\u001B[0m\u001B[1;33m\u001B[0m\u001B[0m\n\u001B[1;32m-> 1015\u001B[1;33m         return spc_reader(filename,\n\u001B[0m\u001B[0;32m   1016\u001B[0m                           \u001B[0mendianess\u001B[0m\u001B[1;33m,\u001B[0m\u001B[1;33m\u001B[0m\u001B[1;33m\u001B[0m\u001B[0m\n\u001B[0;32m   1017\u001B[0m                           **kwargs)\n",
      "\u001B[1;32m~\\Anaconda3\\envs\\python\\lib\\site-packages\\hyperspy\\io_plugins\\edax.py\u001B[0m in \u001B[0;36mspc_reader\u001B[1;34m(filename, endianess, load_all_spc, **kwargs)\u001B[0m\n\u001B[0;32m    776\u001B[0m \u001B[1;33m\u001B[0m\u001B[0m\n\u001B[0;32m    777\u001B[0m         \u001B[1;31m# Read data from file into a numpy memmap object\u001B[0m\u001B[1;33m\u001B[0m\u001B[1;33m\u001B[0m\u001B[1;33m\u001B[0m\u001B[0m\n\u001B[1;32m--> 778\u001B[1;33m         data = np.memmap(f, mode=mode, offset=data_offset,\n\u001B[0m\u001B[0;32m    779\u001B[0m                          dtype='u4', shape=(1, nz), **kwargs).squeeze()\n\u001B[0;32m    780\u001B[0m \u001B[1;33m\u001B[0m\u001B[0m\n",
      "\u001B[1;32m~\\Anaconda3\\envs\\python\\lib\\site-packages\\numpy\\core\\memmap.py\u001B[0m in \u001B[0;36m__new__\u001B[1;34m(subtype, filename, dtype, mode, offset, shape, order)\u001B[0m\n\u001B[0;32m    262\u001B[0m             \u001B[0mbytes\u001B[0m \u001B[1;33m-=\u001B[0m \u001B[0mstart\u001B[0m\u001B[1;33m\u001B[0m\u001B[1;33m\u001B[0m\u001B[0m\n\u001B[0;32m    263\u001B[0m             \u001B[0marray_offset\u001B[0m \u001B[1;33m=\u001B[0m \u001B[0moffset\u001B[0m \u001B[1;33m-\u001B[0m \u001B[0mstart\u001B[0m\u001B[1;33m\u001B[0m\u001B[1;33m\u001B[0m\u001B[0m\n\u001B[1;32m--> 264\u001B[1;33m             \u001B[0mmm\u001B[0m \u001B[1;33m=\u001B[0m \u001B[0mmmap\u001B[0m\u001B[1;33m.\u001B[0m\u001B[0mmmap\u001B[0m\u001B[1;33m(\u001B[0m\u001B[0mfid\u001B[0m\u001B[1;33m.\u001B[0m\u001B[0mfileno\u001B[0m\u001B[1;33m(\u001B[0m\u001B[1;33m)\u001B[0m\u001B[1;33m,\u001B[0m \u001B[0mbytes\u001B[0m\u001B[1;33m,\u001B[0m \u001B[0maccess\u001B[0m\u001B[1;33m=\u001B[0m\u001B[0macc\u001B[0m\u001B[1;33m,\u001B[0m \u001B[0moffset\u001B[0m\u001B[1;33m=\u001B[0m\u001B[0mstart\u001B[0m\u001B[1;33m)\u001B[0m\u001B[1;33m\u001B[0m\u001B[1;33m\u001B[0m\u001B[0m\n\u001B[0m\u001B[0;32m    265\u001B[0m \u001B[1;33m\u001B[0m\u001B[0m\n\u001B[0;32m    266\u001B[0m             self = ndarray.__new__(subtype, shape, dtype=descr, buffer=mm,\n",
      "\u001B[1;31mOverflowError\u001B[0m: memory mapped length must be positive"
     ]
    }
   ],
   "source": [
    "\n",
    "data = hs.load(\"data/MoS2_Map1_Copy.spc\",signal_type=\"EDSSEMSpectrum\")"
   ]
  },
  {
   "cell_type": "code",
   "execution_count": 7,
   "metadata": {
    "pycharm": {
     "name": "#%%\n"
    }
   },
   "outputs": [],
   "source": []
  },
  {
   "cell_type": "code",
   "execution_count": 12,
   "metadata": {},
   "outputs": [],
   "source": []
  },
  {
   "cell_type": "code",
   "execution_count": 12,
   "metadata": {},
   "outputs": [],
   "source": []
  }
 ],
 "metadata": {
  "kernelspec": {
   "display_name": "Anaconda (research)2",
   "language": "python",
   "name": "myenv"
  },
  "language_info": {
   "codemirror_mode": {
    "name": "ipython",
    "version": 3
   },
   "file_extension": ".py",
   "mimetype": "text/x-python",
   "name": "python",
   "nbconvert_exporter": "python",
   "pygments_lexer": "ipython3",
   "version": "3.8.3"
  }
 },
 "nbformat": 4,
 "nbformat_minor": 4
}