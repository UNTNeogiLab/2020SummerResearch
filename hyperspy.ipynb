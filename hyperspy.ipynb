{
 "cells": [
  {
   "cell_type": "code",
   "execution_count": null,
   "metadata": {
    "pycharm": {
     "name": "#%%\n",
     "is_executing": true
    }
   },
   "outputs": [],
   "source": [
    "%gui qt\n",
    "%matplotlib qt\n",
    "from func import *\n",
    "from importer import *\n",
    "import matplotlib.pyplot as plt\n",
    "import hyperspy.api as hs\n",
    "hs.preferences.gui(toolkit=\"ipywidgets\")\n",
    "print(\"Imported Packages\")\n"
   ]
  },
  {
   "cell_type": "code",
   "execution_count": 2,
   "metadata": {
    "pycharm": {
     "name": "#%%\n"
    }
   },
   "outputs": [
    {
     "name": "stdout",
     "output_type": "stream",
     "text": [
      "wdf\n",
      "                   Title:\tStreamHR image acquisition\n",
      "             WiRE version:\t5.2.0.9499\n",
      "        Laser Wavelength:\t532.1702088206796 nm\n",
      "                   Count:\t45241\n",
      "                Capacity:\t45241\n",
      "      Point Per Spectrum:\t1023\n",
      "               Scan Type:\tStreamLineHR\n",
      "        Measurement Type:\tMapping\n",
      "           Spectral Unit:\tcounts\n",
      "              Xlist Unit:\t1/cm\n",
      "            Xlist Length:\t1023\n",
      "              Ylist Unit:\tpx\n",
      "            Ylist Length:\t1\n",
      "               Xpos Unit:\tμm\n",
      "               Ypos Unit:\tμm\n"
     ]
    }
   ],
   "source": [
    "data = read(gui_fname())"
   ]
  },
  {
   "cell_type": "code",
   "execution_count": 6,
   "metadata": {
    "pycharm": {
     "name": "#%%\n"
    }
   },
   "outputs": [
    {
     "data": {
      "text/plain": "HBox(children=(Accordion(children=(VBox(children=(HBox(children=(Label(value='Name'), Text(value='')), layout=…",
      "application/vnd.jupyter.widget-view+json": {
       "version_major": 2,
       "version_minor": 0,
       "model_id": "a71cecbb16bf423791e16a4498704c6e"
      }
     },
     "metadata": {},
     "output_type": "display_data"
    },
    {
     "data": {
      "text/plain": "VBox(children=(HBox(children=(Label(value='Unnamed 0th axis', layout=Layout(width='15%')), IntSlider(value=0, …",
      "application/vnd.jupyter.widget-view+json": {
       "version_major": 2,
       "version_minor": 0,
       "model_id": "a5a21f83df24443a97acd6d99ff4d311"
      }
     },
     "metadata": {},
     "output_type": "display_data"
    }
   ],
   "source": [
    "data.axes_manager.gui()\n",
    "data.axes_manager.gui_navigation_sliders()\n",
    "#print(data.find_peaks1D_ohaver())\n",
    "data.plot()"
   ]
  },
  {
   "cell_type": "code",
   "execution_count": 8,
   "metadata": {
    "pycharm": {
     "name": "#%%\n"
    }
   },
   "outputs": [
    {
     "ename": "OverflowError",
     "evalue": "memory mapped length must be positive",
     "output_type": "error",
     "traceback": [
      "\u001B[1;31m---------------------------------------------------------------------------\u001B[0m",
      "\u001B[1;31mOverflowError\u001B[0m                             Traceback (most recent call last)",
      "\u001B[1;32m<ipython-input-8-aae6c703892e>\u001B[0m in \u001B[0;36m<module>\u001B[1;34m\u001B[0m\n\u001B[0;32m      1\u001B[0m \u001B[0mnp\u001B[0m\u001B[1;33m.\u001B[0m\u001B[0mversion\u001B[0m\u001B[1;33m\u001B[0m\u001B[1;33m\u001B[0m\u001B[0m\n\u001B[1;32m----> 2\u001B[1;33m \u001B[0mdata\u001B[0m \u001B[1;33m=\u001B[0m \u001B[0mhs\u001B[0m\u001B[1;33m.\u001B[0m\u001B[0mload\u001B[0m\u001B[1;33m(\u001B[0m\u001B[1;34m\"data/RamanSpec.spc\"\u001B[0m\u001B[1;33m,\u001B[0m\u001B[0msignal_type\u001B[0m\u001B[1;33m=\u001B[0m\u001B[1;34m\"EDSSEMSpectrum\"\u001B[0m\u001B[1;33m)\u001B[0m\u001B[1;33m\u001B[0m\u001B[1;33m\u001B[0m\u001B[0m\n\u001B[0m\u001B[0;32m      3\u001B[0m \u001B[1;33m\u001B[0m\u001B[0m\n\u001B[0;32m      4\u001B[0m \u001B[1;33m\u001B[0m\u001B[0m\n",
      "\u001B[1;32m~\\Anaconda3\\envs\\python\\lib\\site-packages\\hyperspy\\io.py\u001B[0m in \u001B[0;36mload\u001B[1;34m(filenames, signal_type, stack, stack_axis, new_axis_name, lazy, convert_units, **kwds)\u001B[0m\n\u001B[0;32m    277\u001B[0m         \u001B[1;32melse\u001B[0m\u001B[1;33m:\u001B[0m\u001B[1;33m\u001B[0m\u001B[1;33m\u001B[0m\u001B[0m\n\u001B[0;32m    278\u001B[0m             \u001B[1;31m# No stack, so simply we load all signals in all files separately\u001B[0m\u001B[1;33m\u001B[0m\u001B[1;33m\u001B[0m\u001B[1;33m\u001B[0m\u001B[0m\n\u001B[1;32m--> 279\u001B[1;33m             objects = [load_single_file(filename, lazy=lazy,\n\u001B[0m\u001B[0;32m    280\u001B[0m                                         **kwds)\n\u001B[0;32m    281\u001B[0m                        for filename in filenames]\n",
      "\u001B[1;32m~\\Anaconda3\\envs\\python\\lib\\site-packages\\hyperspy\\io.py\u001B[0m in \u001B[0;36m<listcomp>\u001B[1;34m(.0)\u001B[0m\n\u001B[0;32m    277\u001B[0m         \u001B[1;32melse\u001B[0m\u001B[1;33m:\u001B[0m\u001B[1;33m\u001B[0m\u001B[1;33m\u001B[0m\u001B[0m\n\u001B[0;32m    278\u001B[0m             \u001B[1;31m# No stack, so simply we load all signals in all files separately\u001B[0m\u001B[1;33m\u001B[0m\u001B[1;33m\u001B[0m\u001B[1;33m\u001B[0m\u001B[0m\n\u001B[1;32m--> 279\u001B[1;33m             objects = [load_single_file(filename, lazy=lazy,\n\u001B[0m\u001B[0;32m    280\u001B[0m                                         **kwds)\n\u001B[0;32m    281\u001B[0m                        for filename in filenames]\n",
      "\u001B[1;32m~\\Anaconda3\\envs\\python\\lib\\site-packages\\hyperspy\\io.py\u001B[0m in \u001B[0;36mload_single_file\u001B[1;34m(filename, **kwds)\u001B[0m\n\u001B[0;32m    316\u001B[0m     \u001B[1;32melse\u001B[0m\u001B[1;33m:\u001B[0m\u001B[1;33m\u001B[0m\u001B[1;33m\u001B[0m\u001B[0m\n\u001B[0;32m    317\u001B[0m         \u001B[0mreader\u001B[0m \u001B[1;33m=\u001B[0m \u001B[0mio_plugins\u001B[0m\u001B[1;33m[\u001B[0m\u001B[0mi\u001B[0m\u001B[1;33m]\u001B[0m\u001B[1;33m\u001B[0m\u001B[1;33m\u001B[0m\u001B[0m\n\u001B[1;32m--> 318\u001B[1;33m         \u001B[1;32mreturn\u001B[0m \u001B[0mload_with_reader\u001B[0m\u001B[1;33m(\u001B[0m\u001B[0mfilename\u001B[0m\u001B[1;33m=\u001B[0m\u001B[0mfilename\u001B[0m\u001B[1;33m,\u001B[0m \u001B[0mreader\u001B[0m\u001B[1;33m=\u001B[0m\u001B[0mreader\u001B[0m\u001B[1;33m,\u001B[0m \u001B[1;33m**\u001B[0m\u001B[0mkwds\u001B[0m\u001B[1;33m)\u001B[0m\u001B[1;33m\u001B[0m\u001B[1;33m\u001B[0m\u001B[0m\n\u001B[0m\u001B[0;32m    319\u001B[0m \u001B[1;33m\u001B[0m\u001B[0m\n\u001B[0;32m    320\u001B[0m \u001B[1;33m\u001B[0m\u001B[0m\n",
      "\u001B[1;32m~\\Anaconda3\\envs\\python\\lib\\site-packages\\hyperspy\\io.py\u001B[0m in \u001B[0;36mload_with_reader\u001B[1;34m(filename, reader, signal_type, convert_units, **kwds)\u001B[0m\n\u001B[0;32m    322\u001B[0m                      **kwds):\n\u001B[0;32m    323\u001B[0m     \u001B[0mlazy\u001B[0m \u001B[1;33m=\u001B[0m \u001B[0mkwds\u001B[0m\u001B[1;33m.\u001B[0m\u001B[0mget\u001B[0m\u001B[1;33m(\u001B[0m\u001B[1;34m'lazy'\u001B[0m\u001B[1;33m,\u001B[0m \u001B[1;32mFalse\u001B[0m\u001B[1;33m)\u001B[0m\u001B[1;33m\u001B[0m\u001B[1;33m\u001B[0m\u001B[0m\n\u001B[1;32m--> 324\u001B[1;33m     file_data_list = reader.file_reader(filename,\n\u001B[0m\u001B[0;32m    325\u001B[0m                                         **kwds)\n\u001B[0;32m    326\u001B[0m     \u001B[0mobjects\u001B[0m \u001B[1;33m=\u001B[0m \u001B[1;33m[\u001B[0m\u001B[1;33m]\u001B[0m\u001B[1;33m\u001B[0m\u001B[1;33m\u001B[0m\u001B[0m\n",
      "\u001B[1;32m~\\Anaconda3\\envs\\python\\lib\\site-packages\\hyperspy\\io_plugins\\edax.py\u001B[0m in \u001B[0;36mfile_reader\u001B[1;34m(filename, record_by, endianess, **kwargs)\u001B[0m\n\u001B[0;32m   1013\u001B[0m                           **kwargs)\n\u001B[0;32m   1014\u001B[0m     \u001B[1;32melif\u001B[0m \u001B[0mext\u001B[0m \u001B[1;32min\u001B[0m \u001B[0mspc_extensions\u001B[0m\u001B[1;33m:\u001B[0m\u001B[1;33m\u001B[0m\u001B[1;33m\u001B[0m\u001B[0m\n\u001B[1;32m-> 1015\u001B[1;33m         return spc_reader(filename,\n\u001B[0m\u001B[0;32m   1016\u001B[0m                           \u001B[0mendianess\u001B[0m\u001B[1;33m,\u001B[0m\u001B[1;33m\u001B[0m\u001B[1;33m\u001B[0m\u001B[0m\n\u001B[0;32m   1017\u001B[0m                           **kwargs)\n",
      "\u001B[1;32m~\\Anaconda3\\envs\\python\\lib\\site-packages\\hyperspy\\io_plugins\\edax.py\u001B[0m in \u001B[0;36mspc_reader\u001B[1;34m(filename, endianess, load_all_spc, **kwargs)\u001B[0m\n\u001B[0;32m    776\u001B[0m \u001B[1;33m\u001B[0m\u001B[0m\n\u001B[0;32m    777\u001B[0m         \u001B[1;31m# Read data from file into a numpy memmap object\u001B[0m\u001B[1;33m\u001B[0m\u001B[1;33m\u001B[0m\u001B[1;33m\u001B[0m\u001B[0m\n\u001B[1;32m--> 778\u001B[1;33m         data = np.memmap(f, mode=mode, offset=data_offset,\n\u001B[0m\u001B[0;32m    779\u001B[0m                          dtype='u4', shape=(1, nz), **kwargs).squeeze()\n\u001B[0;32m    780\u001B[0m \u001B[1;33m\u001B[0m\u001B[0m\n",
      "\u001B[1;32m~\\Anaconda3\\envs\\python\\lib\\site-packages\\numpy\\core\\memmap.py\u001B[0m in \u001B[0;36m__new__\u001B[1;34m(subtype, filename, dtype, mode, offset, shape, order)\u001B[0m\n\u001B[0;32m    262\u001B[0m             \u001B[0mbytes\u001B[0m \u001B[1;33m-=\u001B[0m \u001B[0mstart\u001B[0m\u001B[1;33m\u001B[0m\u001B[1;33m\u001B[0m\u001B[0m\n\u001B[0;32m    263\u001B[0m             \u001B[0marray_offset\u001B[0m \u001B[1;33m=\u001B[0m \u001B[0moffset\u001B[0m \u001B[1;33m-\u001B[0m \u001B[0mstart\u001B[0m\u001B[1;33m\u001B[0m\u001B[1;33m\u001B[0m\u001B[0m\n\u001B[1;32m--> 264\u001B[1;33m             \u001B[0mmm\u001B[0m \u001B[1;33m=\u001B[0m \u001B[0mmmap\u001B[0m\u001B[1;33m.\u001B[0m\u001B[0mmmap\u001B[0m\u001B[1;33m(\u001B[0m\u001B[0mfid\u001B[0m\u001B[1;33m.\u001B[0m\u001B[0mfileno\u001B[0m\u001B[1;33m(\u001B[0m\u001B[1;33m)\u001B[0m\u001B[1;33m,\u001B[0m \u001B[0mbytes\u001B[0m\u001B[1;33m,\u001B[0m \u001B[0maccess\u001B[0m\u001B[1;33m=\u001B[0m\u001B[0macc\u001B[0m\u001B[1;33m,\u001B[0m \u001B[0moffset\u001B[0m\u001B[1;33m=\u001B[0m\u001B[0mstart\u001B[0m\u001B[1;33m)\u001B[0m\u001B[1;33m\u001B[0m\u001B[1;33m\u001B[0m\u001B[0m\n\u001B[0m\u001B[0;32m    265\u001B[0m \u001B[1;33m\u001B[0m\u001B[0m\n\u001B[0;32m    266\u001B[0m             self = ndarray.__new__(subtype, shape, dtype=descr, buffer=mm,\n",
      "\u001B[1;31mOverflowError\u001B[0m: memory mapped length must be positive"
     ]
    }
   ],
   "source": [
    "\n",
    "data = hs.load(\"data/RamanSpec.spc\",signal_type=\"EDSSEMSpectrum\")\n"
   ]
  },
  {
   "cell_type": "code",
   "execution_count": 14,
   "metadata": {
    "pycharm": {
     "name": "#%%\n"
    }
   },
   "outputs": [
    {
     "data": {
      "text/plain": "├── General\n│   └── title = \n└── Signal\n    ├── binned = False\n    └── signal_type = "
     },
     "execution_count": 14,
     "metadata": {},
     "output_type": "execute_result"
    }
   ],
   "source": [
    "data.metadata\n",
    "`"
   ]
  },
  {
   "cell_type": "code",
   "execution_count": 12,
   "metadata": {},
   "outputs": [],
   "source": []
  },
  {
   "cell_type": "code",
   "execution_count": 12,
   "metadata": {},
   "outputs": [],
   "source": []
  }
 ],
 "metadata": {
  "kernelspec": {
   "display_name": "Anaconda (research)2",
   "language": "python",
   "name": "myenv"
  },
  "language_info": {
   "codemirror_mode": {
    "name": "ipython",
    "version": 3
   },
   "file_extension": ".py",
   "mimetype": "text/x-python",
   "name": "python",
   "nbconvert_exporter": "python",
   "pygments_lexer": "ipython3",
   "version": "3.8.3"
  }
 },
 "nbformat": 4,
 "nbformat_minor": 4
}