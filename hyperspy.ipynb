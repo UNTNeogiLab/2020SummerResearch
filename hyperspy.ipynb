{
 "cells": [
  {
   "cell_type": "markdown",
   "metadata": {},
   "source": [
    "## Basic hyperspy importing\n",
    "Currently supports importing wdf, txt, jpg, along with some hyperspy supported formats\n",
    "Run this cell to import packages"
   ]
  },
  {
   "cell_type": "code",
   "execution_count": 10,
   "metadata": {
    "pycharm": {
     "name": "#%%\n"
    }
   },
   "outputs": [
    {
     "name": "stdout",
     "output_type": "stream",
     "text": [
      "Imported Packages\n"
     ]
    }
   ],
   "source": [
    "%matplotlib widget\n",
    "from ipywidgets import interact, interactive, fixed, interact_manual\n",
    "import ipywidgets as widgets\n",
    "from utils.importer import *\n",
    "from utils.func import *\n",
    "import matplotlib.pyplot as plt\n",
    "import hyperspy.api as hs\n",
    "#hs.preferences.gui()\n",
    "print(\"Imported Packages\")"
   ]
  },
  {
   "cell_type": "markdown",
   "metadata": {},
   "source": [
    "This cell imports files"
   ]
  },
  {
   "cell_type": "code",
   "execution_count": 13,
   "metadata": {
    "collapsed": false,
    "jupyter": {
     "outputs_hidden": false
    },
    "pycharm": {
     "name": "#%%\n"
    }
   },
   "outputs": [],
   "source": [
    "data = read(gui_fname().decode(\"utf-8\"))"
   ]
  },
  {
   "cell_type": "markdown",
   "metadata": {
    "pycharm": {
     "name": "#%% md\n"
    }
   },
   "source": [
    "This cell will plot the data you just imported to the right"
   ]
  },
  {
   "cell_type": "code",
   "execution_count": 14,
   "metadata": {
    "collapsed": false,
    "jupyter": {
     "outputs_hidden": false
    },
    "pycharm": {
     "name": "#%%\n"
    }
   },
   "outputs": [
    {
     "data": {
      "application/vnd.jupyter.widget-view+json": {
       "model_id": "de39d6118a184dad86a81303c285624c",
       "version_major": 2,
       "version_minor": 0
      },
      "text/plain": [
       "Canvas(toolbar=Toolbar(toolitems=[('Home', 'Reset original view', 'home', 'home'), ('Back', 'Back to previous …"
      ]
     },
     "metadata": {},
     "output_type": "display_data"
    },
    {
     "data": {
      "application/vnd.jupyter.widget-view+json": {
       "model_id": "7d8b83dd87c54eb69104d5f77d3b22b2",
       "version_major": 2,
       "version_minor": 0
      },
      "text/plain": [
       "Canvas(toolbar=Toolbar(toolitems=[('Home', 'Reset original view', 'home', 'home'), ('Back', 'Back to previous …"
      ]
     },
     "metadata": {},
     "output_type": "display_data"
    }
   ],
   "source": [
    "data.plot()"
   ]
  },
  {
   "cell_type": "markdown",
   "source": [
    "# TROUBLESHOOTING\n",
    "If you can't plot it, run the following commands\n",
    "`conda env create -f config/environment.yml` if no environment exists already\n",
    "`conda env update --prefix ./env --file config/environment.yml  --prune` to update an existing environment\n",
    "`conda activate python`\n",
    "`jupyter lab workspaces import config/lab.json`\n",
    "`jupyter labextension install @jupyter-widgets/jupyterlab-manager`\n",
    "then restart the jupyter kernel"
   ],
   "metadata": {
    "collapsed": false
   }
  },
  {
   "cell_type": "markdown",
   "source": [
    "## Beyond this are expiremental areas\n",
    "Most of this code doesn't work yet"
   ],
   "metadata": {
    "collapsed": false
   }
  },
  {
   "cell_type": "markdown",
   "metadata": {},
   "source": [
    "\n",
    "w = widgets.IntSlider()"
   ]
  },
  {
   "cell_type": "markdown",
   "metadata": {},
   "source": [
    "## Beyond this are expiremental areas\n",
    "Most of this code doesn't work yet"
   ]
  },
  {
   "cell_type": "code",
   "execution_count": 3,
   "metadata": {
    "collapsed": false,
    "jupyter": {
     "outputs_hidden": false
    },
    "pycharm": {
     "name": "#%%\n"
    }
   },
   "outputs": [],
   "source": [
    "\n",
    "w = widgets.IntSlider()"
   ]
  },
  {
   "cell_type": "code",
   "execution_count": null,
   "metadata": {
    "collapsed": false,
    "jupyter": {
     "outputs_hidden": false
    },
    "pycharm": {
     "name": "#%%\n"
    }
   },
   "outputs": [],
   "source": [
    "output = widgets.Output()\n",
    "def on_change(change):\n",
    "    with output:\n",
    "        print ( \"Hi\")\n",
    "        plt.close('all')\n",
    "        data.isig[int(w.value)].plot()\n",
    "\n",
    "w.observe(on_change, names = 'value')\n",
    "display(w, output)"
   ]
  },
  {
   "cell_type": "code",
   "execution_count": null,
   "metadata": {
    "collapsed": false,
    "jupyter": {
     "outputs_hidden": false
    },
    "pycharm": {
     "name": "#%%\n"
    }
   },
   "outputs": [],
   "source": [
    "data.isig[int(w.value)].plot()"
   ]
  },
  {
   "cell_type": "code",
   "execution_count": null,
   "metadata": {},
   "outputs": [],
   "source": [
    "data.spikes_removal_tool()"
   ]
  }
 ],
 "metadata": {
  "kernelspec": {
   "display_name": "Anaconda (research)2",
   "language": "python",
   "name": "myenv"
  },
  "language_info": {
   "codemirror_mode": {
    "name": "ipython",
    "version": 3
   },
   "file_extension": ".py",
   "mimetype": "text/x-python",
   "name": "python",
   "nbconvert_exporter": "python",
   "pygments_lexer": "ipython3",
   "version": "3.8.3"
  },
  "widgets": {
   "application/vnd.jupyter.widget-state+json": {
    "state": {
     "00e5502110c34a188ebb92e7c890e664": {
      "model_module": "@jupyter-widgets/controls",
      "model_module_version": "1.5.0",
      "model_name": "DescriptionStyleModel",
      "state": {
       "description_width": ""
      }
     },
     "011b8e5f4ec84654901f9800fb02ed24": {
      "model_module": "@jupyter-widgets/controls",
      "model_module_version": "1.5.0",
      "model_name": "DescriptionStyleModel",
      "state": {
       "description_width": ""
      }
     },
     "017d3d0836a0495b902a3e45f0cf0117": {
      "model_module": "@jupyter-widgets/base",
      "model_module_version": "1.2.0",
      "model_name": "LayoutModel",
      "state": {}
     },
     "017fbb53661e4d09a410b121931f4419": {
      "model_module": "@jupyter-widgets/controls",
      "model_module_version": "1.5.0",
      "model_name": "CheckboxModel",
      "state": {
       "disabled": false,
       "layout": "IPY_MODEL_2454ca7962564f84b989d474b9c1f8eb",
       "style": "IPY_MODEL_d78c482cfe2c4f5a800e8d062bceffc1",
       "value": true
      }
     },
     "026fe0970a2c4afcaf1f0b53cc3b9622": {
      "model_module": "@jupyter-widgets/controls",
      "model_module_version": "1.5.0",
      "model_name": "DescriptionStyleModel",
      "state": {
       "description_width": ""
      }
     },
     "0282b5bcbe28439ba2a8cf4f7c1168b5": {
      "model_module": "@jupyter-widgets/base",
      "model_module_version": "1.2.0",
      "model_name": "LayoutModel",
      "state": {}
     },
     "02ae41fccd384bcb9e19332f149b46b1": {
      "model_module": "@jupyter-widgets/output",
      "model_module_version": "1.0.0",
      "model_name": "OutputModel",
      "state": {
       "layout": "IPY_MODEL_26d30353458a4b28a594e0761cce0433",
       "outputs": [
        {
         "name": "stdout",
         "output_type": "stream",
         "text": "Hi\n"
        },
        {
         "data": {
          "application/vnd.jupyter.widget-view+json": {
           "model_id": "",
           "version_major": 2,
           "version_minor": 0
          },
          "text/plain": "Canvas(toolbar=Toolbar(toolitems=[('Home', 'Reset original view', 'home', 'home'), ('Back', 'Back to previous …"
         },
         "metadata": {},
         "output_type": "display_data"
        },
        {
         "name": "stdout",
         "output_type": "stream",
         "text": "Hi\n"
        },
        {
         "data": {
          "application/vnd.jupyter.widget-view+json": {
           "model_id": "",
           "version_major": 2,
           "version_minor": 0
          },
          "text/plain": "Canvas(toolbar=Toolbar(toolitems=[('Home', 'Reset original view', 'home', 'home'), ('Back', 'Back to previous …"
         },
         "metadata": {},
         "output_type": "display_data"
        },
        {
         "name": "stdout",
         "output_type": "stream",
         "text": "Hi\n"
        },
        {
         "data": {
          "application/vnd.jupyter.widget-view+json": {
           "model_id": "",
           "version_major": 2,
           "version_minor": 0
          },
          "text/plain": "Canvas(toolbar=Toolbar(toolitems=[('Home', 'Reset original view', 'home', 'home'), ('Back', 'Back to previous …"
         },
         "metadata": {},
         "output_type": "display_data"
        },
        {
         "name": "stdout",
         "output_type": "stream",
         "text": "Hi\n"
        },
        {
         "data": {
          "application/vnd.jupyter.widget-view+json": {
           "model_id": "",
           "version_major": 2,
           "version_minor": 0
          },
          "text/plain": "Canvas(toolbar=Toolbar(toolitems=[('Home', 'Reset original view', 'home', 'home'), ('Back', 'Back to previous …"
         },
         "metadata": {},
         "output_type": "display_data"
        },
        {
         "name": "stdout",
         "output_type": "stream",
         "text": "Hi\n"
        },
        {
         "data": {
          "application/vnd.jupyter.widget-view+json": {
           "model_id": "",
           "version_major": 2,
           "version_minor": 0
          },
          "text/plain": "Canvas(toolbar=Toolbar(toolitems=[('Home', 'Reset original view', 'home', 'home'), ('Back', 'Back to previous …"
         },
         "metadata": {},
         "output_type": "display_data"
        },
        {
         "name": "stdout",
         "output_type": "stream",
         "text": "Hi\n"
        },
        {
         "data": {
          "application/vnd.jupyter.widget-view+json": {
           "model_id": "",
           "version_major": 2,
           "version_minor": 0
          },
          "text/plain": "Canvas(toolbar=Toolbar(toolitems=[('Home', 'Reset original view', 'home', 'home'), ('Back', 'Back to previous …"
         },
         "metadata": {},
         "output_type": "display_data"
        },
        {
         "name": "stdout",
         "output_type": "stream",
         "text": "Hi\n"
        },
        {
         "data": {
          "application/vnd.jupyter.widget-view+json": {
           "model_id": "",
           "version_major": 2,
           "version_minor": 0
          },
          "text/plain": "Canvas(toolbar=Toolbar(toolitems=[('Home', 'Reset original view', 'home', 'home'), ('Back', 'Back to previous …"
         },
         "metadata": {},
         "output_type": "display_data"
        },
        {
         "name": "stdout",
         "output_type": "stream",
         "text": "Hi\n"
        },
        {
         "data": {
          "application/vnd.jupyter.widget-view+json": {
           "model_id": "",
           "version_major": 2,
           "version_minor": 0
          },
          "text/plain": "Canvas(toolbar=Toolbar(toolitems=[('Home', 'Reset original view', 'home', 'home'), ('Back', 'Back to previous …"
         },
         "metadata": {},
         "output_type": "display_data"
        },
        {
         "name": "stdout",
         "output_type": "stream",
         "text": "Hi\n"
        },
        {
         "data": {
          "application/vnd.jupyter.widget-view+json": {
           "model_id": "",
           "version_major": 2,
           "version_minor": 0
          },
          "text/plain": "Canvas(toolbar=Toolbar(toolitems=[('Home', 'Reset original view', 'home', 'home'), ('Back', 'Back to previous …"
         },
         "metadata": {},
         "output_type": "display_data"
        },
        {
         "name": "stdout",
         "output_type": "stream",
         "text": "Hi\n"
        },
        {
         "data": {
          "application/vnd.jupyter.widget-view+json": {
           "model_id": "",
           "version_major": 2,
           "version_minor": 0
          },
          "text/plain": "Canvas(toolbar=Toolbar(toolitems=[('Home', 'Reset original view', 'home', 'home'), ('Back', 'Back to previous …"
         },
         "metadata": {},
         "output_type": "display_data"
        },
        {
         "name": "stdout",
         "output_type": "stream",
         "text": "Hi\n"
        },
        {
         "data": {
          "application/vnd.jupyter.widget-view+json": {
           "model_id": "",
           "version_major": 2,
           "version_minor": 0
          },
          "text/plain": "Canvas(toolbar=Toolbar(toolitems=[('Home', 'Reset original view', 'home', 'home'), ('Back', 'Back to previous …"
         },
         "metadata": {},
         "output_type": "display_data"
        },
        {
         "name": "stdout",
         "output_type": "stream",
         "text": "Hi\n"
        },
        {
         "data": {
          "application/vnd.jupyter.widget-view+json": {
           "model_id": "",
           "version_major": 2,
           "version_minor": 0
          },
          "text/plain": "Canvas(toolbar=Toolbar(toolitems=[('Home', 'Reset original view', 'home', 'home'), ('Back', 'Back to previous …"
         },
         "metadata": {},
         "output_type": "display_data"
        },
        {
         "name": "stdout",
         "output_type": "stream",
         "text": "Hi\n"
        },
        {
         "data": {
          "application/vnd.jupyter.widget-view+json": {
           "model_id": "",
           "version_major": 2,
           "version_minor": 0
          },
          "text/plain": "Canvas(toolbar=Toolbar(toolitems=[('Home', 'Reset original view', 'home', 'home'), ('Back', 'Back to previous …"
         },
         "metadata": {},
         "output_type": "display_data"
        }
       ]
      }
     },
     "02ccf33784c14525a92d5f8963fe3938": {
      "model_module": "@jupyter-widgets/controls",
      "model_module_version": "1.5.0",
      "model_name": "HBoxModel",
      "state": {
       "children": [
        "IPY_MODEL_b05d3d2d7b154e679b4d1612dc0891b1",
        "IPY_MODEL_77ace1ba82a7467598ce2af6e77a4135"
       ],
       "layout": "IPY_MODEL_3c03c17e3313474f9c52dfc995e73901"
      }
     },
     "036eafeac1cb486193c200e519e961d6": {
      "model_module": "@jupyter-widgets/controls",
      "model_module_version": "1.5.0",
      "model_name": "HBoxModel",
      "state": {
       "children": [
        "IPY_MODEL_f84c6cc0fee94558a34a86e40fc12c53",
        "IPY_MODEL_c828ff6247684d9b8447fed52c07e28a"
       ],
       "layout": "IPY_MODEL_3c03c17e3313474f9c52dfc995e73901"
      }
     },
     "03cc5b09b42b4ab6a79c83231660abe1": {
      "model_module": "@jupyter-widgets/controls",
      "model_module_version": "1.5.0",
      "model_name": "DescriptionStyleModel",
      "state": {
       "description_width": ""
      }
     },
     "04127f8914aa474997938182bf34be60": {
      "model_module": "@jupyter-widgets/base",
      "model_module_version": "1.2.0",
      "model_name": "LayoutModel",
      "state": {
       "width": "auto"
      }
     },
     "061663fa95fa4e3ead650138a799c76b": {
      "model_module": "@jupyter-widgets/base",
      "model_module_version": "1.2.0",
      "model_name": "LayoutModel",
      "state": {}
     },
     "0663bd7cf62f48048b67666a803be62e": {
      "model_module": "@jupyter-widgets/controls",
      "model_module_version": "1.5.0",
      "model_name": "LabelModel",
      "state": {
       "layout": "IPY_MODEL_20cfbeaacc7b4153825256bc6c3a716d",
       "style": "IPY_MODEL_4446edab92634984a8255f37e456f147",
       "value": "Modifier key for 3rd and 4th dimensions"
      }
     },
     "06a693eacee04e959925d228fa278885": {
      "model_module": "@jupyter-widgets/base",
      "model_module_version": "1.2.0",
      "model_name": "LayoutModel",
      "state": {
       "width": "auto"
      }
     },
     "06faa37bf6924428a2db59cca79ef126": {
      "model_module": "@jupyter-widgets/controls",
      "model_module_version": "1.5.0",
      "model_name": "VBoxModel",
      "state": {
       "children": [
        "IPY_MODEL_7193a2dfaeb54f7da6596c569cc82251",
        "IPY_MODEL_fedca682b4d44b899526f13fe1961a51",
        "IPY_MODEL_541a4681dd08478b87e3211cabd729f5",
        "IPY_MODEL_503923309acc4ab6b79b66fa30b68779",
        "IPY_MODEL_646c557de8ff4b91822bc811241caf4b",
        "IPY_MODEL_3c7c6e7678684a38b431c203103ce6bb"
       ],
       "layout": "IPY_MODEL_061663fa95fa4e3ead650138a799c76b"
      }
     },
     "0738c00b32a8453ca39b5b7e704f51b6": {
      "model_module": "@jupyter-widgets/base",
      "model_module_version": "1.2.0",
      "model_name": "LayoutModel",
      "state": {
       "width": "auto"
      }
     },
     "07eecad7c2ea421dbe82bff47f5e7e3a": {
      "model_module": "@jupyter-widgets/base",
      "model_module_version": "1.2.0",
      "model_name": "LayoutModel",
      "state": {
       "width": "auto"
      }
     },
     "084610f3653f46c69e7a0b6ea65f0834": {
      "model_module": "@jupyter-widgets/base",
      "model_module_version": "1.2.0",
      "model_name": "LayoutModel",
      "state": {}
     },
     "0870bf81ef39458cad9e7b66ae9e0082": {
      "model_module": "@jupyter-widgets/controls",
      "model_module_version": "1.5.0",
      "model_name": "HBoxModel",
      "state": {
       "children": [
        "IPY_MODEL_8cde353105894d839f81ae6f1aadd189",
        "IPY_MODEL_f7be9ec154dd4fcbbe6ea7bf13e05407"
       ],
       "layout": "IPY_MODEL_3c03c17e3313474f9c52dfc995e73901"
      }
     },
     "0887201b71c440bd920aeeb066bf95f1": {
      "model_module": "@jupyter-widgets/controls",
      "model_module_version": "1.5.0",
      "model_name": "HBoxModel",
      "state": {
       "children": [
        "IPY_MODEL_6b05a321da3d4ed4a64b6d7284564555",
        "IPY_MODEL_63016a39914541c68661897c128e57a1"
       ],
       "layout": "IPY_MODEL_3c03c17e3313474f9c52dfc995e73901"
      }
     },
     "092ef20b34fe4eeba06a7807f723a89f": {
      "model_module": "@jupyter-widgets/controls",
      "model_module_version": "1.5.0",
      "model_name": "HBoxModel",
      "state": {
       "children": [
        "IPY_MODEL_0663bd7cf62f48048b67666a803be62e",
        "IPY_MODEL_a933059ee2e14369a2e70d4c865eef9f"
       ],
       "layout": "IPY_MODEL_3c03c17e3313474f9c52dfc995e73901"
      }
     },
     "09898e1b2cf840deb12a212721686e5a": {
      "model_module": "@jupyter-widgets/base",
      "model_module_version": "1.2.0",
      "model_name": "LayoutModel",
      "state": {}
     },
     "09aaf742b14446bfa9f471114408be7b": {
      "model_module": "@jupyter-widgets/controls",
      "model_module_version": "1.5.0",
      "model_name": "DescriptionStyleModel",
      "state": {
       "description_width": ""
      }
     },
     "09d0fc12b34741fc93c44ec759362153": {
      "model_module": "@jupyter-widgets/base",
      "model_module_version": "1.2.0",
      "model_name": "LayoutModel",
      "state": {}
     },
     "0a3428e4204241ffa6932826bb1dfc66": {
      "model_module": "@jupyter-widgets/controls",
      "model_module_version": "1.5.0",
      "model_name": "DescriptionStyleModel",
      "state": {
       "description_width": ""
      }
     },
     "0abc657e3e944317af3807f7cb5eef07": {
      "model_module": "@jupyter-widgets/base",
      "model_module_version": "1.2.0",
      "model_name": "LayoutModel",
      "state": {
       "width": "auto"
      }
     },
     "0b1cf156254b4e4b9b7346e6b8e2eadb": {
      "model_module": "@jupyter-widgets/controls",
      "model_module_version": "1.5.0",
      "model_name": "DescriptionStyleModel",
      "state": {
       "description_width": ""
      }
     },
     "0c0fc20f33f44b3dac5c4a454521b67f": {
      "model_module": "@jupyter-widgets/controls",
      "model_module_version": "1.5.0",
      "model_name": "DropdownModel",
      "state": {
       "_options_labels": [
        "CRITICAL",
        "ERROR",
        "WARNING",
        "INFO",
        "DEBUG"
       ],
       "index": 2,
       "layout": "IPY_MODEL_e8dbf35c907f40fbaec1eafbc8653d22",
       "style": "IPY_MODEL_710d9ceb07eb41e4a05fd81df8240e88"
      }
     },
     "0c1bfeff08a74d11a8168dae6846b218": {
      "model_module": "@jupyter-widgets/base",
      "model_module_version": "1.2.0",
      "model_name": "LayoutModel",
      "state": {}
     },
     "0d4fc0d8e5374acdb36586edf6ebf017": {
      "model_module": "@jupyter-widgets/base",
      "model_module_version": "1.2.0",
      "model_name": "LayoutModel",
      "state": {
       "width": "auto"
      }
     },
     "0f5311b9c7fd4e9693f42fb5be2aafda": {
      "model_module": "@jupyter-widgets/base",
      "model_module_version": "1.2.0",
      "model_name": "LayoutModel",
      "state": {}
     },
     "0fe332c8ef4143bda7021375f95ca4df": {
      "model_module": "@jupyter-widgets/controls",
      "model_module_version": "1.5.0",
      "model_name": "DescriptionStyleModel",
      "state": {
       "description_width": ""
      }
     },
     "0fe514de222a45f8bfbafc29258ca086": {
      "model_module": "@jupyter-widgets/controls",
      "model_module_version": "1.5.0",
      "model_name": "IntTextModel",
      "state": {
       "layout": "IPY_MODEL_550db49d5df04a9ca07a48b470c00d0e",
       "step": 1,
       "style": "IPY_MODEL_921f3e7ef014484db02cd89305062dfc",
       "value": 5
      }
     },
     "0ffde4b00a7c4ec4a5845493347da8df": {
      "model_module": "@jupyter-widgets/controls",
      "model_module_version": "1.5.0",
      "model_name": "ButtonModel",
      "state": {
       "description": "Save",
       "layout": "IPY_MODEL_f174e21d26bf441b8d3632582a3aa4c6",
       "style": "IPY_MODEL_9401bd05cf5d4f9eb6b91dc5f4a4e162",
       "tooltip": "Make changes permanent"
      }
     },
     "1086642ab3d742ffbe9e266fa648c354": {
      "model_module": "@jupyter-widgets/controls",
      "model_module_version": "1.5.0",
      "model_name": "HBoxModel",
      "state": {
       "children": [
        "IPY_MODEL_3280343014494d9bb485d6752d5551f7",
        "IPY_MODEL_b6ae1677cb5a4391909e39f001edfd02"
       ],
       "layout": "IPY_MODEL_3c03c17e3313474f9c52dfc995e73901"
      }
     },
     "10ac24f44c6d43e7a8a552df8f7c6a45": {
      "model_module": "@jupyter-widgets/controls",
      "model_module_version": "1.5.0",
      "model_name": "CheckboxModel",
      "state": {
       "disabled": false,
       "layout": "IPY_MODEL_1c7eb0bb65da43dab1bba149dbede975",
       "style": "IPY_MODEL_711027fd7c1b48869b925c03d58c6349",
       "value": true
      }
     },
     "10c12ef4ed6a410885fa2f6f1b6aa819": {
      "model_module": "@jupyter-widgets/base",
      "model_module_version": "1.2.0",
      "model_name": "LayoutModel",
      "state": {
       "width": "auto"
      }
     },
     "118beb7050844e8f9f966e7bd0437015": {
      "model_module": "@jupyter-widgets/controls",
      "model_module_version": "1.5.0",
      "model_name": "HBoxModel",
      "state": {
       "children": [
        "IPY_MODEL_b24e1bf115e74623920ecdaaf593d6fe",
        "IPY_MODEL_0c0fc20f33f44b3dac5c4a454521b67f"
       ],
       "layout": "IPY_MODEL_3c03c17e3313474f9c52dfc995e73901"
      }
     },
     "11db174970394d53b669fe58b37fb98d": {
      "model_module": "@jupyter-widgets/controls",
      "model_module_version": "1.5.0",
      "model_name": "ButtonStyleModel",
      "state": {}
     },
     "122d02b190a24f33a030baaca2b4156b": {
      "model_module": "@jupyter-widgets/controls",
      "model_module_version": "1.5.0",
      "model_name": "DescriptionStyleModel",
      "state": {
       "description_width": ""
      }
     },
     "13497bb3db6d47caae204467d5d474dc": {
      "model_module": "@jupyter-widgets/base",
      "model_module_version": "1.2.0",
      "model_name": "LayoutModel",
      "state": {}
     },
     "14102014f2d347a08333f9e250fe0c50": {
      "model_module": "@jupyter-widgets/controls",
      "model_module_version": "1.5.0",
      "model_name": "CheckboxModel",
      "state": {
       "disabled": false,
       "layout": "IPY_MODEL_34887ec62b0b42e38fc7f8ed42dc8467",
       "style": "IPY_MODEL_7c16ecfaebbb480fa4122f91f5ae5e0a",
       "value": false
      }
     },
     "150bc7502cd84f1ea2651c6ed568a1fc": {
      "model_module": "@jupyter-widgets/controls",
      "model_module_version": "1.5.0",
      "model_name": "ButtonModel",
      "state": {
       "description": "Save",
       "layout": "IPY_MODEL_0f5311b9c7fd4e9693f42fb5be2aafda",
       "style": "IPY_MODEL_189c7a8125104956a62806d14b2febef",
       "tooltip": "Make changes permanent"
      }
     },
     "151366a6339142c0ab60cffc28d7bc32": {
      "model_module": "@jupyter-widgets/base",
      "model_module_version": "1.2.0",
      "model_name": "LayoutModel",
      "state": {}
     },
     "15f4de9e03c047208db0931d93100fbb": {
      "model_module": "@jupyter-widgets/base",
      "model_module_version": "1.2.0",
      "model_name": "LayoutModel",
      "state": {}
     },
     "1638354239c54fe5b95c430e81204746": {
      "model_module": "@jupyter-widgets/base",
      "model_module_version": "1.2.0",
      "model_name": "LayoutModel",
      "state": {}
     },
     "17a673f889854924b34020e3220d62ed": {
      "model_module": "@jupyter-widgets/controls",
      "model_module_version": "1.5.0",
      "model_name": "VBoxModel",
      "state": {
       "children": [
        "IPY_MODEL_ec4880df95494fe0ab744c343a3e33e2"
       ],
       "layout": "IPY_MODEL_a77d6b38be324a21afcd033594fce90b"
      }
     },
     "17b64be71b474d85b2c9966b161dd037": {
      "model_module": "@jupyter-widgets/base",
      "model_module_version": "1.2.0",
      "model_name": "LayoutModel",
      "state": {}
     },
     "184e06583bd44b2f80e005bc8afc26e6": {
      "model_module": "@jupyter-widgets/base",
      "model_module_version": "1.2.0",
      "model_name": "LayoutModel",
      "state": {}
     },
     "189c7a8125104956a62806d14b2febef": {
      "model_module": "@jupyter-widgets/controls",
      "model_module_version": "1.5.0",
      "model_name": "ButtonStyleModel",
      "state": {}
     },
     "18a98ad5fbc54ea49c8c678ab705ef5c": {
      "model_module": "@jupyter-widgets/controls",
      "model_module_version": "1.5.0",
      "model_name": "LabelModel",
      "state": {
       "layout": "IPY_MODEL_46ddd3af99ac4febac9d4ff7f3045d7a",
       "style": "IPY_MODEL_d85f3060b2e74508858d48930c65bdbf",
       "value": "Navigate right"
      }
     },
     "1957424312744c1dacc41199ece0bbec": {
      "model_module": "@jupyter-widgets/controls",
      "model_module_version": "1.5.0",
      "model_name": "HBoxModel",
      "state": {
       "children": [
        "IPY_MODEL_25180d8e43954b2697ac16bbfde13004",
        "IPY_MODEL_a87f9a2f99f7473d85e529c1612730aa"
       ],
       "layout": "IPY_MODEL_3c03c17e3313474f9c52dfc995e73901"
      }
     },
     "19954a708eb640bcaaa535794d628114": {
      "model_module": "@jupyter-widgets/controls",
      "model_module_version": "1.5.0",
      "model_name": "CheckboxModel",
      "state": {
       "disabled": false,
       "layout": "IPY_MODEL_b681c6275a3c499daf17f1ae0f550634",
       "style": "IPY_MODEL_03cc5b09b42b4ab6a79c83231660abe1",
       "value": true
      }
     },
     "19a738b1e5324984897645cc233bdc32": {
      "model_module": "@jupyter-widgets/base",
      "model_module_version": "1.2.0",
      "model_name": "LayoutModel",
      "state": {}
     },
     "19db0448e8c746fa9e89886c0f40f9e2": {
      "model_module": "@jupyter-widgets/controls",
      "model_module_version": "1.5.0",
      "model_name": "DescriptionStyleModel",
      "state": {
       "description_width": ""
      }
     },
     "1a20dd2191ba421982bcb0e521bc7195": {
      "model_module": "@jupyter-widgets/controls",
      "model_module_version": "1.5.0",
      "model_name": "DescriptionStyleModel",
      "state": {
       "description_width": ""
      }
     },
     "1a4631a9102c4f9f88eafc83517bd8e3": {
      "model_module": "@jupyter-widgets/controls",
      "model_module_version": "1.5.0",
      "model_name": "LabelModel",
      "state": {
       "layout": "IPY_MODEL_0abc657e3e944317af3807f7cb5eef07",
       "style": "IPY_MODEL_19db0448e8c746fa9e89886c0f40f9e2",
       "value": "Parallel"
      }
     },
     "1bab5b340866463aa326465beedf9667": {
      "model_module": "@jupyter-widgets/controls",
      "model_module_version": "1.5.0",
      "model_name": "DescriptionStyleModel",
      "state": {
       "description_width": ""
      }
     },
     "1bade2fdfc7646bc8f273b612addc951": {
      "model_module": "@jupyter-widgets/controls",
      "model_module_version": "1.5.0",
      "model_name": "FloatTextModel",
      "state": {
       "layout": "IPY_MODEL_6de574886f67497cb19943d6f0ec0576",
       "step": null,
       "style": "IPY_MODEL_7968878077ee4b4f80bc20c90a253379",
       "value": 130
      }
     },
     "1c7778ad444d4a32b7b749c392093d31": {
      "model_module": "@jupyter-widgets/base",
      "model_module_version": "1.2.0",
      "model_name": "LayoutModel",
      "state": {}
     },
     "1c7eb0bb65da43dab1bba149dbede975": {
      "model_module": "@jupyter-widgets/base",
      "model_module_version": "1.2.0",
      "model_name": "LayoutModel",
      "state": {}
     },
     "1c86b9d0570940ea9a5a223277826ece": {
      "model_module": "@jupyter-widgets/base",
      "model_module_version": "1.2.0",
      "model_name": "LayoutModel",
      "state": {
       "width": "auto"
      }
     },
     "1ce08d62418b4f9f86ebc8b8e74f2e4d": {
      "model_module": "@jupyter-widgets/base",
      "model_module_version": "1.2.0",
      "model_name": "LayoutModel",
      "state": {}
     },
     "1ce66624a9a7482d954ec71a7472b98f": {
      "model_module": "@jupyter-widgets/base",
      "model_module_version": "1.2.0",
      "model_name": "LayoutModel",
      "state": {}
     },
     "1d636db984bc44438bf2852cb93eb8cb": {
      "model_module": "@jupyter-widgets/base",
      "model_module_version": "1.2.0",
      "model_name": "LayoutModel",
      "state": {
       "width": "auto"
      }
     },
     "1daeefe506714327a7b0e8042abeaa9d": {
      "model_module": "@jupyter-widgets/controls",
      "model_module_version": "1.5.0",
      "model_name": "VBoxModel",
      "state": {
       "children": [
        "IPY_MODEL_f39e213bf5964704a0be38014e357d85",
        "IPY_MODEL_1957424312744c1dacc41199ece0bbec",
        "IPY_MODEL_d3988e7f0f8a4be99fcbe2d70cc74619",
        "IPY_MODEL_30de8a2471f4418db279f2147d61da49"
       ],
       "layout": "IPY_MODEL_fbecd3a1c907415db4e06d97c5f1fa4d"
      }
     },
     "1e211cb50aa34cac8e1d4eb4f62076cd": {
      "model_module": "@jupyter-widgets/controls",
      "model_module_version": "1.5.0",
      "model_name": "DescriptionStyleModel",
      "state": {
       "description_width": ""
      }
     },
     "1f6065f538e74e4cbe61449e8f8ae065": {
      "model_module": "@jupyter-widgets/controls",
      "model_module_version": "1.5.0",
      "model_name": "DescriptionStyleModel",
      "state": {
       "description_width": ""
      }
     },
     "1fb53ea8ec4e4c579faacb77979b9969": {
      "model_module": "@jupyter-widgets/controls",
      "model_module_version": "1.5.0",
      "model_name": "ButtonModel",
      "state": {
       "description": "Find next",
       "layout": "IPY_MODEL_b030999ff3c1480d8b25a582a90d3648",
       "style": "IPY_MODEL_6192bb38a4274a578b3fd36170e66edd",
       "tooltip": "Find next spike"
      }
     },
     "201d88036720426f8029704e53024d68": {
      "model_module": "@jupyter-widgets/controls",
      "model_module_version": "1.5.0",
      "model_name": "VBoxModel",
      "state": {
       "children": [
        "IPY_MODEL_0887201b71c440bd920aeeb066bf95f1",
        "IPY_MODEL_8f126ef7b3d84bd3aae11d98e7381d89",
        "IPY_MODEL_9f66571f30eb41dba5867c183fb18540",
        "IPY_MODEL_882a28ce63ba47ceae4417495f80520a",
        "IPY_MODEL_508265691df1426086355b4251da5670",
        "IPY_MODEL_1086642ab3d742ffbe9e266fa648c354",
        "IPY_MODEL_3d199f4bd56344f79d442bf04f21ac3e",
        "IPY_MODEL_e6597ae013954d19a2e0b69b1a497314"
       ],
       "layout": "IPY_MODEL_09898e1b2cf840deb12a212721686e5a"
      }
     },
     "2086b5a2728a4046a8e0b1e3bced2e10": {
      "model_module": "@jupyter-widgets/controls",
      "model_module_version": "1.5.0",
      "model_name": "LabelModel",
      "state": {
       "layout": "IPY_MODEL_0738c00b32a8453ca39b5b7e704f51b6",
       "style": "IPY_MODEL_f4956a85d28546d18a4afe13b049dbb7",
       "value": "Automatic logging (requires IPython)"
      }
     },
     "20cfbeaacc7b4153825256bc6c3a716d": {
      "model_module": "@jupyter-widgets/base",
      "model_module_version": "1.2.0",
      "model_name": "LayoutModel",
      "state": {
       "width": "auto"
      }
     },
     "21ce71db86eb425c8bf1ae63bd9a1e6e": {
      "model_module": "@jupyter-widgets/base",
      "model_module_version": "1.2.0",
      "model_name": "LayoutModel",
      "state": {}
     },
     "2454ca7962564f84b989d474b9c1f8eb": {
      "model_module": "@jupyter-widgets/base",
      "model_module_version": "1.2.0",
      "model_name": "LayoutModel",
      "state": {}
     },
     "248900fc942148149b010be584042e20": {
      "model_module": "jupyter-matplotlib",
      "model_module_version": "^0.7.2",
      "model_name": "ToolbarModel",
      "state": {
       "layout": "IPY_MODEL_929bc2e243a347cdba9277d9318db8e7",
       "toolitems": [
        [
         "Home",
         "Reset original view",
         "home",
         "home"
        ],
        [
         "Back",
         "Back to previous view",
         "arrow-left",
         "back"
        ],
        [
         "Forward",
         "Forward to next view",
         "arrow-right",
         "forward"
        ],
        [
         "Pan",
         "Pan axes with left mouse, zoom with right",
         "arrows",
         "pan"
        ],
        [
         "Zoom",
         "Zoom to rectangle",
         "square-o",
         "zoom"
        ],
        [
         "Download",
         "Download plot",
         "floppy-o",
         "save_figure"
        ]
       ]
      }
     },
     "24c5186fb265448e9d6fe3841f9f1424": {
      "model_module": "@jupyter-widgets/controls",
      "model_module_version": "1.5.0",
      "model_name": "DescriptionStyleModel",
      "state": {
       "description_width": ""
      }
     },
     "25180d8e43954b2697ac16bbfde13004": {
      "model_module": "@jupyter-widgets/controls",
      "model_module_version": "1.5.0",
      "model_name": "LabelModel",
      "state": {
       "layout": "IPY_MODEL_ee0e4e217de64efeb9c8bf21077262f1",
       "style": "IPY_MODEL_7bf47fcdde4d45089492d2c3532bed2e",
       "value": "Elevation angle"
      }
     },
     "2521a07556b1473fa43864b87aec66af": {
      "model_module": "@jupyter-widgets/base",
      "model_module_version": "1.2.0",
      "model_name": "LayoutModel",
      "state": {}
     },
     "253b915c6c71446b8328c29ddf109199": {
      "model_module": "jupyter-matplotlib",
      "model_module_version": "^0.7.2",
      "model_name": "ToolbarModel",
      "state": {
       "layout": "IPY_MODEL_5bc66b1dd4ad4f0d90473336a91c7926",
       "toolitems": [
        [
         "Home",
         "Reset original view",
         "home",
         "home"
        ],
        [
         "Back",
         "Back to previous view",
         "arrow-left",
         "back"
        ],
        [
         "Forward",
         "Forward to next view",
         "arrow-right",
         "forward"
        ],
        [
         "Pan",
         "Pan axes with left mouse, zoom with right",
         "arrows",
         "pan"
        ],
        [
         "Zoom",
         "Zoom to rectangle",
         "square-o",
         "zoom"
        ],
        [
         "Download",
         "Download plot",
         "floppy-o",
         "save_figure"
        ]
       ]
      }
     },
     "2614df362faa4160805544ffdbc01f98": {
      "model_module": "@jupyter-widgets/controls",
      "model_module_version": "1.5.0",
      "model_name": "LabelModel",
      "state": {
       "layout": "IPY_MODEL_e5d982ebd03d4353a1bf3575525d625c",
       "style": "IPY_MODEL_d78557f0bc65499fb079da03364f0d4b",
       "value": "Warn if guis are missing"
      }
     },
     "267098c3ecbc4bc7a2b1302fcbc6bc81": {
      "model_module": "@jupyter-widgets/base",
      "model_module_version": "1.2.0",
      "model_name": "LayoutModel",
      "state": {}
     },
     "26a4ac4fbbb048aab55ae0732459decd": {
      "model_module": "@jupyter-widgets/base",
      "model_module_version": "1.2.0",
      "model_name": "LayoutModel",
      "state": {
       "width": "auto"
      }
     },
     "26d30353458a4b28a594e0761cce0433": {
      "model_module": "@jupyter-widgets/base",
      "model_module_version": "1.2.0",
      "model_name": "LayoutModel",
      "state": {}
     },
     "2704216d814a4e619defaa3bf7a9e8c2": {
      "model_module": "@jupyter-widgets/controls",
      "model_module_version": "1.5.0",
      "model_name": "LabelModel",
      "state": {
       "layout": "IPY_MODEL_59dc8418b1254369912e9be24d520cbc",
       "style": "IPY_MODEL_3ba30b2b42b240da821169d08503a458",
       "value": "Spline order"
      }
     },
     "2808346472f644b3836bc0e903bb5483": {
      "model_module": "@jupyter-widgets/controls",
      "model_module_version": "1.5.0",
      "model_name": "FloatTextModel",
      "state": {
       "layout": "IPY_MODEL_ff1f5bca5f404ef1b4ba7d63fb7d9832",
       "step": null,
       "style": "IPY_MODEL_d082e34e71f341999dc9b6db0026dd33",
       "value": 400
      }
     },
     "287c1441e1444bb6a0dc94d9d292d3be": {
      "model_module": "@jupyter-widgets/controls",
      "model_module_version": "1.5.0",
      "model_name": "DescriptionStyleModel",
      "state": {
       "description_width": ""
      }
     },
     "292880ed6f2a43edab86502093971daf": {
      "model_module": "@jupyter-widgets/base",
      "model_module_version": "1.2.0",
      "model_name": "LayoutModel",
      "state": {
       "width": "auto"
      }
     },
     "298b6d6eb1cd490d94ff2f397a62081a": {
      "model_module": "@jupyter-widgets/base",
      "model_module_version": "1.2.0",
      "model_name": "LayoutModel",
      "state": {
       "width": "auto"
      }
     },
     "29dc29dd49ee42599406f9e9feb77b70": {
      "model_module": "@jupyter-widgets/base",
      "model_module_version": "1.2.0",
      "model_name": "LayoutModel",
      "state": {}
     },
     "2a2bc953e5e7415086e410c2b3f8bae2": {
      "model_module": "@jupyter-widgets/base",
      "model_module_version": "1.2.0",
      "model_name": "LayoutModel",
      "state": {}
     },
     "2a53053553cd4143a2e1f123b2146e3a": {
      "model_module": "jupyter-matplotlib",
      "model_module_version": "^0.7.2",
      "model_name": "MPLCanvasModel",
      "state": {
       "_cursor": "default",
       "_figure_label": "Figure 2",
       "_height": 480,
       "_image_mode": "diff",
       "_width": 640,
       "layout": "IPY_MODEL_f7f26c461fd74bf8a4a17696e202e39b",
       "toolbar": "IPY_MODEL_c539235aacf942e69fec57c0b5e29689",
       "toolbar_position": "left"
      }
     },
     "2a93d9ae98194fd38c4072cc0f6c26a3": {
      "model_module": "@jupyter-widgets/base",
      "model_module_version": "1.2.0",
      "model_name": "LayoutModel",
      "state": {}
     },
     "2ab18a5287684605b7459353a0023e65": {
      "model_module": "@jupyter-widgets/controls",
      "model_module_version": "1.5.0",
      "model_name": "HBoxModel",
      "state": {
       "children": [
        "IPY_MODEL_f2fbfdfb660e4c458dc4341b43330c63",
        "IPY_MODEL_a4bd5c9f65554500b84263670f31a9bf"
       ],
       "layout": "IPY_MODEL_3c03c17e3313474f9c52dfc995e73901"
      }
     },
     "2c6d34ca166b4ffe9087d74f889d2ee8": {
      "model_module": "@jupyter-widgets/controls",
      "model_module_version": "1.5.0",
      "model_name": "VBoxModel",
      "state": {
       "children": [
        "IPY_MODEL_f8e1616de9114030babcd138fe429328",
        "IPY_MODEL_43e8d4165c074144ab21839f965bb26d",
        "IPY_MODEL_417137f8b07e4a47b963e0eac94e42c5"
       ],
       "layout": "IPY_MODEL_b3a68d3a3a6e4834bf6d2ba8ff0a13ae"
      }
     },
     "2c8c8b02a4774d49ac7024de42319b9a": {
      "model_module": "@jupyter-widgets/controls",
      "model_module_version": "1.5.0",
      "model_name": "DescriptionStyleModel",
      "state": {
       "description_width": ""
      }
     },
     "2cf9e19f9c734952b42dcb555ff35b16": {
      "model_module": "@jupyter-widgets/controls",
      "model_module_version": "1.5.0",
      "model_name": "DescriptionStyleModel",
      "state": {
       "description_width": ""
      }
     },
     "2dcbf38df85c488fb4c5a295c7901cf8": {
      "model_module": "@jupyter-widgets/base",
      "model_module_version": "1.2.0",
      "model_name": "LayoutModel",
      "state": {
       "width": "auto"
      }
     },
     "30de8a2471f4418db279f2147d61da49": {
      "model_module": "@jupyter-widgets/controls",
      "model_module_version": "1.5.0",
      "model_name": "HBoxModel",
      "state": {
       "children": [
        "IPY_MODEL_fb5c129506ea45648e4b7a5e829148b5",
        "IPY_MODEL_956860b96d7f4c32b7ede21f7d675734"
       ],
       "layout": "IPY_MODEL_3c03c17e3313474f9c52dfc995e73901"
      }
     },
     "3115ef072b4047988645e0ec7409f6d7": {
      "model_module": "@jupyter-widgets/base",
      "model_module_version": "1.2.0",
      "model_name": "LayoutModel",
      "state": {}
     },
     "3280343014494d9bb485d6752d5551f7": {
      "model_module": "@jupyter-widgets/controls",
      "model_module_version": "1.5.0",
      "model_name": "LabelModel",
      "state": {
       "layout": "IPY_MODEL_1d636db984bc44438bf2852cb93eb8cb",
       "style": "IPY_MODEL_2cf9e19f9c734952b42dcb555ff35b16",
       "value": "Modifier key for 3rd and 4th dimensions"
      }
     },
     "328ca27ad88a4453a719bf0afa3e6dd1": {
      "model_module": "jupyter-matplotlib",
      "model_module_version": "^0.7.2",
      "model_name": "ToolbarModel",
      "state": {
       "layout": "IPY_MODEL_b06b8ec5d0824bf596f81a20bd0d39f8",
       "toolitems": [
        [
         "Home",
         "Reset original view",
         "home",
         "home"
        ],
        [
         "Back",
         "Back to previous view",
         "arrow-left",
         "back"
        ],
        [
         "Forward",
         "Forward to next view",
         "arrow-right",
         "forward"
        ],
        [
         "Pan",
         "Pan axes with left mouse, zoom with right",
         "arrows",
         "pan"
        ],
        [
         "Zoom",
         "Zoom to rectangle",
         "square-o",
         "zoom"
        ],
        [
         "Download",
         "Download plot",
         "floppy-o",
         "save_figure"
        ]
       ]
      }
     },
     "34617a44b33e4511a95801a323abb2db": {
      "model_module": "@jupyter-widgets/controls",
      "model_module_version": "1.5.0",
      "model_name": "TextModel",
      "state": {
       "layout": "IPY_MODEL_92416f868a6540d68119ce36f85e9aa3",
       "style": "IPY_MODEL_122d02b190a24f33a030baaca2b4156b",
       "value": "up"
      }
     },
     "34887ec62b0b42e38fc7f8ed42dc8467": {
      "model_module": "@jupyter-widgets/base",
      "model_module_version": "1.2.0",
      "model_name": "LayoutModel",
      "state": {}
     },
     "3528498ba4884f7a904b68aa06a2dbb6": {
      "model_module": "@jupyter-widgets/controls",
      "model_module_version": "1.5.0",
      "model_name": "LabelModel",
      "state": {
       "layout": "IPY_MODEL_d4195e96502f466e97c565497b7f03ce",
       "style": "IPY_MODEL_3963535e9ad94115ae070b43843e2d58",
       "value": "Energy resolution at Mn Ka (eV)"
      }
     },
     "35ffad3075684df7b4f2d1f1646f756d": {
      "model_module": "@jupyter-widgets/controls",
      "model_module_version": "1.5.0",
      "model_name": "CheckboxModel",
      "state": {
       "disabled": false,
       "layout": "IPY_MODEL_1ce66624a9a7482d954ec71a7472b98f",
       "style": "IPY_MODEL_80232cd468484ebea963dd646beb7fec",
       "value": true
      }
     },
     "363e811c51fe4948822f87539661eb94": {
      "model_module": "jupyter-matplotlib",
      "model_module_version": "^0.7.2",
      "model_name": "MPLCanvasModel",
      "state": {
       "_cursor": "default",
       "_figure_label": "Figure 1",
       "_height": 581,
       "_message": "x=5.148, y=9.506, intensity=4.645e+05 [464473]",
       "_width": 640,
       "layout": "IPY_MODEL_55d78a710ef14e509cc79f73d1da3acd",
       "toolbar": "IPY_MODEL_6fff41f18f2c4d77ab06f7bf43edba5a",
       "toolbar_position": "left"
      }
     },
     "381dc6e1e7bb4ac181919601a13b7213": {
      "model_module": "@jupyter-widgets/controls",
      "model_module_version": "1.5.0",
      "model_name": "HBoxModel",
      "state": {
       "children": [
        "IPY_MODEL_9582bc978f8e48ceaa677f6ad1fbd7f0",
        "IPY_MODEL_f68e901e4c024fd39dce74da07ee1832"
       ],
       "layout": "IPY_MODEL_3c03c17e3313474f9c52dfc995e73901"
      }
     },
     "38eade3ee2034543a2ae4dbd790fb847": {
      "model_module": "@jupyter-widgets/base",
      "model_module_version": "1.2.0",
      "model_name": "LayoutModel",
      "state": {
       "width": "auto"
      }
     },
     "3963535e9ad94115ae070b43843e2d58": {
      "model_module": "@jupyter-widgets/controls",
      "model_module_version": "1.5.0",
      "model_name": "DescriptionStyleModel",
      "state": {
       "description_width": ""
      }
     },
     "39a694b1ae184bb6b0f4af591592ac82": {
      "model_module": "@jupyter-widgets/base",
      "model_module_version": "1.2.0",
      "model_name": "LayoutModel",
      "state": {}
     },
     "39e053a2a66a497ba23cc67d0af4390b": {
      "model_module": "@jupyter-widgets/controls",
      "model_module_version": "1.5.0",
      "model_name": "VBoxModel",
      "state": {
       "children": [
        "IPY_MODEL_7aa059dfbcef420986fc5ebc302d4d35",
        "IPY_MODEL_d0f607239e2943e189fc8ad4acc37401",
        "IPY_MODEL_036eafeac1cb486193c200e519e961d6",
        "IPY_MODEL_eb6b8026bbd4442a900d1fa30cac172d",
        "IPY_MODEL_998587d9686d453ea3c40e2a86071d31",
        "IPY_MODEL_092ef20b34fe4eeba06a7807f723a89f",
        "IPY_MODEL_734f7935f504400fb130749dc2b32f2e",
        "IPY_MODEL_915e83ddaf9d49f492e639f54ce64daf"
       ],
       "layout": "IPY_MODEL_b289c75aaae74825af13826f26866060"
      }
     },
     "3a26d95c8d9044b387ba1642817d1545": {
      "model_module": "jupyter-matplotlib",
      "model_module_version": "^0.7.2",
      "model_name": "ToolbarModel",
      "state": {
       "layout": "IPY_MODEL_e9a5afd5f89b4b2b9aee6a8cec497ecd",
       "toolitems": [
        [
         "Home",
         "Reset original view",
         "home",
         "home"
        ],
        [
         "Back",
         "Back to previous view",
         "arrow-left",
         "back"
        ],
        [
         "Forward",
         "Forward to next view",
         "arrow-right",
         "forward"
        ],
        [
         "Pan",
         "Pan axes with left mouse, zoom with right",
         "arrows",
         "pan"
        ],
        [
         "Zoom",
         "Zoom to rectangle",
         "square-o",
         "zoom"
        ],
        [
         "Download",
         "Download plot",
         "floppy-o",
         "save_figure"
        ]
       ]
      }
     },
     "3adc509fe26b4c59b3be35a564fc7b30": {
      "model_module": "@jupyter-widgets/base",
      "model_module_version": "1.2.0",
      "model_name": "LayoutModel",
      "state": {}
     },
     "3b0315f872ca41a88d499de619bf618d": {
      "model_module": "@jupyter-widgets/base",
      "model_module_version": "1.2.0",
      "model_name": "LayoutModel",
      "state": {
       "width": "auto"
      }
     },
     "3ba30b2b42b240da821169d08503a458": {
      "model_module": "@jupyter-widgets/controls",
      "model_module_version": "1.5.0",
      "model_name": "DescriptionStyleModel",
      "state": {
       "description_width": ""
      }
     },
     "3bf111f8f31b41cd809bbe67f40ab0c3": {
      "model_module": "@jupyter-widgets/base",
      "model_module_version": "1.2.0",
      "model_name": "LayoutModel",
      "state": {}
     },
     "3c03c17e3313474f9c52dfc995e73901": {
      "model_module": "@jupyter-widgets/base",
      "model_module_version": "1.2.0",
      "model_name": "LayoutModel",
      "state": {
       "display": "flex",
       "flex_flow": "row",
       "justify_content": "space-between"
      }
     },
     "3c4a08447ca34970ae818cada8970459": {
      "model_module": "@jupyter-widgets/controls",
      "model_module_version": "1.5.0",
      "model_name": "FloatTextModel",
      "state": {
       "layout": "IPY_MODEL_b2ce1775911f4258adbd8f1ece8c9a5a",
       "step": null,
       "style": "IPY_MODEL_719368875c684bc2a0cb682946b2bae4",
       "value": 35
      }
     },
     "3c7c6e7678684a38b431c203103ce6bb": {
      "model_module": "@jupyter-widgets/controls",
      "model_module_version": "1.5.0",
      "model_name": "HBoxModel",
      "state": {
       "children": [
        "IPY_MODEL_ba667a1f6f9947ff893ffd9aeffc13d3",
        "IPY_MODEL_19954a708eb640bcaaa535794d628114"
       ],
       "layout": "IPY_MODEL_3c03c17e3313474f9c52dfc995e73901"
      }
     },
     "3d199f4bd56344f79d442bf04f21ac3e": {
      "model_module": "@jupyter-widgets/controls",
      "model_module_version": "1.5.0",
      "model_name": "HBoxModel",
      "state": {
       "children": [
        "IPY_MODEL_552d53e39c334d87bca6331e6f240ab6",
        "IPY_MODEL_f565d78dd3324023af0d13891446ffc2"
       ],
       "layout": "IPY_MODEL_3c03c17e3313474f9c52dfc995e73901"
      }
     },
     "3e51f6a6af6341cbbdf95efb01c4c914": {
      "model_module": "@jupyter-widgets/controls",
      "model_module_version": "1.5.0",
      "model_name": "DescriptionStyleModel",
      "state": {
       "description_width": ""
      }
     },
     "3e8596472e8f466a847e68353789a55b": {
      "model_module": "@jupyter-widgets/controls",
      "model_module_version": "1.5.0",
      "model_name": "DescriptionStyleModel",
      "state": {
       "description_width": ""
      }
     },
     "3f54c034b893408aa09f665402e486e2": {
      "model_module": "@jupyter-widgets/controls",
      "model_module_version": "1.5.0",
      "model_name": "LabelModel",
      "state": {
       "layout": "IPY_MODEL_e459ee9a02734ee1905fe363c9764fdb",
       "style": "IPY_MODEL_4a057f49cfa04ac7bf24acd7d07e28b1",
       "value": "Saturated pixels"
      }
     },
     "413c9061f59c41e19be3dd4997ca48d2": {
      "model_module": "@jupyter-widgets/controls",
      "model_module_version": "1.5.0",
      "model_name": "DescriptionStyleModel",
      "state": {
       "description_width": ""
      }
     },
     "417137f8b07e4a47b963e0eac94e42c5": {
      "model_module": "@jupyter-widgets/controls",
      "model_module_version": "1.5.0",
      "model_name": "HBoxModel",
      "state": {
       "children": [
        "IPY_MODEL_ccd5b954fe7545d5a8e3b1895573cfd7",
        "IPY_MODEL_35ffad3075684df7b4f2d1f1646f756d"
       ],
       "layout": "IPY_MODEL_3c03c17e3313474f9c52dfc995e73901"
      }
     },
     "41953f4d492941f6a4968cc5261783bf": {
      "model_module": "@jupyter-widgets/controls",
      "model_module_version": "1.5.0",
      "model_name": "VBoxModel",
      "state": {
       "children": [
        "IPY_MODEL_b019fa14c25f4391a8ce3a108878ba12"
       ],
       "layout": "IPY_MODEL_651c026046fe4f02abd97497ed3bc1fb"
      }
     },
     "41969c00871343c58e25d958cb3c5a13": {
      "model_module": "@jupyter-widgets/base",
      "model_module_version": "1.2.0",
      "model_name": "LayoutModel",
      "state": {}
     },
     "41ad2d5a6c2344a59790fcb4968f37c0": {
      "model_module": "@jupyter-widgets/base",
      "model_module_version": "1.2.0",
      "model_name": "LayoutModel",
      "state": {}
     },
     "41c26de363a54566a51566149d446d45": {
      "model_module": "@jupyter-widgets/controls",
      "model_module_version": "1.5.0",
      "model_name": "LabelModel",
      "state": {
       "layout": "IPY_MODEL_06a693eacee04e959925d228fa278885",
       "style": "IPY_MODEL_6205e7d33ff14d0ca29479f22b6ff6aa",
       "value": "Interpolator kind"
      }
     },
     "4287507aae274ea3b6930becfa7c12cb": {
      "model_module": "@jupyter-widgets/controls",
      "model_module_version": "1.5.0",
      "model_name": "DescriptionStyleModel",
      "state": {
       "description_width": ""
      }
     },
     "428ba6b0742a4096b77e9915b5881846": {
      "model_module": "@jupyter-widgets/base",
      "model_module_version": "1.2.0",
      "model_name": "LayoutModel",
      "state": {}
     },
     "43e8d4165c074144ab21839f965bb26d": {
      "model_module": "@jupyter-widgets/controls",
      "model_module_version": "1.5.0",
      "model_name": "HBoxModel",
      "state": {
       "children": [
        "IPY_MODEL_f6c631a6bb4f46df80f9500949182b28",
        "IPY_MODEL_14102014f2d347a08333f9e250fe0c50"
       ],
       "layout": "IPY_MODEL_3c03c17e3313474f9c52dfc995e73901"
      }
     },
     "4446edab92634984a8255f37e456f147": {
      "model_module": "@jupyter-widgets/controls",
      "model_module_version": "1.5.0",
      "model_name": "DescriptionStyleModel",
      "state": {
       "description_width": ""
      }
     },
     "44a49b6d9c4c419e8563389757334697": {
      "model_module": "@jupyter-widgets/controls",
      "model_module_version": "1.5.0",
      "model_name": "DescriptionStyleModel",
      "state": {
       "description_width": ""
      }
     },
     "453e75de1d5e45258aa210899c87db71": {
      "model_module": "@jupyter-widgets/base",
      "model_module_version": "1.2.0",
      "model_name": "LayoutModel",
      "state": {
       "width": "auto"
      }
     },
     "46806a5af7554708a11352ff16c3d9a0": {
      "model_module": "@jupyter-widgets/controls",
      "model_module_version": "1.5.0",
      "model_name": "DescriptionStyleModel",
      "state": {
       "description_width": ""
      }
     },
     "46ddd3af99ac4febac9d4ff7f3045d7a": {
      "model_module": "@jupyter-widgets/base",
      "model_module_version": "1.2.0",
      "model_name": "LayoutModel",
      "state": {
       "width": "auto"
      }
     },
     "4a057f49cfa04ac7bf24acd7d07e28b1": {
      "model_module": "@jupyter-widgets/controls",
      "model_module_version": "1.5.0",
      "model_name": "DescriptionStyleModel",
      "state": {
       "description_width": ""
      }
     },
     "4a20defb99924067b9f0f6e5c182893c": {
      "model_module": "@jupyter-widgets/controls",
      "model_module_version": "1.5.0",
      "model_name": "LabelModel",
      "state": {
       "layout": "IPY_MODEL_453e75de1d5e45258aa210899c87db71",
       "style": "IPY_MODEL_d0e04fc808ed426495c35f680c46d457",
       "value": "Show progress bar"
      }
     },
     "4b5100e6b7ff4fdb90c0a912a74e145a": {
      "model_module": "@jupyter-widgets/base",
      "model_module_version": "1.2.0",
      "model_name": "LayoutModel",
      "state": {
       "width": "auto"
      }
     },
     "4bcbb9b0ffe241cea9a7cc732d28cee7": {
      "model_module": "@jupyter-widgets/controls",
      "model_module_version": "1.5.0",
      "model_name": "DescriptionStyleModel",
      "state": {
       "description_width": ""
      }
     },
     "4cd8fe47781a4f8dbc96f854c915bcb7": {
      "model_module": "@jupyter-widgets/base",
      "model_module_version": "1.2.0",
      "model_name": "LayoutModel",
      "state": {
       "width": "auto"
      }
     },
     "4d0a93cd724b49ffb993f33bf5aaa635": {
      "model_module": "@jupyter-widgets/base",
      "model_module_version": "1.2.0",
      "model_name": "LayoutModel",
      "state": {}
     },
     "4d2ed671f02f4f2ebc3935fd0755e84f": {
      "model_module": "jupyter-matplotlib",
      "model_module_version": "^0.7.2",
      "model_name": "ToolbarModel",
      "state": {
       "layout": "IPY_MODEL_710278b286a74647b174a8f5ed03d30e",
       "toolitems": [
        [
         "Home",
         "Reset original view",
         "home",
         "home"
        ],
        [
         "Back",
         "Back to previous view",
         "arrow-left",
         "back"
        ],
        [
         "Forward",
         "Forward to next view",
         "arrow-right",
         "forward"
        ],
        [
         "Pan",
         "Pan axes with left mouse, zoom with right",
         "arrows",
         "pan"
        ],
        [
         "Zoom",
         "Zoom to rectangle",
         "square-o",
         "zoom"
        ],
        [
         "Download",
         "Download plot",
         "floppy-o",
         "save_figure"
        ]
       ]
      }
     },
     "4d7c7b28bd3e46429194289366352ab1": {
      "model_module": "@jupyter-widgets/controls",
      "model_module_version": "1.5.0",
      "model_name": "ButtonStyleModel",
      "state": {}
     },
     "4e265df7d9234951ad68c43e4834d8aa": {
      "model_module": "@jupyter-widgets/base",
      "model_module_version": "1.2.0",
      "model_name": "LayoutModel",
      "state": {
       "width": "auto"
      }
     },
     "4e94e03ac5af4e5e9e66fde639e821d2": {
      "model_module": "@jupyter-widgets/controls",
      "model_module_version": "1.5.0",
      "model_name": "TextModel",
      "state": {
       "layout": "IPY_MODEL_9a0da69644964717b7708f9600f6dfa9",
       "style": "IPY_MODEL_287c1441e1444bb6a0dc94d9d292d3be",
       "value": "left"
      }
     },
     "4f63faab57d444e1b53454be03622231": {
      "model_module": "@jupyter-widgets/controls",
      "model_module_version": "1.5.0",
      "model_name": "DescriptionStyleModel",
      "state": {
       "description_width": ""
      }
     },
     "4ffd631f919b413bbec9e02d74e44cfe": {
      "model_module": "@jupyter-widgets/base",
      "model_module_version": "1.2.0",
      "model_name": "LayoutModel",
      "state": {
       "width": "auto"
      }
     },
     "50019516c8fb4fdbab314050f3e0481a": {
      "model_module": "@jupyter-widgets/controls",
      "model_module_version": "1.5.0",
      "model_name": "TextModel",
      "state": {
       "layout": "IPY_MODEL_c05d1b8d8365480685a9801618ca99f0",
       "style": "IPY_MODEL_1e211cb50aa34cac8e1d4eb4f62076cd",
       "value": "down"
      }
     },
     "503923309acc4ab6b79b66fa30b68779": {
      "model_module": "@jupyter-widgets/controls",
      "model_module_version": "1.5.0",
      "model_name": "HBoxModel",
      "state": {
       "children": [
        "IPY_MODEL_a3d70ae6870048dcbead1fd16c671105",
        "IPY_MODEL_10ac24f44c6d43e7a8a552df8f7c6a45"
       ],
       "layout": "IPY_MODEL_3c03c17e3313474f9c52dfc995e73901"
      }
     },
     "508265691df1426086355b4251da5670": {
      "model_module": "@jupyter-widgets/controls",
      "model_module_version": "1.5.0",
      "model_name": "HBoxModel",
      "state": {
       "children": [
        "IPY_MODEL_f117f76767c64b70833856f489ed6e1d",
        "IPY_MODEL_5a22a1891d1241229dfd97e71bb57dde"
       ],
       "layout": "IPY_MODEL_3c03c17e3313474f9c52dfc995e73901"
      }
     },
     "50830ad233a64e38a00750695e045dfe": {
      "model_module": "@jupyter-widgets/controls",
      "model_module_version": "1.5.0",
      "model_name": "DescriptionStyleModel",
      "state": {
       "description_width": ""
      }
     },
     "5106a53b96d74002a0530a231ed2c462": {
      "model_module": "@jupyter-widgets/base",
      "model_module_version": "1.2.0",
      "model_name": "LayoutModel",
      "state": {
       "width": "auto"
      }
     },
     "514c1b95bf6c499e88a4a1d1f0b4bece": {
      "model_module": "jupyter-matplotlib",
      "model_module_version": "^0.7.2",
      "model_name": "ToolbarModel",
      "state": {
       "layout": "IPY_MODEL_739eadac28034f5999a251fc310d6a73",
       "toolitems": [
        [
         "Home",
         "Reset original view",
         "home",
         "home"
        ],
        [
         "Back",
         "Back to previous view",
         "arrow-left",
         "back"
        ],
        [
         "Forward",
         "Forward to next view",
         "arrow-right",
         "forward"
        ],
        [
         "Pan",
         "Pan axes with left mouse, zoom with right",
         "arrows",
         "pan"
        ],
        [
         "Zoom",
         "Zoom to rectangle",
         "square-o",
         "zoom"
        ],
        [
         "Download",
         "Download plot",
         "floppy-o",
         "save_figure"
        ]
       ]
      }
     },
     "5199b3d20b734ee8bf5aad73c18ec28e": {
      "model_module": "@jupyter-widgets/controls",
      "model_module_version": "1.5.0",
      "model_name": "HBoxModel",
      "state": {
       "children": [
        "IPY_MODEL_2614df362faa4160805544ffdbc01f98",
        "IPY_MODEL_b1428e1f704c4dd8a59773db96be2bd3"
       ],
       "layout": "IPY_MODEL_3c03c17e3313474f9c52dfc995e73901"
      }
     },
     "52c9fbc9fb9c43048c2399c9c2380323": {
      "model_module": "jupyter-matplotlib",
      "model_module_version": "^0.7.2",
      "model_name": "ToolbarModel",
      "state": {
       "layout": "IPY_MODEL_ce93a73ddb9746cdbabdc0721209e763",
       "toolitems": [
        [
         "Home",
         "Reset original view",
         "home",
         "home"
        ],
        [
         "Back",
         "Back to previous view",
         "arrow-left",
         "back"
        ],
        [
         "Forward",
         "Forward to next view",
         "arrow-right",
         "forward"
        ],
        [
         "Pan",
         "Pan axes with left mouse, zoom with right",
         "arrows",
         "pan"
        ],
        [
         "Zoom",
         "Zoom to rectangle",
         "square-o",
         "zoom"
        ],
        [
         "Download",
         "Download plot",
         "floppy-o",
         "save_figure"
        ]
       ]
      }
     },
     "53a7295631224d9abf1194bdcfd32c53": {
      "model_module": "jupyter-matplotlib",
      "model_module_version": "^0.7.2",
      "model_name": "ToolbarModel",
      "state": {
       "layout": "IPY_MODEL_17b64be71b474d85b2c9966b161dd037",
       "toolitems": [
        [
         "Home",
         "Reset original view",
         "home",
         "home"
        ],
        [
         "Back",
         "Back to previous view",
         "arrow-left",
         "back"
        ],
        [
         "Forward",
         "Forward to next view",
         "arrow-right",
         "forward"
        ],
        [
         "Pan",
         "Pan axes with left mouse, zoom with right",
         "arrows",
         "pan"
        ],
        [
         "Zoom",
         "Zoom to rectangle",
         "square-o",
         "zoom"
        ],
        [
         "Download",
         "Download plot",
         "floppy-o",
         "save_figure"
        ]
       ]
      }
     },
     "54113c31af3b4bbcbbc8ec2ee6ba58bc": {
      "model_module": "@jupyter-widgets/controls",
      "model_module_version": "1.5.0",
      "model_name": "VBoxModel",
      "state": {
       "children": [
        "IPY_MODEL_ded47a0f3dcd4e469b0ff3e43a53bc99",
        "IPY_MODEL_928b4ca15a084fc2bc00708f5f6be30d",
        "IPY_MODEL_68dd4a584a5c43e2b270c11ff03b133b",
        "IPY_MODEL_c5a6597b3f4c4cff8cff1ef0487ade1e"
       ],
       "layout": "IPY_MODEL_017d3d0836a0495b902a3e45f0cf0117"
      }
     },
     "541a4681dd08478b87e3211cabd729f5": {
      "model_module": "@jupyter-widgets/controls",
      "model_module_version": "1.5.0",
      "model_name": "HBoxModel",
      "state": {
       "children": [
        "IPY_MODEL_a7ec2f1fc26e4db0ade7c360325cc93e",
        "IPY_MODEL_c28e7254015645afbd82d59875bd54fc"
       ],
       "layout": "IPY_MODEL_3c03c17e3313474f9c52dfc995e73901"
      }
     },
     "541dc88f22524ae09cdb5ace570741d7": {
      "model_module": "@jupyter-widgets/controls",
      "model_module_version": "1.5.0",
      "model_name": "LabelModel",
      "state": {
       "layout": "IPY_MODEL_298b6d6eb1cd490d94ff2f397a62081a",
       "style": "IPY_MODEL_3e51f6a6af6341cbbdf95efb01c4c914",
       "value": "Expand structures in DictionaryTreeBrowser"
      }
     },
     "550db49d5df04a9ca07a48b470c00d0e": {
      "model_module": "@jupyter-widgets/base",
      "model_module_version": "1.2.0",
      "model_name": "LayoutModel",
      "state": {}
     },
     "5513c2492512421f91845fb75b1319bd": {
      "model_module": "@jupyter-widgets/base",
      "model_module_version": "1.2.0",
      "model_name": "LayoutModel",
      "state": {}
     },
     "5521079a39624460876f6ffe6fc701eb": {
      "model_module": "@jupyter-widgets/controls",
      "model_module_version": "1.5.0",
      "model_name": "DescriptionStyleModel",
      "state": {
       "description_width": ""
      }
     },
     "552d53e39c334d87bca6331e6f240ab6": {
      "model_module": "@jupyter-widgets/controls",
      "model_module_version": "1.5.0",
      "model_name": "LabelModel",
      "state": {
       "layout": "IPY_MODEL_0d4fc0d8e5374acdb36586edf6ebf017",
       "style": "IPY_MODEL_7e458f4a93aa48d29e37616b88813ed6",
       "value": "Modifier key for 5th and 6th dimensions"
      }
     },
     "55d78a710ef14e509cc79f73d1da3acd": {
      "model_module": "@jupyter-widgets/base",
      "model_module_version": "1.2.0",
      "model_name": "LayoutModel",
      "state": {}
     },
     "55fbf5f85390407186f354fd326334b2": {
      "model_module": "@jupyter-widgets/controls",
      "model_module_version": "1.5.0",
      "model_name": "DescriptionStyleModel",
      "state": {
       "description_width": ""
      }
     },
     "56e8259672734196b8ebb29de7051e83": {
      "model_module": "@jupyter-widgets/controls",
      "model_module_version": "1.5.0",
      "model_name": "VBoxModel",
      "state": {
       "children": [
        "IPY_MODEL_7c5e48faf61f4fa393c8dc4532481107",
        "IPY_MODEL_150bc7502cd84f1ea2651c6ed568a1fc"
       ],
       "layout": "IPY_MODEL_76ed78b8a8114ebcb2da23a7642db78e"
      }
     },
     "57d69bcefb8e402697f63fb456cb95b9": {
      "model_module": "@jupyter-widgets/controls",
      "model_module_version": "1.5.0",
      "model_name": "CheckboxModel",
      "state": {
       "disabled": false,
       "layout": "IPY_MODEL_2a93d9ae98194fd38c4072cc0f6c26a3",
       "style": "IPY_MODEL_1bab5b340866463aa326465beedf9667",
       "value": true
      }
     },
     "586cfa7ed4b843fdb86184a336ed9b04": {
      "model_module": "@jupyter-widgets/controls",
      "model_module_version": "1.5.0",
      "model_name": "CheckboxModel",
      "state": {
       "disabled": false,
       "layout": "IPY_MODEL_7a0709b434f844d299f0a0ceaeae97c1",
       "style": "IPY_MODEL_1a20dd2191ba421982bcb0e521bc7195",
       "value": true
      }
     },
     "58a9352940b648249201c5f35901901a": {
      "model_module": "@jupyter-widgets/base",
      "model_module_version": "1.2.0",
      "model_name": "LayoutModel",
      "state": {
       "display": "none",
       "width": "auto"
      }
     },
     "58c112248e3f4939982bd5a477bc1f34": {
      "model_module": "@jupyter-widgets/base",
      "model_module_version": "1.2.0",
      "model_name": "LayoutModel",
      "state": {}
     },
     "59dc8418b1254369912e9be24d520cbc": {
      "model_module": "@jupyter-widgets/base",
      "model_module_version": "1.2.0",
      "model_name": "LayoutModel",
      "state": {
       "width": "auto"
      }
     },
     "5a22a1891d1241229dfd97e71bb57dde": {
      "model_module": "@jupyter-widgets/controls",
      "model_module_version": "1.5.0",
      "model_name": "DropdownModel",
      "state": {
       "_options_labels": [
        "ctrl",
        "alt",
        "shift",
        "ctrl+alt",
        "ctrl+shift",
        "alt+shift",
        "ctrl+alt+shift"
       ],
       "index": 0,
       "layout": "IPY_MODEL_2a2bc953e5e7415086e410c2b3f8bae2",
       "style": "IPY_MODEL_f44a2271a5b8440c88fd1c7f921bf41a"
      }
     },
     "5a821f55b3c14e2f87020afb30fce4b2": {
      "model_module": "@jupyter-widgets/controls",
      "model_module_version": "1.5.0",
      "model_name": "HBoxModel",
      "state": {
       "children": [
        "IPY_MODEL_99f6671178dd4cb28dc8d1ddb25e03b1",
        "IPY_MODEL_d60c8d59525f4d77b517771b69fbc9d0"
       ],
       "layout": "IPY_MODEL_3c03c17e3313474f9c52dfc995e73901"
      }
     },
     "5a93287f939a4f06a278574ae7006606": {
      "model_module": "@jupyter-widgets/controls",
      "model_module_version": "1.5.0",
      "model_name": "FloatTextModel",
      "state": {
       "layout": "IPY_MODEL_1638354239c54fe5b95c430e81204746",
       "step": null,
       "style": "IPY_MODEL_eb9c33921b4b410bb3315ad043ae3290"
      }
     },
     "5b759df1399c4831b2cf2e669276745d": {
      "model_module": "@jupyter-widgets/controls",
      "model_module_version": "1.5.0",
      "model_name": "TextModel",
      "state": {
       "layout": "IPY_MODEL_d03c30a2c34d415881f22478fd5ac2b0",
       "style": "IPY_MODEL_90de58fa8eb24cca8897c7397ba88021",
       "value": "right"
      }
     },
     "5bc66b1dd4ad4f0d90473336a91c7926": {
      "model_module": "@jupyter-widgets/base",
      "model_module_version": "1.2.0",
      "model_name": "LayoutModel",
      "state": {}
     },
     "5bee3cc81e424514bd25320a931b87aa": {
      "model_module": "@jupyter-widgets/base",
      "model_module_version": "1.2.0",
      "model_name": "LayoutModel",
      "state": {}
     },
     "5d9455e7b1f64424a77921c1a249a469": {
      "model_module": "@jupyter-widgets/controls",
      "model_module_version": "1.5.0",
      "model_name": "LabelModel",
      "state": {
       "layout": "IPY_MODEL_e628ed76145e4f329cf4a73c550a6102",
       "style": "IPY_MODEL_88de5fd07a5e4185a77205b8c5d7ab24",
       "value": "Navigate up"
      }
     },
     "5e17f1b659ec4e299155c814218e534c": {
      "model_module": "@jupyter-widgets/controls",
      "model_module_version": "1.5.0",
      "model_name": "DescriptionStyleModel",
      "state": {
       "description_width": ""
      }
     },
     "5e258d2fc89e4bd9b89e7efc2dddddc8": {
      "model_module": "@jupyter-widgets/base",
      "model_module_version": "1.2.0",
      "model_name": "LayoutModel",
      "state": {
       "width": "auto"
      }
     },
     "5f5b0745b0c7478daf15a90f43c5068f": {
      "model_module": "@jupyter-widgets/controls",
      "model_module_version": "1.5.0",
      "model_name": "HBoxModel",
      "state": {
       "children": [
        "IPY_MODEL_c568df540ed840629eb484af149d7513",
        "IPY_MODEL_2808346472f644b3836bc0e903bb5483"
       ],
       "layout": "IPY_MODEL_3c03c17e3313474f9c52dfc995e73901"
      }
     },
     "60d0ace087cd47c5ba969990684d9ff5": {
      "model_module": "@jupyter-widgets/controls",
      "model_module_version": "1.5.0",
      "model_name": "VBoxModel",
      "state": {
       "children": [
        "IPY_MODEL_d8e17f4fc4c9477a8e994429ff70cfcf",
        "IPY_MODEL_f68960a1a4d844099b00fbfa953f19f3",
        "IPY_MODEL_bc3a466834a44edda0152c3c8d02dbf3",
        "IPY_MODEL_9ef41a7ab6a84a15a6ed8a65d1476133"
       ],
       "layout": "IPY_MODEL_c3949c3989c94a1c83c1336ef19a01a1"
      }
     },
     "6123b3c16b9b482fa28335f6697954d4": {
      "model_module": "@jupyter-widgets/controls",
      "model_module_version": "1.5.0",
      "model_name": "HTMLModel",
      "state": {
       "layout": "IPY_MODEL_4d0a93cd724b49ffb993f33bf5aaa635",
       "style": "IPY_MODEL_65fc1cafb70b4a58bbb841b1987375bc",
       "value": "To remove spikes from the data:<br/><br/>   1. Click \"Show derivative histogram\" to determine at what magnitude the spikes are present.<br/>   2. Enter a suitable threshold (lower than the lowest magnitude outlier in the histogram) in the \"Threshold\" box, which will be the magnitude from which to search. <br/>   3. Click \"Find next\" to find the first spike.<br/>   4. If desired, the width and position of the boundaries used to replace the spike can be adjusted by clicking and dragging on the displayed plot.<br/>    5. View the spike (and the replacement data that will be added) and click \"Remove spike\" in order to alter the data as shown. The tool will automatically find the next spike to replace.<br/>   6. Repeat this process for each spike throughout the dataset, until the end of the dataset is reached.<br/>   7. Click \"OK\" when finished to close the spikes removal tool.<br/><br/>Note: Various settings can be configured in the \"Advanced settings\" section. Hover the mouse over each parameter for a description of what it does.<br/>"
      }
     },
     "6192bb38a4274a578b3fd36170e66edd": {
      "model_module": "@jupyter-widgets/controls",
      "model_module_version": "1.5.0",
      "model_name": "ButtonStyleModel",
      "state": {}
     },
     "6205e7d33ff14d0ca29479f22b6ff6aa": {
      "model_module": "@jupyter-widgets/controls",
      "model_module_version": "1.5.0",
      "model_name": "DescriptionStyleModel",
      "state": {
       "description_width": ""
      }
     },
     "62078a3410244262865ec857b774cc1d": {
      "model_module": "@jupyter-widgets/base",
      "model_module_version": "1.2.0",
      "model_name": "LayoutModel",
      "state": {}
     },
     "62d892162b964403880d36c988abb240": {
      "model_module": "jupyter-matplotlib",
      "model_module_version": "^0.7.2",
      "model_name": "ToolbarModel",
      "state": {
       "layout": "IPY_MODEL_c2188af58b3a4be0bc7138632c59aa4a",
       "toolitems": [
        [
         "Home",
         "Reset original view",
         "home",
         "home"
        ],
        [
         "Back",
         "Back to previous view",
         "arrow-left",
         "back"
        ],
        [
         "Forward",
         "Forward to next view",
         "arrow-right",
         "forward"
        ],
        [
         "Pan",
         "Pan axes with left mouse, zoom with right",
         "arrows",
         "pan"
        ],
        [
         "Zoom",
         "Zoom to rectangle",
         "square-o",
         "zoom"
        ],
        [
         "Download",
         "Download plot",
         "floppy-o",
         "save_figure"
        ]
       ]
      }
     },
     "63016a39914541c68661897c128e57a1": {
      "model_module": "@jupyter-widgets/controls",
      "model_module_version": "1.5.0",
      "model_name": "TextModel",
      "state": {
       "layout": "IPY_MODEL_41ad2d5a6c2344a59790fcb4968f37c0",
       "style": "IPY_MODEL_d0591481a87449ebacce6a9499eddb3e",
       "value": "left"
      }
     },
     "630a0ba5ff29428881ba9491a7808fc3": {
      "model_module": "@jupyter-widgets/controls",
      "model_module_version": "1.5.0",
      "model_name": "LabelModel",
      "state": {
       "layout": "IPY_MODEL_833528eefcbd40108a1eec13609d58eb",
       "style": "IPY_MODEL_a88068ad819240379c7756c61751356e",
       "value": "Default spike width"
      }
     },
     "63a483ac233b4793bcab30e70bd3befc": {
      "model_module": "@jupyter-widgets/controls",
      "model_module_version": "1.5.0",
      "model_name": "HBoxModel",
      "state": {
       "children": [
        "IPY_MODEL_9752440cd6334bde8e5e6766e3058314",
        "IPY_MODEL_ee9d433a17fc401199eca0bf95812b99"
       ],
       "layout": "IPY_MODEL_3c03c17e3313474f9c52dfc995e73901"
      }
     },
     "6444e05864e34e22a54bbacf591ba289": {
      "model_module": "@jupyter-widgets/base",
      "model_module_version": "1.2.0",
      "model_name": "LayoutModel",
      "state": {}
     },
     "646c557de8ff4b91822bc811241caf4b": {
      "model_module": "@jupyter-widgets/controls",
      "model_module_version": "1.5.0",
      "model_name": "HBoxModel",
      "state": {
       "children": [
        "IPY_MODEL_a8f695793737457b84904dad37b099a3",
        "IPY_MODEL_ce2fe49ee0a44ef1a78cd79b6ef86a9d"
       ],
       "layout": "IPY_MODEL_3c03c17e3313474f9c52dfc995e73901"
      }
     },
     "64bfa9c3a26d4b5eb7adf7eba14ffa84": {
      "model_module": "@jupyter-widgets/controls",
      "model_module_version": "1.5.0",
      "model_name": "LabelModel",
      "state": {
       "layout": "IPY_MODEL_82adf72c1a5b4f33a8f0cbd3e1fe51eb",
       "style": "IPY_MODEL_4bcbb9b0ffe241cea9a7cc732d28cee7",
       "value": "Energy resolution at Mn Ka (eV)"
      }
     },
     "651c026046fe4f02abd97497ed3bc1fb": {
      "model_module": "@jupyter-widgets/base",
      "model_module_version": "1.2.0",
      "model_name": "LayoutModel",
      "state": {}
     },
     "65a8907e50d24199b262f175744a98b8": {
      "model_module": "@jupyter-widgets/controls",
      "model_module_version": "1.5.0",
      "model_name": "VBoxModel",
      "state": {
       "children": [
        "IPY_MODEL_381dc6e1e7bb4ac181919601a13b7213",
        "IPY_MODEL_d0051e1947d24293b3bd5538ef937593",
        "IPY_MODEL_118beb7050844e8f9f966e7bd0437015",
        "IPY_MODEL_02ccf33784c14525a92d5f8963fe3938",
        "IPY_MODEL_f97e5ddaf3b04acabf5a24cbd899f0f0",
        "IPY_MODEL_e8c52c4def74438d90f88b606eb2b2a5"
       ],
       "layout": "IPY_MODEL_09d0fc12b34741fc93c44ec759362153"
      }
     },
     "65fc1cafb70b4a58bbb841b1987375bc": {
      "model_module": "@jupyter-widgets/controls",
      "model_module_version": "1.5.0",
      "model_name": "DescriptionStyleModel",
      "state": {
       "description_width": ""
      }
     },
     "66a856602e854c3a934e0adbff4fa7a6": {
      "model_module": "@jupyter-widgets/base",
      "model_module_version": "1.2.0",
      "model_name": "LayoutModel",
      "state": {}
     },
     "68553123631b45e484f253b7ba545103": {
      "model_module": "@jupyter-widgets/controls",
      "model_module_version": "1.5.0",
      "model_name": "HBoxModel",
      "state": {
       "children": [
        "IPY_MODEL_64bfa9c3a26d4b5eb7adf7eba14ffa84",
        "IPY_MODEL_1bade2fdfc7646bc8f273b612addc951"
       ],
       "layout": "IPY_MODEL_3c03c17e3313474f9c52dfc995e73901"
      }
     },
     "68dd4a584a5c43e2b270c11ff03b133b": {
      "model_module": "@jupyter-widgets/controls",
      "model_module_version": "1.5.0",
      "model_name": "AccordionModel",
      "state": {
       "_titles": {
        "0": "Help"
       },
       "children": [
        "IPY_MODEL_6123b3c16b9b482fa28335f6697954d4"
       ],
       "layout": "IPY_MODEL_ec7e6d47ad6a4fa0bbc19e9978ce61cb"
      }
     },
     "6b05a321da3d4ed4a64b6d7284564555": {
      "model_module": "@jupyter-widgets/controls",
      "model_module_version": "1.5.0",
      "model_name": "LabelModel",
      "state": {
       "layout": "IPY_MODEL_b6311dc12bc7450e9786af744c48c9ac",
       "style": "IPY_MODEL_9aafb7baf6c9499581ec5d08d9666385",
       "value": "Navigate left"
      }
     },
     "6c09490d37da454c834f2ae38dde10ea": {
      "model_module": "@jupyter-widgets/controls",
      "model_module_version": "1.5.0",
      "model_name": "FloatTextModel",
      "state": {
       "layout": "IPY_MODEL_1c7778ad444d4a32b7b749c392093d31",
       "step": null,
       "style": "IPY_MODEL_922d9ed1767a4131bfb1c2fb173c09cb",
       "value": 130
      }
     },
     "6c23260af8e84e27a0d235ef4bd75101": {
      "model_module": "@jupyter-widgets/base",
      "model_module_version": "1.2.0",
      "model_name": "LayoutModel",
      "state": {}
     },
     "6c84e9cde4494f87bf09484a6f747834": {
      "model_module": "@jupyter-widgets/controls",
      "model_module_version": "1.5.0",
      "model_name": "LabelModel",
      "state": {
       "layout": "IPY_MODEL_9a28a35dfdb14f0fb2cd96a8c201b17f",
       "style": "IPY_MODEL_4287507aae274ea3b6930becfa7c12cb",
       "value": "Navigate right"
      }
     },
     "6d0dceacdca44cf8890f94478221c9ce": {
      "model_module": "@jupyter-widgets/controls",
      "model_module_version": "1.5.0",
      "model_name": "FloatTextModel",
      "state": {
       "layout": "IPY_MODEL_8caaddabc8cb4375aa7aaa7508cf119b",
       "step": null,
       "style": "IPY_MODEL_ca11390bd2c34e67874e940696bac2dd"
      }
     },
     "6de574886f67497cb19943d6f0ec0576": {
      "model_module": "@jupyter-widgets/base",
      "model_module_version": "1.2.0",
      "model_name": "LayoutModel",
      "state": {}
     },
     "6e68aed72ed648b785067063e0abf68a": {
      "model_module": "@jupyter-widgets/controls",
      "model_module_version": "1.5.0",
      "model_name": "DescriptionStyleModel",
      "state": {
       "description_width": ""
      }
     },
     "6ee09604afde4267b02400ad0e78e231": {
      "model_module": "@jupyter-widgets/controls",
      "model_module_version": "1.5.0",
      "model_name": "DescriptionStyleModel",
      "state": {
       "description_width": ""
      }
     },
     "6f52358a84e449e693dcaf2c5d7b29e8": {
      "model_module": "@jupyter-widgets/controls",
      "model_module_version": "1.5.0",
      "model_name": "DescriptionStyleModel",
      "state": {
       "description_width": ""
      }
     },
     "6f66ca5c8d4f4264a88b94d28ce3a8a1": {
      "model_module": "@jupyter-widgets/controls",
      "model_module_version": "1.5.0",
      "model_name": "DescriptionStyleModel",
      "state": {
       "description_width": ""
      }
     },
     "6fff41f18f2c4d77ab06f7bf43edba5a": {
      "model_module": "jupyter-matplotlib",
      "model_module_version": "^0.7.2",
      "model_name": "ToolbarModel",
      "state": {
       "layout": "IPY_MODEL_7582e88341cc4b3c8f9c6180068afbae",
       "toolitems": [
        [
         "Home",
         "Reset original view",
         "home",
         "home"
        ],
        [
         "Back",
         "Back to previous view",
         "arrow-left",
         "back"
        ],
        [
         "Forward",
         "Forward to next view",
         "arrow-right",
         "forward"
        ],
        [
         "Pan",
         "Pan axes with left mouse, zoom with right",
         "arrows",
         "pan"
        ],
        [
         "Zoom",
         "Zoom to rectangle",
         "square-o",
         "zoom"
        ],
        [
         "Download",
         "Download plot",
         "floppy-o",
         "save_figure"
        ]
       ]
      }
     },
     "710278b286a74647b174a8f5ed03d30e": {
      "model_module": "@jupyter-widgets/base",
      "model_module_version": "1.2.0",
      "model_name": "LayoutModel",
      "state": {}
     },
     "710d9ceb07eb41e4a05fd81df8240e88": {
      "model_module": "@jupyter-widgets/controls",
      "model_module_version": "1.5.0",
      "model_name": "DescriptionStyleModel",
      "state": {
       "description_width": ""
      }
     },
     "711027fd7c1b48869b925c03d58c6349": {
      "model_module": "@jupyter-widgets/controls",
      "model_module_version": "1.5.0",
      "model_name": "DescriptionStyleModel",
      "state": {
       "description_width": ""
      }
     },
     "719368875c684bc2a0cb682946b2bae4": {
      "model_module": "@jupyter-widgets/controls",
      "model_module_version": "1.5.0",
      "model_name": "DescriptionStyleModel",
      "state": {
       "description_width": ""
      }
     },
     "7193a2dfaeb54f7da6596c569cc82251": {
      "model_module": "@jupyter-widgets/controls",
      "model_module_version": "1.5.0",
      "model_name": "HBoxModel",
      "state": {
       "children": [
        "IPY_MODEL_541dc88f22524ae09cdb5ace570741d7",
        "IPY_MODEL_fecc82a2626a49f7829a6e86a10fd6dd"
       ],
       "layout": "IPY_MODEL_3c03c17e3313474f9c52dfc995e73901"
      }
     },
     "726aa1b0b7474d62b9219f779cfce369": {
      "model_module": "@jupyter-widgets/controls",
      "model_module_version": "1.5.0",
      "model_name": "ProgressStyleModel",
      "state": {
       "description_width": ""
      }
     },
     "734f7935f504400fb130749dc2b32f2e": {
      "model_module": "@jupyter-widgets/controls",
      "model_module_version": "1.5.0",
      "model_name": "HBoxModel",
      "state": {
       "children": [
        "IPY_MODEL_772c9a3b9ecb48b798c7ad712d9402fa",
        "IPY_MODEL_a7f4202a41234372a78268a59587df55"
       ],
       "layout": "IPY_MODEL_3c03c17e3313474f9c52dfc995e73901"
      }
     },
     "739eadac28034f5999a251fc310d6a73": {
      "model_module": "@jupyter-widgets/base",
      "model_module_version": "1.2.0",
      "model_name": "LayoutModel",
      "state": {}
     },
     "74df37196b0a4b0f8c5ff3451b86e353": {
      "model_module": "@jupyter-widgets/controls",
      "model_module_version": "1.5.0",
      "model_name": "DescriptionStyleModel",
      "state": {
       "description_width": ""
      }
     },
     "74f0e46568d54a11b57103d3e456e331": {
      "model_module": "@jupyter-widgets/base",
      "model_module_version": "1.2.0",
      "model_name": "LayoutModel",
      "state": {
       "width": "auto"
      }
     },
     "751da829450a44f4802afac65037cd2a": {
      "model_module": "@jupyter-widgets/base",
      "model_module_version": "1.2.0",
      "model_name": "LayoutModel",
      "state": {
       "width": "auto"
      }
     },
     "7582e88341cc4b3c8f9c6180068afbae": {
      "model_module": "@jupyter-widgets/base",
      "model_module_version": "1.2.0",
      "model_name": "LayoutModel",
      "state": {}
     },
     "759a957f497b424aaf9a9414b42650eb": {
      "model_module": "@jupyter-widgets/controls",
      "model_module_version": "1.5.0",
      "model_name": "DescriptionStyleModel",
      "state": {
       "description_width": ""
      }
     },
     "76ed78b8a8114ebcb2da23a7642db78e": {
      "model_module": "@jupyter-widgets/base",
      "model_module_version": "1.2.0",
      "model_name": "LayoutModel",
      "state": {}
     },
     "772c9a3b9ecb48b798c7ad712d9402fa": {
      "model_module": "@jupyter-widgets/controls",
      "model_module_version": "1.5.0",
      "model_name": "LabelModel",
      "state": {
       "layout": "IPY_MODEL_3b0315f872ca41a88d499de619bf618d",
       "style": "IPY_MODEL_24c5186fb265448e9d6fe3841f9f1424",
       "value": "Modifier key for 5th and 6th dimensions"
      }
     },
     "77ace1ba82a7467598ce2af6e77a4135": {
      "model_module": "@jupyter-widgets/controls",
      "model_module_version": "1.5.0",
      "model_name": "CheckboxModel",
      "state": {
       "disabled": false,
       "layout": "IPY_MODEL_ae88661574d545dc9ec24b77ea2d594b",
       "style": "IPY_MODEL_e6ae007474684aec82cbc365c4279e09",
       "value": true
      }
     },
     "77cb15ea16ce48708ee3c082a396a1c4": {
      "model_module": "@jupyter-widgets/controls",
      "model_module_version": "1.5.0",
      "model_name": "DescriptionStyleModel",
      "state": {
       "description_width": ""
      }
     },
     "77d1c37e84f84013bd7ac7572e3908f3": {
      "model_module": "@jupyter-widgets/base",
      "model_module_version": "1.2.0",
      "model_name": "LayoutModel",
      "state": {}
     },
     "77f5c9b45dc14e5abcf64bc34e8a7754": {
      "model_module": "@jupyter-widgets/base",
      "model_module_version": "1.2.0",
      "model_name": "LayoutModel",
      "state": {}
     },
     "7968878077ee4b4f80bc20c90a253379": {
      "model_module": "@jupyter-widgets/controls",
      "model_module_version": "1.5.0",
      "model_name": "DescriptionStyleModel",
      "state": {
       "description_width": ""
      }
     },
     "797b7db0a766455a88b00b1e2c128a28": {
      "model_module": "@jupyter-widgets/base",
      "model_module_version": "1.2.0",
      "model_name": "LayoutModel",
      "state": {}
     },
     "79f7ef93fff54868bc9f4b4cc1047f20": {
      "model_module": "@jupyter-widgets/controls",
      "model_module_version": "1.5.0",
      "model_name": "DescriptionStyleModel",
      "state": {
       "description_width": ""
      }
     },
     "7a0709b434f844d299f0a0ceaeae97c1": {
      "model_module": "@jupyter-widgets/base",
      "model_module_version": "1.2.0",
      "model_name": "LayoutModel",
      "state": {}
     },
     "7a53769938b744b994cc707f0080ada5": {
      "model_module": "jupyter-matplotlib",
      "model_module_version": "^0.7.2",
      "model_name": "ToolbarModel",
      "state": {
       "layout": "IPY_MODEL_e951f92af92048fb93b3fa9074de02a8",
       "toolitems": [
        [
         "Home",
         "Reset original view",
         "home",
         "home"
        ],
        [
         "Back",
         "Back to previous view",
         "arrow-left",
         "back"
        ],
        [
         "Forward",
         "Forward to next view",
         "arrow-right",
         "forward"
        ],
        [
         "Pan",
         "Pan axes with left mouse, zoom with right",
         "arrows",
         "pan"
        ],
        [
         "Zoom",
         "Zoom to rectangle",
         "square-o",
         "zoom"
        ],
        [
         "Download",
         "Download plot",
         "floppy-o",
         "save_figure"
        ]
       ]
      }
     },
     "7aa059dfbcef420986fc5ebc302d4d35": {
      "model_module": "@jupyter-widgets/controls",
      "model_module_version": "1.5.0",
      "model_name": "HBoxModel",
      "state": {
       "children": [
        "IPY_MODEL_c2aca7289e004998ae2d482ddbffdb0d",
        "IPY_MODEL_4e94e03ac5af4e5e9e66fde639e821d2"
       ],
       "layout": "IPY_MODEL_3c03c17e3313474f9c52dfc995e73901"
      }
     },
     "7b190ac250744a3a97d290348558255c": {
      "model_module": "@jupyter-widgets/base",
      "model_module_version": "1.2.0",
      "model_name": "LayoutModel",
      "state": {
       "width": "auto"
      }
     },
     "7bf47fcdde4d45089492d2c3532bed2e": {
      "model_module": "@jupyter-widgets/controls",
      "model_module_version": "1.5.0",
      "model_name": "DescriptionStyleModel",
      "state": {
       "description_width": ""
      }
     },
     "7c16ecfaebbb480fa4122f91f5ae5e0a": {
      "model_module": "@jupyter-widgets/controls",
      "model_module_version": "1.5.0",
      "model_name": "DescriptionStyleModel",
      "state": {
       "description_width": ""
      }
     },
     "7c5e48faf61f4fa393c8dc4532481107": {
      "model_module": "@jupyter-widgets/controls",
      "model_module_version": "1.5.0",
      "model_name": "TabModel",
      "state": {
       "_titles": {
        "0": "General",
        "1": "GUIs",
        "2": "Plot",
        "3": "EELS",
        "4": "EDS"
       },
       "children": [
        "IPY_MODEL_65a8907e50d24199b262f175744a98b8",
        "IPY_MODEL_b8e69e4c05b542e19bfdd4c4109ac314",
        "IPY_MODEL_39e053a2a66a497ba23cc67d0af4390b",
        "IPY_MODEL_41953f4d492941f6a4968cc5261783bf",
        "IPY_MODEL_88b1ea73268e40019fd4815e613074a5"
       ],
       "layout": "IPY_MODEL_77f5c9b45dc14e5abcf64bc34e8a7754"
      }
     },
     "7c7b19ff8a1348f692faff725ba464d3": {
      "model_module": "@jupyter-widgets/base",
      "model_module_version": "1.2.0",
      "model_name": "LayoutModel",
      "state": {}
     },
     "7d2ce990d7fc4ee6bcd10b72a28e7d0d": {
      "model_module": "@jupyter-widgets/base",
      "model_module_version": "1.2.0",
      "model_name": "LayoutModel",
      "state": {}
     },
     "7e0ca6c021924f38a8a0a5f8130dbe22": {
      "model_module": "@jupyter-widgets/base",
      "model_module_version": "1.2.0",
      "model_name": "LayoutModel",
      "state": {
       "width": "auto"
      }
     },
     "7e458f4a93aa48d29e37616b88813ed6": {
      "model_module": "@jupyter-widgets/controls",
      "model_module_version": "1.5.0",
      "model_name": "DescriptionStyleModel",
      "state": {
       "description_width": ""
      }
     },
     "7ee588bd49eb4ad28aedd363df5e51eb": {
      "model_module": "@jupyter-widgets/controls",
      "model_module_version": "1.5.0",
      "model_name": "DescriptionStyleModel",
      "state": {
       "description_width": ""
      }
     },
     "80232cd468484ebea963dd646beb7fec": {
      "model_module": "@jupyter-widgets/controls",
      "model_module_version": "1.5.0",
      "model_name": "DescriptionStyleModel",
      "state": {
       "description_width": ""
      }
     },
     "806f2d2182fa433f98a72cf657aa8dd5": {
      "model_module": "jupyter-matplotlib",
      "model_module_version": "^0.7.2",
      "model_name": "ToolbarModel",
      "state": {
       "layout": "IPY_MODEL_d0ba5514b9cb49fd964b1a7a1d30e588",
       "toolitems": [
        [
         "Home",
         "Reset original view",
         "home",
         "home"
        ],
        [
         "Back",
         "Back to previous view",
         "arrow-left",
         "back"
        ],
        [
         "Forward",
         "Forward to next view",
         "arrow-right",
         "forward"
        ],
        [
         "Pan",
         "Pan axes with left mouse, zoom with right",
         "arrows",
         "pan"
        ],
        [
         "Zoom",
         "Zoom to rectangle",
         "square-o",
         "zoom"
        ],
        [
         "Download",
         "Download plot",
         "floppy-o",
         "save_figure"
        ]
       ]
      }
     },
     "81118e6923294051854a33c04232ed55": {
      "model_module": "@jupyter-widgets/controls",
      "model_module_version": "1.5.0",
      "model_name": "DescriptionStyleModel",
      "state": {
       "description_width": ""
      }
     },
     "8238946e240448628501d15b5e0055d8": {
      "model_module": "@jupyter-widgets/base",
      "model_module_version": "1.2.0",
      "model_name": "LayoutModel",
      "state": {}
     },
     "82adf72c1a5b4f33a8f0cbd3e1fe51eb": {
      "model_module": "@jupyter-widgets/base",
      "model_module_version": "1.2.0",
      "model_name": "LayoutModel",
      "state": {
       "width": "auto"
      }
     },
     "833528eefcbd40108a1eec13609d58eb": {
      "model_module": "@jupyter-widgets/base",
      "model_module_version": "1.2.0",
      "model_name": "LayoutModel",
      "state": {
       "width": "auto"
      }
     },
     "8680767ed977404ebe522b507d2bc601": {
      "model_module": "@jupyter-widgets/base",
      "model_module_version": "1.2.0",
      "model_name": "LayoutModel",
      "state": {
       "width": "auto"
      }
     },
     "86ced06935594a7286767d3157b0b8b5": {
      "model_module": "@jupyter-widgets/base",
      "model_module_version": "1.2.0",
      "model_name": "LayoutModel",
      "state": {}
     },
     "882a28ce63ba47ceae4417495f80520a": {
      "model_module": "@jupyter-widgets/controls",
      "model_module_version": "1.5.0",
      "model_name": "HBoxModel",
      "state": {
       "children": [
        "IPY_MODEL_d80c2361b93f47e9a40ae62174991145",
        "IPY_MODEL_b9031e44b34546caa18bb11601b2b40e"
       ],
       "layout": "IPY_MODEL_3c03c17e3313474f9c52dfc995e73901"
      }
     },
     "88750fb6805c480ea34110b7d89b44ea": {
      "model_module": "@jupyter-widgets/base",
      "model_module_version": "1.2.0",
      "model_name": "LayoutModel",
      "state": {}
     },
     "88b1ea73268e40019fd4815e613074a5": {
      "model_module": "@jupyter-widgets/controls",
      "model_module_version": "1.5.0",
      "model_name": "VBoxModel",
      "state": {
       "children": [
        "IPY_MODEL_f346503c49d94f7f864493a08f336f12",
        "IPY_MODEL_d00579ecdbb94de09d655e0d1731bdbd",
        "IPY_MODEL_68553123631b45e484f253b7ba545103",
        "IPY_MODEL_63a483ac233b4793bcab30e70bd3befc"
       ],
       "layout": "IPY_MODEL_39a694b1ae184bb6b0f4af591592ac82"
      }
     },
     "88c692004f05446fb2f465c67500125e": {
      "model_module": "@jupyter-widgets/base",
      "model_module_version": "1.2.0",
      "model_name": "LayoutModel",
      "state": {
       "width": "auto"
      }
     },
     "88de5fd07a5e4185a77205b8c5d7ab24": {
      "model_module": "@jupyter-widgets/controls",
      "model_module_version": "1.5.0",
      "model_name": "DescriptionStyleModel",
      "state": {
       "description_width": ""
      }
     },
     "8a57452ccb7b438f8fed304eb17c05cc": {
      "model_module": "@jupyter-widgets/controls",
      "model_module_version": "1.5.0",
      "model_name": "DescriptionStyleModel",
      "state": {
       "description_width": ""
      }
     },
     "8bc1c87b254a4355b2caa0de467e1a44": {
      "model_module": "@jupyter-widgets/controls",
      "model_module_version": "1.5.0",
      "model_name": "IntSliderModel",
      "state": {
       "layout": "IPY_MODEL_a7fe36a498f346e28a30d156fa0d0b5c",
       "max": 10,
       "min": 1,
       "style": "IPY_MODEL_d110d898a7df46b9a83bffc435f5e0bc",
       "value": 3
      }
     },
     "8c4f3deb6e594c3d954800413faf7f3e": {
      "model_module": "@jupyter-widgets/controls",
      "model_module_version": "1.5.0",
      "model_name": "LabelModel",
      "state": {
       "layout": "IPY_MODEL_751da829450a44f4802afac65037cd2a",
       "style": "IPY_MODEL_9512af3a59b8436283f3b3d4d0e5f317",
       "value": "Azimuth angle"
      }
     },
     "8ca76f0886d249dd86ba022a8dde990c": {
      "model_module": "@jupyter-widgets/controls",
      "model_module_version": "1.5.0",
      "model_name": "DescriptionStyleModel",
      "state": {
       "description_width": ""
      }
     },
     "8caaddabc8cb4375aa7aaa7508cf119b": {
      "model_module": "@jupyter-widgets/base",
      "model_module_version": "1.2.0",
      "model_name": "LayoutModel",
      "state": {}
     },
     "8cde353105894d839f81ae6f1aadd189": {
      "model_module": "@jupyter-widgets/controls",
      "model_module_version": "1.5.0",
      "model_name": "LabelModel",
      "state": {
       "layout": "IPY_MODEL_4b5100e6b7ff4fdb90c0a912a74e145a",
       "style": "IPY_MODEL_d055a28cb1954ca18e818059e4c97ece",
       "value": "Enable traitsui gui"
      }
     },
     "8cefac0a006749e6b9b32aa90f37b1d6": {
      "model_module": "@jupyter-widgets/controls",
      "model_module_version": "1.5.0",
      "model_name": "VBoxModel",
      "state": {
       "children": [
        "IPY_MODEL_8e87149da496411a86b53c3b91c90613",
        "IPY_MODEL_0ffde4b00a7c4ec4a5845493347da8df"
       ],
       "layout": "IPY_MODEL_29dc29dd49ee42599406f9e9feb77b70"
      }
     },
     "8e108177c1064b90a3681b013bd85a8d": {
      "model_module": "@jupyter-widgets/controls",
      "model_module_version": "1.5.0",
      "model_name": "DropdownModel",
      "state": {
       "_options_labels": [
        "Linear",
        "Spline"
       ],
       "index": 0,
       "layout": "IPY_MODEL_d6805692361e4f9c81647b2ec8b1d493",
       "style": "IPY_MODEL_dea11db4584d4cceac5468f10e2c6bd6"
      }
     },
     "8e87149da496411a86b53c3b91c90613": {
      "model_module": "@jupyter-widgets/controls",
      "model_module_version": "1.5.0",
      "model_name": "TabModel",
      "state": {
       "_titles": {
        "0": "General",
        "1": "GUIs",
        "2": "Plot",
        "3": "EELS",
        "4": "EDS"
       },
       "children": [
        "IPY_MODEL_06faa37bf6924428a2db59cca79ef126",
        "IPY_MODEL_2c6d34ca166b4ffe9087d74f889d2ee8",
        "IPY_MODEL_201d88036720426f8029704e53024d68",
        "IPY_MODEL_17a673f889854924b34020e3220d62ed",
        "IPY_MODEL_1daeefe506714327a7b0e8042abeaa9d"
       ],
       "layout": "IPY_MODEL_cfe8a808c8a04a62ada880f6909791a7"
      }
     },
     "8f126ef7b3d84bd3aae11d98e7381d89": {
      "model_module": "@jupyter-widgets/controls",
      "model_module_version": "1.5.0",
      "model_name": "HBoxModel",
      "state": {
       "children": [
        "IPY_MODEL_18a98ad5fbc54ea49c8c678ab705ef5c",
        "IPY_MODEL_c18a656f4bb04afe861b9f1b742883d6"
       ],
       "layout": "IPY_MODEL_3c03c17e3313474f9c52dfc995e73901"
      }
     },
     "8f7b18fc02e94ec88539e1d251361948": {
      "model_module": "@jupyter-widgets/base",
      "model_module_version": "1.2.0",
      "model_name": "LayoutModel",
      "state": {}
     },
     "908e914ddbf9418981131315b32564de": {
      "model_module": "@jupyter-widgets/controls",
      "model_module_version": "1.5.0",
      "model_name": "LabelModel",
      "state": {
       "layout": "IPY_MODEL_4ffd631f919b413bbec9e02d74e44cfe",
       "style": "IPY_MODEL_d0494646b7554bfaac198648a61e7f6e",
       "value": "GOS directory"
      }
     },
     "90de58fa8eb24cca8897c7397ba88021": {
      "model_module": "@jupyter-widgets/controls",
      "model_module_version": "1.5.0",
      "model_name": "DescriptionStyleModel",
      "state": {
       "description_width": ""
      }
     },
     "915cbae91724421a9e1d877c70c8ce02": {
      "model_module": "@jupyter-widgets/base",
      "model_module_version": "1.2.0",
      "model_name": "LayoutModel",
      "state": {}
     },
     "915e83ddaf9d49f492e639f54ce64daf": {
      "model_module": "@jupyter-widgets/controls",
      "model_module_version": "1.5.0",
      "model_name": "HBoxModel",
      "state": {
       "children": [
        "IPY_MODEL_3f54c034b893408aa09f665402e486e2",
        "IPY_MODEL_dd27cadc8f534df0bad4494e54fad135"
       ],
       "layout": "IPY_MODEL_3c03c17e3313474f9c52dfc995e73901"
      }
     },
     "91d857e0957341c9a2402db04cae47c2": {
      "model_module": "@jupyter-widgets/base",
      "model_module_version": "1.2.0",
      "model_name": "LayoutModel",
      "state": {}
     },
     "921f3e7ef014484db02cd89305062dfc": {
      "model_module": "@jupyter-widgets/controls",
      "model_module_version": "1.5.0",
      "model_name": "DescriptionStyleModel",
      "state": {
       "description_width": ""
      }
     },
     "922d9ed1767a4131bfb1c2fb173c09cb": {
      "model_module": "@jupyter-widgets/controls",
      "model_module_version": "1.5.0",
      "model_name": "DescriptionStyleModel",
      "state": {
       "description_width": ""
      }
     },
     "92416f868a6540d68119ce36f85e9aa3": {
      "model_module": "@jupyter-widgets/base",
      "model_module_version": "1.2.0",
      "model_name": "LayoutModel",
      "state": {}
     },
     "928b4ca15a084fc2bc00708f5f6be30d": {
      "model_module": "@jupyter-widgets/controls",
      "model_module_version": "1.5.0",
      "model_name": "AccordionModel",
      "state": {
       "_titles": {
        "0": "Advanced settings"
       },
       "children": [
        "IPY_MODEL_60d0ace087cd47c5ba969990684d9ff5"
       ],
       "layout": "IPY_MODEL_5bee3cc81e424514bd25320a931b87aa"
      }
     },
     "929bc2e243a347cdba9277d9318db8e7": {
      "model_module": "@jupyter-widgets/base",
      "model_module_version": "1.2.0",
      "model_name": "LayoutModel",
      "state": {}
     },
     "9401bd05cf5d4f9eb6b91dc5f4a4e162": {
      "model_module": "@jupyter-widgets/controls",
      "model_module_version": "1.5.0",
      "model_name": "ButtonStyleModel",
      "state": {}
     },
     "94c1e19b5adc4f42b31b4676c7691798": {
      "model_module": "@jupyter-widgets/controls",
      "model_module_version": "1.5.0",
      "model_name": "DescriptionStyleModel",
      "state": {
       "description_width": ""
      }
     },
     "94fb3b8d527240dd924abddb50c3b569": {
      "model_module": "@jupyter-widgets/controls",
      "model_module_version": "1.5.0",
      "model_name": "LabelModel",
      "state": {
       "layout": "IPY_MODEL_8680767ed977404ebe522b507d2bc601",
       "style": "IPY_MODEL_00e5502110c34a188ebb92e7c890e664",
       "value": "GOS directory"
      }
     },
     "94fe40cbc61f4e04bba7ba352c3a823c": {
      "model_module": "@jupyter-widgets/controls",
      "model_module_version": "1.5.0",
      "model_name": "LabelModel",
      "state": {
       "layout": "IPY_MODEL_1c86b9d0570940ea9a5a223277826ece",
       "style": "IPY_MODEL_46806a5af7554708a11352ff16c3d9a0",
       "value": "Enable ipywidgets gui"
      }
     },
     "9512af3a59b8436283f3b3d4d0e5f317": {
      "model_module": "@jupyter-widgets/controls",
      "model_module_version": "1.5.0",
      "model_name": "DescriptionStyleModel",
      "state": {
       "description_width": ""
      }
     },
     "956860b96d7f4c32b7ede21f7d675734": {
      "model_module": "@jupyter-widgets/controls",
      "model_module_version": "1.5.0",
      "model_name": "FloatTextModel",
      "state": {
       "layout": "IPY_MODEL_bfbda48d45184bcba24df9b627b0bd31",
       "step": null,
       "style": "IPY_MODEL_77cb15ea16ce48708ee3c082a396a1c4"
      }
     },
     "9582bc978f8e48ceaa677f6ad1fbd7f0": {
      "model_module": "@jupyter-widgets/controls",
      "model_module_version": "1.5.0",
      "model_name": "LabelModel",
      "state": {
       "layout": "IPY_MODEL_bf8ffcc9aafc453d8085fac8c9cd3ffd",
       "style": "IPY_MODEL_81118e6923294051854a33c04232ed55",
       "value": "Expand structures in DictionaryTreeBrowser"
      }
     },
     "96156b0553b94cc984a309bb6dd7e6f1": {
      "model_module": "@jupyter-widgets/base",
      "model_module_version": "1.2.0",
      "model_name": "LayoutModel",
      "state": {}
     },
     "967b1b2b54f94e16b5fe73bcd05c6aa8": {
      "model_module": "@jupyter-widgets/base",
      "model_module_version": "1.2.0",
      "model_name": "LayoutModel",
      "state": {}
     },
     "9749a29364204b9f87e0e2e1e647b953": {
      "model_module": "jupyter-matplotlib",
      "model_module_version": "^0.7.2",
      "model_name": "ToolbarModel",
      "state": {
       "layout": "IPY_MODEL_1ce08d62418b4f9f86ebc8b8e74f2e4d",
       "toolitems": [
        [
         "Home",
         "Reset original view",
         "home",
         "home"
        ],
        [
         "Back",
         "Back to previous view",
         "arrow-left",
         "back"
        ],
        [
         "Forward",
         "Forward to next view",
         "arrow-right",
         "forward"
        ],
        [
         "Pan",
         "Pan axes with left mouse, zoom with right",
         "arrows",
         "pan"
        ],
        [
         "Zoom",
         "Zoom to rectangle",
         "square-o",
         "zoom"
        ],
        [
         "Download",
         "Download plot",
         "floppy-o",
         "save_figure"
        ]
       ]
      }
     },
     "9752440cd6334bde8e5e6766e3058314": {
      "model_module": "@jupyter-widgets/controls",
      "model_module_version": "1.5.0",
      "model_name": "LabelModel",
      "state": {
       "layout": "IPY_MODEL_d67201ee58ba4697a0bcdc824c9b3f81",
       "style": "IPY_MODEL_94c1e19b5adc4f42b31b4676c7691798",
       "value": "Stage tilt"
      }
     },
     "99541c53a3cf4972bb0adb5b9e903e12": {
      "model_module": "@jupyter-widgets/controls",
      "model_module_version": "1.5.0",
      "model_name": "TextModel",
      "state": {
       "layout": "IPY_MODEL_96156b0553b94cc984a309bb6dd7e6f1",
       "style": "IPY_MODEL_2c8c8b02a4774d49ac7024de42319b9a",
       "value": "C:\\Users\\aa1625/.hyperspy\\EELS_GOS"
      }
     },
     "998587d9686d453ea3c40e2a86071d31": {
      "model_module": "@jupyter-widgets/controls",
      "model_module_version": "1.5.0",
      "model_name": "HBoxModel",
      "state": {
       "children": [
        "IPY_MODEL_a583a96d70714663bf04e332f5870071",
        "IPY_MODEL_b40d2fbbc4b4428490ef6798a4affa97"
       ],
       "layout": "IPY_MODEL_3c03c17e3313474f9c52dfc995e73901"
      }
     },
     "99f6671178dd4cb28dc8d1ddb25e03b1": {
      "model_module": "@jupyter-widgets/controls",
      "model_module_version": "1.5.0",
      "model_name": "LabelModel",
      "state": {
       "layout": "IPY_MODEL_ab22916c66d24a5fa88a445bc84d8742",
       "style": "IPY_MODEL_bc594620bcfc46b680d97458accbd362",
       "value": "Enable ipywidgets gui"
      }
     },
     "9a0da69644964717b7708f9600f6dfa9": {
      "model_module": "@jupyter-widgets/base",
      "model_module_version": "1.2.0",
      "model_name": "LayoutModel",
      "state": {}
     },
     "9a28a35dfdb14f0fb2cd96a8c201b17f": {
      "model_module": "@jupyter-widgets/base",
      "model_module_version": "1.2.0",
      "model_name": "LayoutModel",
      "state": {
       "width": "auto"
      }
     },
     "9aafb7baf6c9499581ec5d08d9666385": {
      "model_module": "@jupyter-widgets/controls",
      "model_module_version": "1.5.0",
      "model_name": "DescriptionStyleModel",
      "state": {
       "description_width": ""
      }
     },
     "9aeaf30062ce4e6ea1abf9077c8bd349": {
      "model_module": "@jupyter-widgets/controls",
      "model_module_version": "1.5.0",
      "model_name": "ButtonModel",
      "state": {
       "description": "Show derivative histogram",
       "layout": "IPY_MODEL_e5fd1db1b7cb415f9f2131162455d336",
       "style": "IPY_MODEL_11db174970394d53b669fe58b37fb98d",
       "tooltip": "This figure is useful to estimate the threshold."
      }
     },
     "9ca6f548d1884e80b38122ab7526aa81": {
      "model_module": "@jupyter-widgets/controls",
      "model_module_version": "1.5.0",
      "model_name": "CheckboxModel",
      "state": {
       "disabled": false,
       "layout": "IPY_MODEL_084610f3653f46c69e7a0b6ea65f0834",
       "style": "IPY_MODEL_fea32c5d811b4d8fb36b29fd2f63bcf7",
       "value": true
      }
     },
     "9d783d7ee351400f974a118a9b8e18c2": {
      "model_module": "@jupyter-widgets/controls",
      "model_module_version": "1.5.0",
      "model_name": "LabelModel",
      "state": {
       "layout": "IPY_MODEL_b3bae8d7bf594f9f970d54c4fb74d86f",
       "style": "IPY_MODEL_6ee09604afde4267b02400ad0e78e231",
       "value": "Elevation angle"
      }
     },
     "9ef41a7ab6a84a15a6ed8a65d1476133": {
      "model_module": "@jupyter-widgets/controls",
      "model_module_version": "1.5.0",
      "model_name": "HBoxModel",
      "state": {
       "children": [
        "IPY_MODEL_2704216d814a4e619defaa3bf7a9e8c2",
        "IPY_MODEL_8bc1c87b254a4355b2caa0de467e1a44"
       ],
       "layout": "IPY_MODEL_3c03c17e3313474f9c52dfc995e73901"
      }
     },
     "9f66571f30eb41dba5867c183fb18540": {
      "model_module": "@jupyter-widgets/controls",
      "model_module_version": "1.5.0",
      "model_name": "HBoxModel",
      "state": {
       "children": [
        "IPY_MODEL_5d9455e7b1f64424a77921c1a249a469",
        "IPY_MODEL_34617a44b33e4511a95801a323abb2db"
       ],
       "layout": "IPY_MODEL_3c03c17e3313474f9c52dfc995e73901"
      }
     },
     "9f8c922b6cee42b897745acbf48ed1c0": {
      "model_module": "@jupyter-widgets/base",
      "model_module_version": "1.2.0",
      "model_name": "LayoutModel",
      "state": {}
     },
     "9fae65da4f654d4ab023d450055fe1c9": {
      "model_module": "@jupyter-widgets/base",
      "model_module_version": "1.2.0",
      "model_name": "LayoutModel",
      "state": {}
     },
     "a0ba31f7c91f4d9aa12efa44d9260e7e": {
      "model_module": "@jupyter-widgets/base",
      "model_module_version": "1.2.0",
      "model_name": "LayoutModel",
      "state": {
       "width": "auto"
      }
     },
     "a2c9009d3fc74106b958f89d28940bef": {
      "model_module": "@jupyter-widgets/base",
      "model_module_version": "1.2.0",
      "model_name": "LayoutModel",
      "state": {}
     },
     "a2e30aa740684aebae9d9160aa2cd261": {
      "model_module": "@jupyter-widgets/controls",
      "model_module_version": "1.5.0",
      "model_name": "IntSliderModel",
      "state": {
       "layout": "IPY_MODEL_7c7b19ff8a1348f692faff725ba464d3",
       "style": "IPY_MODEL_baa067a2bb004f60b7ff6c54b1082685"
      }
     },
     "a34bd007d0df42249922d0db893744d1": {
      "model_module": "@jupyter-widgets/controls",
      "model_module_version": "1.5.0",
      "model_name": "TextModel",
      "state": {
       "layout": "IPY_MODEL_3adc509fe26b4c59b3be35a564fc7b30",
       "style": "IPY_MODEL_b5dfca4234fe4ed48c3873f987fb5cae",
       "value": "C:\\Users\\aa1625/.hyperspy\\EELS_GOS"
      }
     },
     "a3d70ae6870048dcbead1fd16c671105": {
      "model_module": "@jupyter-widgets/controls",
      "model_module_version": "1.5.0",
      "model_name": "LabelModel",
      "state": {
       "layout": "IPY_MODEL_df163af627b54ca7ba0c3ebe2e30318a",
       "style": "IPY_MODEL_d721c8aa2764447eaffdff32e482a200",
       "value": "Nb progressbar"
      }
     },
     "a42be94904f64c149eb0b339bcb19502": {
      "model_module": "@jupyter-widgets/controls",
      "model_module_version": "1.5.0",
      "model_name": "ButtonStyleModel",
      "state": {}
     },
     "a442d7dfc92f4c8aa201babdfe6e9b52": {
      "model_module": "@jupyter-widgets/base",
      "model_module_version": "1.2.0",
      "model_name": "LayoutModel",
      "state": {}
     },
     "a44b8c292e7d4e01943ecb9c53ea2cf6": {
      "model_module": "@jupyter-widgets/base",
      "model_module_version": "1.2.0",
      "model_name": "LayoutModel",
      "state": {}
     },
     "a4bd5c9f65554500b84263670f31a9bf": {
      "model_module": "@jupyter-widgets/controls",
      "model_module_version": "1.5.0",
      "model_name": "IntProgressModel",
      "state": {
       "layout": "IPY_MODEL_f63bc218928e4917a0460de119c92f68",
       "max": 224,
       "style": "IPY_MODEL_726aa1b0b7474d62b9219f779cfce369"
      }
     },
     "a583a96d70714663bf04e332f5870071": {
      "model_module": "@jupyter-widgets/controls",
      "model_module_version": "1.5.0",
      "model_name": "LabelModel",
      "state": {
       "layout": "IPY_MODEL_5106a53b96d74002a0530a231ed2c462",
       "style": "IPY_MODEL_44a49b6d9c4c419e8563389757334697",
       "value": "Modifier key for 1st and 2nd dimensions"
      }
     },
     "a7507d7ab5f4486e9b9c13e1aa13067f": {
      "model_module": "@jupyter-widgets/base",
      "model_module_version": "1.2.0",
      "model_name": "LayoutModel",
      "state": {
       "width": "auto"
      }
     },
     "a77d6b38be324a21afcd033594fce90b": {
      "model_module": "@jupyter-widgets/base",
      "model_module_version": "1.2.0",
      "model_name": "LayoutModel",
      "state": {}
     },
     "a7ec2f1fc26e4db0ade7c360325cc93e": {
      "model_module": "@jupyter-widgets/controls",
      "model_module_version": "1.5.0",
      "model_name": "LabelModel",
      "state": {
       "layout": "IPY_MODEL_b6949742ce4f4749b0d7e17bb9761c42",
       "style": "IPY_MODEL_759a957f497b424aaf9a9414b42650eb",
       "value": "Logging level"
      }
     },
     "a7f4202a41234372a78268a59587df55": {
      "model_module": "@jupyter-widgets/controls",
      "model_module_version": "1.5.0",
      "model_name": "DropdownModel",
      "state": {
       "_options_labels": [
        "alt",
        "ctrl",
        "shift",
        "ctrl+alt",
        "ctrl+shift",
        "alt+shift",
        "ctrl+alt+shift"
       ],
       "index": 0,
       "layout": "IPY_MODEL_15f4de9e03c047208db0931d93100fbb",
       "style": "IPY_MODEL_c035fbd70d1a41d3b8039f92530dbc25"
      }
     },
     "a7fe36a498f346e28a30d156fa0d0b5c": {
      "model_module": "@jupyter-widgets/base",
      "model_module_version": "1.2.0",
      "model_name": "LayoutModel",
      "state": {
       "display": "none"
      }
     },
     "a8436368d5854f7abb9716cc104a8e1f": {
      "model_module": "@jupyter-widgets/base",
      "model_module_version": "1.2.0",
      "model_name": "LayoutModel",
      "state": {}
     },
     "a87f9a2f99f7473d85e529c1612730aa": {
      "model_module": "@jupyter-widgets/controls",
      "model_module_version": "1.5.0",
      "model_name": "FloatTextModel",
      "state": {
       "layout": "IPY_MODEL_ae4f702202b14f8884e12f282cf6391b",
       "step": null,
       "style": "IPY_MODEL_0a3428e4204241ffa6932826bb1dfc66",
       "value": 35
      }
     },
     "a88068ad819240379c7756c61751356e": {
      "model_module": "@jupyter-widgets/controls",
      "model_module_version": "1.5.0",
      "model_name": "DescriptionStyleModel",
      "state": {
       "description_width": ""
      }
     },
     "a8f695793737457b84904dad37b099a3": {
      "model_module": "@jupyter-widgets/controls",
      "model_module_version": "1.5.0",
      "model_name": "LabelModel",
      "state": {
       "layout": "IPY_MODEL_a7507d7ab5f4486e9b9c13e1aa13067f",
       "style": "IPY_MODEL_011b8e5f4ec84654901f9800fb02ed24",
       "value": "Parallel"
      }
     },
     "a933059ee2e14369a2e70d4c865eef9f": {
      "model_module": "@jupyter-widgets/controls",
      "model_module_version": "1.5.0",
      "model_name": "DropdownModel",
      "state": {
       "_options_labels": [
        "shift",
        "alt",
        "ctrl",
        "ctrl+alt",
        "ctrl+shift",
        "alt+shift",
        "ctrl+alt+shift"
       ],
       "index": 0,
       "layout": "IPY_MODEL_8f7b18fc02e94ec88539e1d251361948",
       "style": "IPY_MODEL_026fe0970a2c4afcaf1f0b53cc3b9622"
      }
     },
     "aa273593f06f49ac904b82017ba17f95": {
      "model_module": "@jupyter-widgets/base",
      "model_module_version": "1.2.0",
      "model_name": "LayoutModel",
      "state": {}
     },
     "ab22916c66d24a5fa88a445bc84d8742": {
      "model_module": "@jupyter-widgets/base",
      "model_module_version": "1.2.0",
      "model_name": "LayoutModel",
      "state": {
       "width": "auto"
      }
     },
     "ab2b51192cb0457db2d56296bf8421ec": {
      "model_module": "@jupyter-widgets/base",
      "model_module_version": "1.2.0",
      "model_name": "LayoutModel",
      "state": {}
     },
     "ae4f702202b14f8884e12f282cf6391b": {
      "model_module": "@jupyter-widgets/base",
      "model_module_version": "1.2.0",
      "model_name": "LayoutModel",
      "state": {}
     },
     "ae88661574d545dc9ec24b77ea2d594b": {
      "model_module": "@jupyter-widgets/base",
      "model_module_version": "1.2.0",
      "model_name": "LayoutModel",
      "state": {}
     },
     "b019fa14c25f4391a8ce3a108878ba12": {
      "model_module": "@jupyter-widgets/controls",
      "model_module_version": "1.5.0",
      "model_name": "HBoxModel",
      "state": {
       "children": [
        "IPY_MODEL_94fb3b8d527240dd924abddb50c3b569",
        "IPY_MODEL_99541c53a3cf4972bb0adb5b9e903e12"
       ],
       "layout": "IPY_MODEL_3c03c17e3313474f9c52dfc995e73901"
      }
     },
     "b030999ff3c1480d8b25a582a90d3648": {
      "model_module": "@jupyter-widgets/base",
      "model_module_version": "1.2.0",
      "model_name": "LayoutModel",
      "state": {}
     },
     "b05d3d2d7b154e679b4d1612dc0891b1": {
      "model_module": "@jupyter-widgets/controls",
      "model_module_version": "1.5.0",
      "model_name": "LabelModel",
      "state": {
       "layout": "IPY_MODEL_10c12ef4ed6a410885fa2f6f1b6aa819",
       "style": "IPY_MODEL_6e68aed72ed648b785067063e0abf68a",
       "value": "Nb progressbar"
      }
     },
     "b06b8ec5d0824bf596f81a20bd0d39f8": {
      "model_module": "@jupyter-widgets/base",
      "model_module_version": "1.2.0",
      "model_name": "LayoutModel",
      "state": {}
     },
     "b1428e1f704c4dd8a59773db96be2bd3": {
      "model_module": "@jupyter-widgets/controls",
      "model_module_version": "1.5.0",
      "model_name": "CheckboxModel",
      "state": {
       "disabled": false,
       "layout": "IPY_MODEL_267098c3ecbc4bc7a2b1302fcbc6bc81",
       "style": "IPY_MODEL_f7826b1ed9a143ac8376309b52ccad3c",
       "value": true
      }
     },
     "b24e1bf115e74623920ecdaaf593d6fe": {
      "model_module": "@jupyter-widgets/controls",
      "model_module_version": "1.5.0",
      "model_name": "LabelModel",
      "state": {
       "layout": "IPY_MODEL_38eade3ee2034543a2ae4dbd790fb847",
       "style": "IPY_MODEL_1f6065f538e74e4cbe61449e8f8ae065",
       "value": "Logging level"
      }
     },
     "b289c75aaae74825af13826f26866060": {
      "model_module": "@jupyter-widgets/base",
      "model_module_version": "1.2.0",
      "model_name": "LayoutModel",
      "state": {}
     },
     "b2bb1bb3f2a247ab978e4d569c60b055": {
      "model_module": "@jupyter-widgets/base",
      "model_module_version": "1.2.0",
      "model_name": "LayoutModel",
      "state": {
       "width": "auto"
      }
     },
     "b2ce1775911f4258adbd8f1ece8c9a5a": {
      "model_module": "@jupyter-widgets/base",
      "model_module_version": "1.2.0",
      "model_name": "LayoutModel",
      "state": {}
     },
     "b3a68d3a3a6e4834bf6d2ba8ff0a13ae": {
      "model_module": "@jupyter-widgets/base",
      "model_module_version": "1.2.0",
      "model_name": "LayoutModel",
      "state": {}
     },
     "b3bae8d7bf594f9f970d54c4fb74d86f": {
      "model_module": "@jupyter-widgets/base",
      "model_module_version": "1.2.0",
      "model_name": "LayoutModel",
      "state": {
       "width": "auto"
      }
     },
     "b40d2fbbc4b4428490ef6798a4affa97": {
      "model_module": "@jupyter-widgets/controls",
      "model_module_version": "1.5.0",
      "model_name": "DropdownModel",
      "state": {
       "_options_labels": [
        "ctrl",
        "alt",
        "shift",
        "ctrl+alt",
        "ctrl+shift",
        "alt+shift",
        "ctrl+alt+shift"
       ],
       "index": 0,
       "layout": "IPY_MODEL_becb60a19233407081ff3d01e46d3853",
       "style": "IPY_MODEL_0b1cf156254b4e4b9b7346e6b8e2eadb"
      }
     },
     "b5dfca4234fe4ed48c3873f987fb5cae": {
      "model_module": "@jupyter-widgets/controls",
      "model_module_version": "1.5.0",
      "model_name": "DescriptionStyleModel",
      "state": {
       "description_width": ""
      }
     },
     "b6311dc12bc7450e9786af744c48c9ac": {
      "model_module": "@jupyter-widgets/base",
      "model_module_version": "1.2.0",
      "model_name": "LayoutModel",
      "state": {
       "width": "auto"
      }
     },
     "b681c6275a3c499daf17f1ae0f550634": {
      "model_module": "@jupyter-widgets/base",
      "model_module_version": "1.2.0",
      "model_name": "LayoutModel",
      "state": {}
     },
     "b6918f9f48c847cba936377391f96ed2": {
      "model_module": "@jupyter-widgets/base",
      "model_module_version": "1.2.0",
      "model_name": "LayoutModel",
      "state": {
       "width": "auto"
      }
     },
     "b6949742ce4f4749b0d7e17bb9761c42": {
      "model_module": "@jupyter-widgets/base",
      "model_module_version": "1.2.0",
      "model_name": "LayoutModel",
      "state": {
       "width": "auto"
      }
     },
     "b6ae1677cb5a4391909e39f001edfd02": {
      "model_module": "@jupyter-widgets/controls",
      "model_module_version": "1.5.0",
      "model_name": "DropdownModel",
      "state": {
       "_options_labels": [
        "shift",
        "alt",
        "ctrl",
        "ctrl+alt",
        "ctrl+shift",
        "alt+shift",
        "ctrl+alt+shift"
       ],
       "index": 0,
       "layout": "IPY_MODEL_19a738b1e5324984897645cc233bdc32",
       "style": "IPY_MODEL_3e8596472e8f466a847e68353789a55b"
      }
     },
     "b6c3ee6f56e84d799d770bbde049946b": {
      "model_module": "@jupyter-widgets/controls",
      "model_module_version": "1.5.0",
      "model_name": "DescriptionStyleModel",
      "state": {
       "description_width": ""
      }
     },
     "b8e69e4c05b542e19bfdd4c4109ac314": {
      "model_module": "@jupyter-widgets/controls",
      "model_module_version": "1.5.0",
      "model_name": "VBoxModel",
      "state": {
       "children": [
        "IPY_MODEL_5a821f55b3c14e2f87020afb30fce4b2",
        "IPY_MODEL_0870bf81ef39458cad9e7b66ae9e0082",
        "IPY_MODEL_5199b3d20b734ee8bf5aad73c18ec28e"
       ],
       "layout": "IPY_MODEL_58c112248e3f4939982bd5a477bc1f34"
      }
     },
     "b9031e44b34546caa18bb11601b2b40e": {
      "model_module": "@jupyter-widgets/controls",
      "model_module_version": "1.5.0",
      "model_name": "TextModel",
      "state": {
       "layout": "IPY_MODEL_77d1c37e84f84013bd7ac7572e3908f3",
       "style": "IPY_MODEL_ded666a8d3f64407b50df145018a85da",
       "value": "down"
      }
     },
     "b9171b791c1a436dbb9c966d8a18ea5b": {
      "model_module": "@jupyter-widgets/controls",
      "model_module_version": "1.5.0",
      "model_name": "DescriptionStyleModel",
      "state": {
       "description_width": ""
      }
     },
     "b92427f217374faaaf66c049ccc3deae": {
      "model_module": "@jupyter-widgets/controls",
      "model_module_version": "1.5.0",
      "model_name": "LabelModel",
      "state": {
       "layout": "IPY_MODEL_4cd8fe47781a4f8dbc96f854c915bcb7",
       "style": "IPY_MODEL_efb4c5cad75c494da5c1cf23ffdb13d1",
       "value": "Add noise"
      }
     },
     "b9c9811ec2dd4ca9a0dd7f099aca1000": {
      "model_module": "@jupyter-widgets/base",
      "model_module_version": "1.2.0",
      "model_name": "LayoutModel",
      "state": {}
     },
     "ba35cf13b91a4350bcb5ce724507fb4e": {
      "model_module": "jupyter-matplotlib",
      "model_module_version": "^0.7.2",
      "model_name": "ToolbarModel",
      "state": {
       "layout": "IPY_MODEL_eed8b4f975e5425580f911b2ccc827d1",
       "toolitems": [
        [
         "Home",
         "Reset original view",
         "home",
         "home"
        ],
        [
         "Back",
         "Back to previous view",
         "arrow-left",
         "back"
        ],
        [
         "Forward",
         "Forward to next view",
         "arrow-right",
         "forward"
        ],
        [
         "Pan",
         "Pan axes with left mouse, zoom with right",
         "arrows",
         "pan"
        ],
        [
         "Zoom",
         "Zoom to rectangle",
         "square-o",
         "zoom"
        ],
        [
         "Download",
         "Download plot",
         "floppy-o",
         "save_figure"
        ]
       ]
      }
     },
     "ba667a1f6f9947ff893ffd9aeffc13d3": {
      "model_module": "@jupyter-widgets/controls",
      "model_module_version": "1.5.0",
      "model_name": "LabelModel",
      "state": {
       "layout": "IPY_MODEL_74f0e46568d54a11b57103d3e456e331",
       "style": "IPY_MODEL_413c9061f59c41e19be3dd4997ca48d2",
       "value": "Show progress bar"
      }
     },
     "baa067a2bb004f60b7ff6c54b1082685": {
      "model_module": "@jupyter-widgets/controls",
      "model_module_version": "1.5.0",
      "model_name": "SliderStyleModel",
      "state": {
       "description_width": ""
      }
     },
     "bb42034bf7a84f31901f1d4ec48d5763": {
      "model_module": "@jupyter-widgets/base",
      "model_module_version": "1.2.0",
      "model_name": "LayoutModel",
      "state": {}
     },
     "bbc90ba18af9493998c3207ecd618f91": {
      "model_module": "@jupyter-widgets/controls",
      "model_module_version": "1.5.0",
      "model_name": "DescriptionStyleModel",
      "state": {
       "description_width": ""
      }
     },
     "bc3a466834a44edda0152c3c8d02dbf3": {
      "model_module": "@jupyter-widgets/controls",
      "model_module_version": "1.5.0",
      "model_name": "HBoxModel",
      "state": {
       "children": [
        "IPY_MODEL_630a0ba5ff29428881ba9491a7808fc3",
        "IPY_MODEL_0fe514de222a45f8bfbafc29258ca086"
       ],
       "layout": "IPY_MODEL_3c03c17e3313474f9c52dfc995e73901"
      }
     },
     "bc594620bcfc46b680d97458accbd362": {
      "model_module": "@jupyter-widgets/controls",
      "model_module_version": "1.5.0",
      "model_name": "DescriptionStyleModel",
      "state": {
       "description_width": ""
      }
     },
     "becb60a19233407081ff3d01e46d3853": {
      "model_module": "@jupyter-widgets/base",
      "model_module_version": "1.2.0",
      "model_name": "LayoutModel",
      "state": {}
     },
     "bf8ffcc9aafc453d8085fac8c9cd3ffd": {
      "model_module": "@jupyter-widgets/base",
      "model_module_version": "1.2.0",
      "model_name": "LayoutModel",
      "state": {
       "width": "auto"
      }
     },
     "bfbda48d45184bcba24df9b627b0bd31": {
      "model_module": "@jupyter-widgets/base",
      "model_module_version": "1.2.0",
      "model_name": "LayoutModel",
      "state": {}
     },
     "c035fbd70d1a41d3b8039f92530dbc25": {
      "model_module": "@jupyter-widgets/controls",
      "model_module_version": "1.5.0",
      "model_name": "DescriptionStyleModel",
      "state": {
       "description_width": ""
      }
     },
     "c05a2192eb0d44aa84425e330d9a43ae": {
      "model_module": "@jupyter-widgets/controls",
      "model_module_version": "1.5.0",
      "model_name": "LabelModel",
      "state": {
       "layout": "IPY_MODEL_58a9352940b648249201c5f35901901a",
       "style": "IPY_MODEL_8a57452ccb7b438f8fed304eb17c05cc",
       "value": "Spline order"
      }
     },
     "c05d1b8d8365480685a9801618ca99f0": {
      "model_module": "@jupyter-widgets/base",
      "model_module_version": "1.2.0",
      "model_name": "LayoutModel",
      "state": {}
     },
     "c18a656f4bb04afe861b9f1b742883d6": {
      "model_module": "@jupyter-widgets/controls",
      "model_module_version": "1.5.0",
      "model_name": "TextModel",
      "state": {
       "layout": "IPY_MODEL_a442d7dfc92f4c8aa201babdfe6e9b52",
       "style": "IPY_MODEL_d26f707051924dba8fa28c2be37f443a",
       "value": "right"
      }
     },
     "c2188af58b3a4be0bc7138632c59aa4a": {
      "model_module": "@jupyter-widgets/base",
      "model_module_version": "1.2.0",
      "model_name": "LayoutModel",
      "state": {}
     },
     "c28e7254015645afbd82d59875bd54fc": {
      "model_module": "@jupyter-widgets/controls",
      "model_module_version": "1.5.0",
      "model_name": "DropdownModel",
      "state": {
       "_options_labels": [
        "CRITICAL",
        "ERROR",
        "WARNING",
        "INFO",
        "DEBUG"
       ],
       "index": 2,
       "layout": "IPY_MODEL_3bf111f8f31b41cd809bbe67f40ab0c3",
       "style": "IPY_MODEL_e93afe18049f4a10ad938d401cf7e621"
      }
     },
     "c2aca7289e004998ae2d482ddbffdb0d": {
      "model_module": "@jupyter-widgets/controls",
      "model_module_version": "1.5.0",
      "model_name": "LabelModel",
      "state": {
       "layout": "IPY_MODEL_04127f8914aa474997938182bf34be60",
       "style": "IPY_MODEL_cd8bd9ad294344fd9e6a4cdb530bc810",
       "value": "Navigate left"
      }
     },
     "c38cc3f8cc7b448d85e9e71f6f6bc732": {
      "model_module": "@jupyter-widgets/controls",
      "model_module_version": "1.5.0",
      "model_name": "DescriptionStyleModel",
      "state": {
       "description_width": ""
      }
     },
     "c3949c3989c94a1c83c1336ef19a01a1": {
      "model_module": "@jupyter-widgets/base",
      "model_module_version": "1.2.0",
      "model_name": "LayoutModel",
      "state": {}
     },
     "c539235aacf942e69fec57c0b5e29689": {
      "model_module": "jupyter-matplotlib",
      "model_module_version": "^0.7.2",
      "model_name": "ToolbarModel",
      "state": {
       "layout": "IPY_MODEL_9fae65da4f654d4ab023d450055fe1c9",
       "toolitems": [
        [
         "Home",
         "Reset original view",
         "home",
         "home"
        ],
        [
         "Back",
         "Back to previous view",
         "arrow-left",
         "back"
        ],
        [
         "Forward",
         "Forward to next view",
         "arrow-right",
         "forward"
        ],
        [
         "Pan",
         "Pan axes with left mouse, zoom with right",
         "arrows",
         "pan"
        ],
        [
         "Zoom",
         "Zoom to rectangle",
         "square-o",
         "zoom"
        ],
        [
         "Download",
         "Download plot",
         "floppy-o",
         "save_figure"
        ]
       ]
      }
     },
     "c568df540ed840629eb484af149d7513": {
      "model_module": "@jupyter-widgets/controls",
      "model_module_version": "1.5.0",
      "model_name": "LabelModel",
      "state": {
       "layout": "IPY_MODEL_7e0ca6c021924f38a8a0a5f8130dbe22",
       "style": "IPY_MODEL_5521079a39624460876f6ffe6fc701eb",
       "value": "Threshold"
      }
     },
     "c5a6597b3f4c4cff8cff1ef0487ade1e": {
      "model_module": "@jupyter-widgets/controls",
      "model_module_version": "1.5.0",
      "model_name": "HBoxModel",
      "state": {
       "children": [
        "IPY_MODEL_f3344bde11fe44a497e104c7ab9131a2",
        "IPY_MODEL_1fb53ea8ec4e4c579faacb77979b9969",
        "IPY_MODEL_ded4a6fa9cf14ff8aeb641a9e9e7d911",
        "IPY_MODEL_f14a10edfaae44f38e0014e30723b645"
       ],
       "layout": "IPY_MODEL_3115ef072b4047988645e0ec7409f6d7"
      }
     },
     "c828ff6247684d9b8447fed52c07e28a": {
      "model_module": "@jupyter-widgets/controls",
      "model_module_version": "1.5.0",
      "model_name": "TextModel",
      "state": {
       "layout": "IPY_MODEL_915cbae91724421a9e1d877c70c8ce02",
       "style": "IPY_MODEL_b9171b791c1a436dbb9c966d8a18ea5b",
       "value": "up"
      }
     },
     "c86d55c17f094913b84809e6fd068ae2": {
      "model_module": "@jupyter-widgets/controls",
      "model_module_version": "1.5.0",
      "model_name": "SliderStyleModel",
      "state": {
       "description_width": ""
      }
     },
     "c8d946af10474cd2929f937222216ef9": {
      "model_module": "@jupyter-widgets/controls",
      "model_module_version": "1.5.0",
      "model_name": "IntSliderModel",
      "state": {
       "layout": "IPY_MODEL_151366a6339142c0ab60cffc28d7bc32",
       "style": "IPY_MODEL_c86d55c17f094913b84809e6fd068ae2",
       "value": 66
      }
     },
     "c8eeafd5b1e84d2589903c7fe253aa6d": {
      "model_module": "@jupyter-widgets/controls",
      "model_module_version": "1.5.0",
      "model_name": "DescriptionStyleModel",
      "state": {
       "description_width": ""
      }
     },
     "c94536996f384ec68b1fea3bdeda118c": {
      "model_module": "@jupyter-widgets/base",
      "model_module_version": "1.2.0",
      "model_name": "LayoutModel",
      "state": {}
     },
     "c9d18baa93f64836bc872b57b5644845": {
      "model_module": "@jupyter-widgets/controls",
      "model_module_version": "1.5.0",
      "model_name": "DescriptionStyleModel",
      "state": {
       "description_width": ""
      }
     },
     "c9dedd151354486bab9cb7501b173b7e": {
      "model_module": "@jupyter-widgets/controls",
      "model_module_version": "1.5.0",
      "model_name": "HBoxModel",
      "state": {
       "children": [
        "IPY_MODEL_c05a2192eb0d44aa84425e330d9a43ae",
        "IPY_MODEL_8bc1c87b254a4355b2caa0de467e1a44"
       ],
       "layout": "IPY_MODEL_3c03c17e3313474f9c52dfc995e73901"
      }
     },
     "ca11390bd2c34e67874e940696bac2dd": {
      "model_module": "@jupyter-widgets/controls",
      "model_module_version": "1.5.0",
      "model_name": "DescriptionStyleModel",
      "state": {
       "description_width": ""
      }
     },
     "caef178e904d4270bb25cb33abadd895": {
      "model_module": "@jupyter-widgets/controls",
      "model_module_version": "1.5.0",
      "model_name": "DescriptionStyleModel",
      "state": {
       "description_width": ""
      }
     },
     "cbcb0ffb1dfd4070aa3b7ee0dfa51abc": {
      "model_module": "jupyter-matplotlib",
      "model_module_version": "^0.7.2",
      "model_name": "ToolbarModel",
      "state": {
       "layout": "IPY_MODEL_dbce09486de44025b24c9ae402f11f44",
       "toolitems": [
        [
         "Home",
         "Reset original view",
         "home",
         "home"
        ],
        [
         "Back",
         "Back to previous view",
         "arrow-left",
         "back"
        ],
        [
         "Forward",
         "Forward to next view",
         "arrow-right",
         "forward"
        ],
        [
         "Pan",
         "Pan axes with left mouse, zoom with right",
         "arrows",
         "pan"
        ],
        [
         "Zoom",
         "Zoom to rectangle",
         "square-o",
         "zoom"
        ],
        [
         "Download",
         "Download plot",
         "floppy-o",
         "save_figure"
        ]
       ]
      }
     },
     "ccd5b954fe7545d5a8e3b1895573cfd7": {
      "model_module": "@jupyter-widgets/controls",
      "model_module_version": "1.5.0",
      "model_name": "LabelModel",
      "state": {
       "layout": "IPY_MODEL_5e258d2fc89e4bd9b89e7efc2dddddc8",
       "style": "IPY_MODEL_c38cc3f8cc7b448d85e9e71f6f6bc732",
       "value": "Warn if guis are missing"
      }
     },
     "cd8bd9ad294344fd9e6a4cdb530bc810": {
      "model_module": "@jupyter-widgets/controls",
      "model_module_version": "1.5.0",
      "model_name": "DescriptionStyleModel",
      "state": {
       "description_width": ""
      }
     },
     "ce2fe49ee0a44ef1a78cd79b6ef86a9d": {
      "model_module": "@jupyter-widgets/controls",
      "model_module_version": "1.5.0",
      "model_name": "CheckboxModel",
      "state": {
       "disabled": false,
       "layout": "IPY_MODEL_184e06583bd44b2f80e005bc8afc26e6",
       "style": "IPY_MODEL_8ca76f0886d249dd86ba022a8dde990c",
       "value": true
      }
     },
     "ce60d87f463c4c93bb77636d31cf5a33": {
      "model_module": "@jupyter-widgets/controls",
      "model_module_version": "1.5.0",
      "model_name": "DescriptionStyleModel",
      "state": {
       "description_width": ""
      }
     },
     "ce93a73ddb9746cdbabdc0721209e763": {
      "model_module": "@jupyter-widgets/base",
      "model_module_version": "1.2.0",
      "model_name": "LayoutModel",
      "state": {}
     },
     "cec60ccfa08e493fa2be4bd52dfcccc1": {
      "model_module": "@jupyter-widgets/controls",
      "model_module_version": "1.5.0",
      "model_name": "DescriptionStyleModel",
      "state": {
       "description_width": ""
      }
     },
     "cecb097fc4254cf59c40ce6b89620945": {
      "model_module": "@jupyter-widgets/base",
      "model_module_version": "1.2.0",
      "model_name": "LayoutModel",
      "state": {}
     },
     "cfe8a808c8a04a62ada880f6909791a7": {
      "model_module": "@jupyter-widgets/base",
      "model_module_version": "1.2.0",
      "model_name": "LayoutModel",
      "state": {}
     },
     "d0051e1947d24293b3bd5538ef937593": {
      "model_module": "@jupyter-widgets/controls",
      "model_module_version": "1.5.0",
      "model_name": "HBoxModel",
      "state": {
       "children": [
        "IPY_MODEL_e0797edae2174b0b8dafb0926140de24",
        "IPY_MODEL_9ca6f548d1884e80b38122ab7526aa81"
       ],
       "layout": "IPY_MODEL_3c03c17e3313474f9c52dfc995e73901"
      }
     },
     "d00579ecdbb94de09d655e0d1731bdbd": {
      "model_module": "@jupyter-widgets/controls",
      "model_module_version": "1.5.0",
      "model_name": "HBoxModel",
      "state": {
       "children": [
        "IPY_MODEL_9d783d7ee351400f974a118a9b8e18c2",
        "IPY_MODEL_3c4a08447ca34970ae818cada8970459"
       ],
       "layout": "IPY_MODEL_3c03c17e3313474f9c52dfc995e73901"
      }
     },
     "d03c30a2c34d415881f22478fd5ac2b0": {
      "model_module": "@jupyter-widgets/base",
      "model_module_version": "1.2.0",
      "model_name": "LayoutModel",
      "state": {}
     },
     "d0494646b7554bfaac198648a61e7f6e": {
      "model_module": "@jupyter-widgets/controls",
      "model_module_version": "1.5.0",
      "model_name": "DescriptionStyleModel",
      "state": {
       "description_width": ""
      }
     },
     "d055a28cb1954ca18e818059e4c97ece": {
      "model_module": "@jupyter-widgets/controls",
      "model_module_version": "1.5.0",
      "model_name": "DescriptionStyleModel",
      "state": {
       "description_width": ""
      }
     },
     "d0591481a87449ebacce6a9499eddb3e": {
      "model_module": "@jupyter-widgets/controls",
      "model_module_version": "1.5.0",
      "model_name": "DescriptionStyleModel",
      "state": {
       "description_width": ""
      }
     },
     "d082e34e71f341999dc9b6db0026dd33": {
      "model_module": "@jupyter-widgets/controls",
      "model_module_version": "1.5.0",
      "model_name": "DescriptionStyleModel",
      "state": {
       "description_width": ""
      }
     },
     "d0ba5514b9cb49fd964b1a7a1d30e588": {
      "model_module": "@jupyter-widgets/base",
      "model_module_version": "1.2.0",
      "model_name": "LayoutModel",
      "state": {}
     },
     "d0e04fc808ed426495c35f680c46d457": {
      "model_module": "@jupyter-widgets/controls",
      "model_module_version": "1.5.0",
      "model_name": "DescriptionStyleModel",
      "state": {
       "description_width": ""
      }
     },
     "d0f607239e2943e189fc8ad4acc37401": {
      "model_module": "@jupyter-widgets/controls",
      "model_module_version": "1.5.0",
      "model_name": "HBoxModel",
      "state": {
       "children": [
        "IPY_MODEL_6c84e9cde4494f87bf09484a6f747834",
        "IPY_MODEL_5b759df1399c4831b2cf2e669276745d"
       ],
       "layout": "IPY_MODEL_3c03c17e3313474f9c52dfc995e73901"
      }
     },
     "d110d898a7df46b9a83bffc435f5e0bc": {
      "model_module": "@jupyter-widgets/controls",
      "model_module_version": "1.5.0",
      "model_name": "SliderStyleModel",
      "state": {
       "description_width": ""
      }
     },
     "d26f707051924dba8fa28c2be37f443a": {
      "model_module": "@jupyter-widgets/controls",
      "model_module_version": "1.5.0",
      "model_name": "DescriptionStyleModel",
      "state": {
       "description_width": ""
      }
     },
     "d3988e7f0f8a4be99fcbe2d70cc74619": {
      "model_module": "@jupyter-widgets/controls",
      "model_module_version": "1.5.0",
      "model_name": "HBoxModel",
      "state": {
       "children": [
        "IPY_MODEL_3528498ba4884f7a904b68aa06a2dbb6",
        "IPY_MODEL_6c09490d37da454c834f2ae38dde10ea"
       ],
       "layout": "IPY_MODEL_3c03c17e3313474f9c52dfc995e73901"
      }
     },
     "d4195e96502f466e97c565497b7f03ce": {
      "model_module": "@jupyter-widgets/base",
      "model_module_version": "1.2.0",
      "model_name": "LayoutModel",
      "state": {
       "width": "auto"
      }
     },
     "d4541ae0f79f4fd8aec9baa3711c4d8a": {
      "model_module": "jupyter-matplotlib",
      "model_module_version": "^0.7.2",
      "model_name": "ToolbarModel",
      "state": {
       "layout": "IPY_MODEL_ab2b51192cb0457db2d56296bf8421ec",
       "toolitems": [
        [
         "Home",
         "Reset original view",
         "home",
         "home"
        ],
        [
         "Back",
         "Back to previous view",
         "arrow-left",
         "back"
        ],
        [
         "Forward",
         "Forward to next view",
         "arrow-right",
         "forward"
        ],
        [
         "Pan",
         "Pan axes with left mouse, zoom with right",
         "arrows",
         "pan"
        ],
        [
         "Zoom",
         "Zoom to rectangle",
         "square-o",
         "zoom"
        ],
        [
         "Download",
         "Download plot",
         "floppy-o",
         "save_figure"
        ]
       ]
      }
     },
     "d4a50640b7bc4bca92f63acf48461598": {
      "model_module": "@jupyter-widgets/controls",
      "model_module_version": "1.5.0",
      "model_name": "FloatTextModel",
      "state": {
       "layout": "IPY_MODEL_bb42034bf7a84f31901f1d4ec48d5763",
       "step": null,
       "style": "IPY_MODEL_caef178e904d4270bb25cb33abadd895",
       "value": 0.05
      }
     },
     "d60c8d59525f4d77b517771b69fbc9d0": {
      "model_module": "@jupyter-widgets/controls",
      "model_module_version": "1.5.0",
      "model_name": "CheckboxModel",
      "state": {
       "disabled": false,
       "layout": "IPY_MODEL_86ced06935594a7286767d3157b0b8b5",
       "style": "IPY_MODEL_b6c3ee6f56e84d799d770bbde049946b",
       "value": true
      }
     },
     "d67201ee58ba4697a0bcdc824c9b3f81": {
      "model_module": "@jupyter-widgets/base",
      "model_module_version": "1.2.0",
      "model_name": "LayoutModel",
      "state": {
       "width": "auto"
      }
     },
     "d6805692361e4f9c81647b2ec8b1d493": {
      "model_module": "@jupyter-widgets/base",
      "model_module_version": "1.2.0",
      "model_name": "LayoutModel",
      "state": {}
     },
     "d721c8aa2764447eaffdff32e482a200": {
      "model_module": "@jupyter-widgets/controls",
      "model_module_version": "1.5.0",
      "model_name": "DescriptionStyleModel",
      "state": {
       "description_width": ""
      }
     },
     "d767faecfc444edaa6b60e550b703dd5": {
      "model_module": "@jupyter-widgets/controls",
      "model_module_version": "1.5.0",
      "model_name": "CheckboxModel",
      "state": {
       "disabled": false,
       "layout": "IPY_MODEL_6c23260af8e84e27a0d235ef4bd75101",
       "style": "IPY_MODEL_74df37196b0a4b0f8c5ff3451b86e353",
       "value": true
      }
     },
     "d78557f0bc65499fb079da03364f0d4b": {
      "model_module": "@jupyter-widgets/controls",
      "model_module_version": "1.5.0",
      "model_name": "DescriptionStyleModel",
      "state": {
       "description_width": ""
      }
     },
     "d78c482cfe2c4f5a800e8d062bceffc1": {
      "model_module": "@jupyter-widgets/controls",
      "model_module_version": "1.5.0",
      "model_name": "DescriptionStyleModel",
      "state": {
       "description_width": ""
      }
     },
     "d80c2361b93f47e9a40ae62174991145": {
      "model_module": "@jupyter-widgets/controls",
      "model_module_version": "1.5.0",
      "model_name": "LabelModel",
      "state": {
       "layout": "IPY_MODEL_4e265df7d9234951ad68c43e4834d8aa",
       "style": "IPY_MODEL_ce60d87f463c4c93bb77636d31cf5a33",
       "value": "Navigate down"
      }
     },
     "d85f3060b2e74508858d48930c65bdbf": {
      "model_module": "@jupyter-widgets/controls",
      "model_module_version": "1.5.0",
      "model_name": "DescriptionStyleModel",
      "state": {
       "description_width": ""
      }
     },
     "d8e17f4fc4c9477a8e994429ff70cfcf": {
      "model_module": "@jupyter-widgets/controls",
      "model_module_version": "1.5.0",
      "model_name": "HBoxModel",
      "state": {
       "children": [
        "IPY_MODEL_b92427f217374faaaf66c049ccc3deae",
        "IPY_MODEL_e40edc6efab346f7801f55f5804ac542"
       ],
       "layout": "IPY_MODEL_3c03c17e3313474f9c52dfc995e73901"
      }
     },
     "d900db7cb0884820bbccefb5b4dc7e60": {
      "model_module": "@jupyter-widgets/base",
      "model_module_version": "1.2.0",
      "model_name": "LayoutModel",
      "state": {}
     },
     "db1c0505f2184018ab7f7ed0786a65a2": {
      "model_module": "@jupyter-widgets/controls",
      "model_module_version": "1.5.0",
      "model_name": "LabelModel",
      "state": {
       "layout": "IPY_MODEL_88c692004f05446fb2f465c67500125e",
       "style": "IPY_MODEL_fbb17a127c7d4a89a74eabc109d24938",
       "value": "Azimuth angle"
      }
     },
     "dbce09486de44025b24c9ae402f11f44": {
      "model_module": "@jupyter-widgets/base",
      "model_module_version": "1.2.0",
      "model_name": "LayoutModel",
      "state": {}
     },
     "dce5f55fce274f1abe721f4c3b362f34": {
      "model_module": "@jupyter-widgets/base",
      "model_module_version": "1.2.0",
      "model_name": "LayoutModel",
      "state": {}
     },
     "dd27cadc8f534df0bad4494e54fad135": {
      "model_module": "@jupyter-widgets/controls",
      "model_module_version": "1.5.0",
      "model_name": "FloatTextModel",
      "state": {
       "layout": "IPY_MODEL_f40b4a8d719843a992bbbf621739f769",
       "step": null,
       "style": "IPY_MODEL_f390daf77ea04d3f99fe7d853d003419",
       "value": 0.05
      }
     },
     "de889e6aadd7406d946515dc781cf6fc": {
      "model_module": "jupyter-matplotlib",
      "model_module_version": "^0.7.2",
      "model_name": "ToolbarModel",
      "state": {
       "layout": "IPY_MODEL_f9c60a24203d46bfae71bfc1b2368110",
       "toolitems": [
        [
         "Home",
         "Reset original view",
         "home",
         "home"
        ],
        [
         "Back",
         "Back to previous view",
         "arrow-left",
         "back"
        ],
        [
         "Forward",
         "Forward to next view",
         "arrow-right",
         "forward"
        ],
        [
         "Pan",
         "Pan axes with left mouse, zoom with right",
         "arrows",
         "pan"
        ],
        [
         "Zoom",
         "Zoom to rectangle",
         "square-o",
         "zoom"
        ],
        [
         "Download",
         "Download plot",
         "floppy-o",
         "save_figure"
        ]
       ]
      }
     },
     "dea11db4584d4cceac5468f10e2c6bd6": {
      "model_module": "@jupyter-widgets/controls",
      "model_module_version": "1.5.0",
      "model_name": "DescriptionStyleModel",
      "state": {
       "description_width": ""
      }
     },
     "ded47a0f3dcd4e469b0ff3e43a53bc99": {
      "model_module": "@jupyter-widgets/controls",
      "model_module_version": "1.5.0",
      "model_name": "VBoxModel",
      "state": {
       "children": [
        "IPY_MODEL_9aeaf30062ce4e6ea1abf9077c8bd349",
        "IPY_MODEL_5f5b0745b0c7478daf15a90f43c5068f",
        "IPY_MODEL_2ab18a5287684605b7459353a0023e65"
       ],
       "layout": "IPY_MODEL_91d857e0957341c9a2402db04cae47c2"
      }
     },
     "ded4a6fa9cf14ff8aeb641a9e9e7d911": {
      "model_module": "@jupyter-widgets/controls",
      "model_module_version": "1.5.0",
      "model_name": "ButtonModel",
      "state": {
       "description": "Remove spike",
       "layout": "IPY_MODEL_797b7db0a766455a88b00b1e2c128a28",
       "style": "IPY_MODEL_4d7c7b28bd3e46429194289366352ab1",
       "tooltip": "Remove spike and find next one."
      }
     },
     "ded666a8d3f64407b50df145018a85da": {
      "model_module": "@jupyter-widgets/controls",
      "model_module_version": "1.5.0",
      "model_name": "DescriptionStyleModel",
      "state": {
       "description_width": ""
      }
     },
     "df163af627b54ca7ba0c3ebe2e30318a": {
      "model_module": "@jupyter-widgets/base",
      "model_module_version": "1.2.0",
      "model_name": "LayoutModel",
      "state": {
       "width": "auto"
      }
     },
     "e0797edae2174b0b8dafb0926140de24": {
      "model_module": "@jupyter-widgets/controls",
      "model_module_version": "1.5.0",
      "model_name": "LabelModel",
      "state": {
       "layout": "IPY_MODEL_2dcbf38df85c488fb4c5a295c7901cf8",
       "style": "IPY_MODEL_6f66ca5c8d4f4264a88b94d28ce3a8a1",
       "value": "Automatic logging (requires IPython)"
      }
     },
     "e29e638cdb634ab397baa31ff71ceeb4": {
      "model_module": "@jupyter-widgets/base",
      "model_module_version": "1.2.0",
      "model_name": "LayoutModel",
      "state": {}
     },
     "e40edc6efab346f7801f55f5804ac542": {
      "model_module": "@jupyter-widgets/controls",
      "model_module_version": "1.5.0",
      "model_name": "CheckboxModel",
      "state": {
       "disabled": false,
       "layout": "IPY_MODEL_e29e638cdb634ab397baa31ff71ceeb4",
       "style": "IPY_MODEL_4f63faab57d444e1b53454be03622231",
       "value": true
      }
     },
     "e459ee9a02734ee1905fe363c9764fdb": {
      "model_module": "@jupyter-widgets/base",
      "model_module_version": "1.2.0",
      "model_name": "LayoutModel",
      "state": {
       "width": "auto"
      }
     },
     "e5d982ebd03d4353a1bf3575525d625c": {
      "model_module": "@jupyter-widgets/base",
      "model_module_version": "1.2.0",
      "model_name": "LayoutModel",
      "state": {
       "width": "auto"
      }
     },
     "e5fd1db1b7cb415f9f2131162455d336": {
      "model_module": "@jupyter-widgets/base",
      "model_module_version": "1.2.0",
      "model_name": "LayoutModel",
      "state": {
       "width": "auto"
      }
     },
     "e628ed76145e4f329cf4a73c550a6102": {
      "model_module": "@jupyter-widgets/base",
      "model_module_version": "1.2.0",
      "model_name": "LayoutModel",
      "state": {
       "width": "auto"
      }
     },
     "e6597ae013954d19a2e0b69b1a497314": {
      "model_module": "@jupyter-widgets/controls",
      "model_module_version": "1.5.0",
      "model_name": "HBoxModel",
      "state": {
       "children": [
        "IPY_MODEL_f51b89cbbda94fbfbc0818b5fac46682",
        "IPY_MODEL_d4a50640b7bc4bca92f63acf48461598"
       ],
       "layout": "IPY_MODEL_3c03c17e3313474f9c52dfc995e73901"
      }
     },
     "e6ae007474684aec82cbc365c4279e09": {
      "model_module": "@jupyter-widgets/controls",
      "model_module_version": "1.5.0",
      "model_name": "DescriptionStyleModel",
      "state": {
       "description_width": ""
      }
     },
     "e7970a51c9c74ab6a8302336339d2656": {
      "model_module": "jupyter-matplotlib",
      "model_module_version": "^0.7.2",
      "model_name": "ToolbarModel",
      "state": {
       "layout": "IPY_MODEL_a8436368d5854f7abb9716cc104a8e1f",
       "toolitems": [
        [
         "Home",
         "Reset original view",
         "home",
         "home"
        ],
        [
         "Back",
         "Back to previous view",
         "arrow-left",
         "back"
        ],
        [
         "Forward",
         "Forward to next view",
         "arrow-right",
         "forward"
        ],
        [
         "Pan",
         "Pan axes with left mouse, zoom with right",
         "arrows",
         "pan"
        ],
        [
         "Zoom",
         "Zoom to rectangle",
         "square-o",
         "zoom"
        ],
        [
         "Download",
         "Download plot",
         "floppy-o",
         "save_figure"
        ]
       ]
      }
     },
     "e8c52c4def74438d90f88b606eb2b2a5": {
      "model_module": "@jupyter-widgets/controls",
      "model_module_version": "1.5.0",
      "model_name": "HBoxModel",
      "state": {
       "children": [
        "IPY_MODEL_4a20defb99924067b9f0f6e5c182893c",
        "IPY_MODEL_017fbb53661e4d09a410b121931f4419"
       ],
       "layout": "IPY_MODEL_3c03c17e3313474f9c52dfc995e73901"
      }
     },
     "e8dbf35c907f40fbaec1eafbc8653d22": {
      "model_module": "@jupyter-widgets/base",
      "model_module_version": "1.2.0",
      "model_name": "LayoutModel",
      "state": {}
     },
     "e93afe18049f4a10ad938d401cf7e621": {
      "model_module": "@jupyter-widgets/controls",
      "model_module_version": "1.5.0",
      "model_name": "DescriptionStyleModel",
      "state": {
       "description_width": ""
      }
     },
     "e951f92af92048fb93b3fa9074de02a8": {
      "model_module": "@jupyter-widgets/base",
      "model_module_version": "1.2.0",
      "model_name": "LayoutModel",
      "state": {}
     },
     "e9a5afd5f89b4b2b9aee6a8cec497ecd": {
      "model_module": "@jupyter-widgets/base",
      "model_module_version": "1.2.0",
      "model_name": "LayoutModel",
      "state": {}
     },
     "eb168d457aef4524bf06e56c7431aed9": {
      "model_module": "@jupyter-widgets/controls",
      "model_module_version": "1.5.0",
      "model_name": "ButtonStyleModel",
      "state": {}
     },
     "eb6b8026bbd4442a900d1fa30cac172d": {
      "model_module": "@jupyter-widgets/controls",
      "model_module_version": "1.5.0",
      "model_name": "HBoxModel",
      "state": {
       "children": [
        "IPY_MODEL_f524a973e375438fb8f067ec313e1193",
        "IPY_MODEL_50019516c8fb4fdbab314050f3e0481a"
       ],
       "layout": "IPY_MODEL_3c03c17e3313474f9c52dfc995e73901"
      }
     },
     "eb9c33921b4b410bb3315ad043ae3290": {
      "model_module": "@jupyter-widgets/controls",
      "model_module_version": "1.5.0",
      "model_name": "DescriptionStyleModel",
      "state": {
       "description_width": ""
      }
     },
     "ec4880df95494fe0ab744c343a3e33e2": {
      "model_module": "@jupyter-widgets/controls",
      "model_module_version": "1.5.0",
      "model_name": "HBoxModel",
      "state": {
       "children": [
        "IPY_MODEL_908e914ddbf9418981131315b32564de",
        "IPY_MODEL_a34bd007d0df42249922d0db893744d1"
       ],
       "layout": "IPY_MODEL_3c03c17e3313474f9c52dfc995e73901"
      }
     },
     "ec7e6d47ad6a4fa0bbc19e9978ce61cb": {
      "model_module": "@jupyter-widgets/base",
      "model_module_version": "1.2.0",
      "model_name": "LayoutModel",
      "state": {}
     },
     "ee0e4e217de64efeb9c8bf21077262f1": {
      "model_module": "@jupyter-widgets/base",
      "model_module_version": "1.2.0",
      "model_name": "LayoutModel",
      "state": {
       "width": "auto"
      }
     },
     "ee9d433a17fc401199eca0bf95812b99": {
      "model_module": "@jupyter-widgets/controls",
      "model_module_version": "1.5.0",
      "model_name": "FloatTextModel",
      "state": {
       "layout": "IPY_MODEL_13497bb3db6d47caae204467d5d474dc",
       "step": null,
       "style": "IPY_MODEL_bbc90ba18af9493998c3207ecd618f91"
      }
     },
     "eed8b4f975e5425580f911b2ccc827d1": {
      "model_module": "@jupyter-widgets/base",
      "model_module_version": "1.2.0",
      "model_name": "LayoutModel",
      "state": {}
     },
     "efb4c5cad75c494da5c1cf23ffdb13d1": {
      "model_module": "@jupyter-widgets/controls",
      "model_module_version": "1.5.0",
      "model_name": "DescriptionStyleModel",
      "state": {
       "description_width": ""
      }
     },
     "f117f76767c64b70833856f489ed6e1d": {
      "model_module": "@jupyter-widgets/controls",
      "model_module_version": "1.5.0",
      "model_name": "LabelModel",
      "state": {
       "layout": "IPY_MODEL_7b190ac250744a3a97d290348558255c",
       "style": "IPY_MODEL_c9d18baa93f64836bc872b57b5644845",
       "value": "Modifier key for 1st and 2nd dimensions"
      }
     },
     "f14a10edfaae44f38e0014e30723b645": {
      "model_module": "@jupyter-widgets/controls",
      "model_module_version": "1.5.0",
      "model_name": "ButtonModel",
      "state": {
       "description": "Close",
       "layout": "IPY_MODEL_5513c2492512421f91845fb75b1319bd",
       "style": "IPY_MODEL_a42be94904f64c149eb0b339bcb19502",
       "tooltip": "Close widget and remove span selector from the signal figure."
      }
     },
     "f174e21d26bf441b8d3632582a3aa4c6": {
      "model_module": "@jupyter-widgets/base",
      "model_module_version": "1.2.0",
      "model_name": "LayoutModel",
      "state": {}
     },
     "f2fbfdfb660e4c458dc4341b43330c63": {
      "model_module": "@jupyter-widgets/controls",
      "model_module_version": "1.5.0",
      "model_name": "LabelModel",
      "state": {
       "layout": "IPY_MODEL_b2bb1bb3f2a247ab978e4d569c60b055",
       "style": "IPY_MODEL_c8eeafd5b1e84d2589903c7fe253aa6d",
       "value": "Progress"
      }
     },
     "f3344bde11fe44a497e104c7ab9131a2": {
      "model_module": "@jupyter-widgets/controls",
      "model_module_version": "1.5.0",
      "model_name": "ButtonModel",
      "state": {
       "description": "Find previous",
       "layout": "IPY_MODEL_41969c00871343c58e25d958cb3c5a13",
       "style": "IPY_MODEL_eb168d457aef4524bf06e56c7431aed9",
       "tooltip": "Find previous spike"
      }
     },
     "f346503c49d94f7f864493a08f336f12": {
      "model_module": "@jupyter-widgets/controls",
      "model_module_version": "1.5.0",
      "model_name": "HBoxModel",
      "state": {
       "children": [
        "IPY_MODEL_8c4f3deb6e594c3d954800413faf7f3e",
        "IPY_MODEL_5a93287f939a4f06a278574ae7006606"
       ],
       "layout": "IPY_MODEL_3c03c17e3313474f9c52dfc995e73901"
      }
     },
     "f390daf77ea04d3f99fe7d853d003419": {
      "model_module": "@jupyter-widgets/controls",
      "model_module_version": "1.5.0",
      "model_name": "DescriptionStyleModel",
      "state": {
       "description_width": ""
      }
     },
     "f39e213bf5964704a0be38014e357d85": {
      "model_module": "@jupyter-widgets/controls",
      "model_module_version": "1.5.0",
      "model_name": "HBoxModel",
      "state": {
       "children": [
        "IPY_MODEL_db1c0505f2184018ab7f7ed0786a65a2",
        "IPY_MODEL_6d0dceacdca44cf8890f94478221c9ce"
       ],
       "layout": "IPY_MODEL_3c03c17e3313474f9c52dfc995e73901"
      }
     },
     "f40b4a8d719843a992bbbf621739f769": {
      "model_module": "@jupyter-widgets/base",
      "model_module_version": "1.2.0",
      "model_name": "LayoutModel",
      "state": {}
     },
     "f44a2271a5b8440c88fd1c7f921bf41a": {
      "model_module": "@jupyter-widgets/controls",
      "model_module_version": "1.5.0",
      "model_name": "DescriptionStyleModel",
      "state": {
       "description_width": ""
      }
     },
     "f4956a85d28546d18a4afe13b049dbb7": {
      "model_module": "@jupyter-widgets/controls",
      "model_module_version": "1.5.0",
      "model_name": "DescriptionStyleModel",
      "state": {
       "description_width": ""
      }
     },
     "f51b89cbbda94fbfbc0818b5fac46682": {
      "model_module": "@jupyter-widgets/controls",
      "model_module_version": "1.5.0",
      "model_name": "LabelModel",
      "state": {
       "layout": "IPY_MODEL_26a4ac4fbbb048aab55ae0732459decd",
       "style": "IPY_MODEL_55fbf5f85390407186f354fd326334b2",
       "value": "Saturated pixels"
      }
     },
     "f524a973e375438fb8f067ec313e1193": {
      "model_module": "@jupyter-widgets/controls",
      "model_module_version": "1.5.0",
      "model_name": "LabelModel",
      "state": {
       "layout": "IPY_MODEL_a0ba31f7c91f4d9aa12efa44d9260e7e",
       "style": "IPY_MODEL_5e17f1b659ec4e299155c814218e534c",
       "value": "Navigate down"
      }
     },
     "f565d78dd3324023af0d13891446ffc2": {
      "model_module": "@jupyter-widgets/controls",
      "model_module_version": "1.5.0",
      "model_name": "DropdownModel",
      "state": {
       "_options_labels": [
        "alt",
        "ctrl",
        "shift",
        "ctrl+alt",
        "ctrl+shift",
        "alt+shift",
        "ctrl+alt+shift"
       ],
       "index": 0,
       "layout": "IPY_MODEL_d900db7cb0884820bbccefb5b4dc7e60",
       "style": "IPY_MODEL_79f7ef93fff54868bc9f4b4cc1047f20"
      }
     },
     "f63bc218928e4917a0460de119c92f68": {
      "model_module": "@jupyter-widgets/base",
      "model_module_version": "1.2.0",
      "model_name": "LayoutModel",
      "state": {}
     },
     "f68960a1a4d844099b00fbfa953f19f3": {
      "model_module": "@jupyter-widgets/controls",
      "model_module_version": "1.5.0",
      "model_name": "HBoxModel",
      "state": {
       "children": [
        "IPY_MODEL_41c26de363a54566a51566149d446d45",
        "IPY_MODEL_8e108177c1064b90a3681b013bd85a8d"
       ],
       "layout": "IPY_MODEL_3c03c17e3313474f9c52dfc995e73901"
      }
     },
     "f68e901e4c024fd39dce74da07ee1832": {
      "model_module": "@jupyter-widgets/controls",
      "model_module_version": "1.5.0",
      "model_name": "CheckboxModel",
      "state": {
       "disabled": false,
       "layout": "IPY_MODEL_88750fb6805c480ea34110b7d89b44ea",
       "style": "IPY_MODEL_cec60ccfa08e493fa2be4bd52dfcccc1",
       "value": true
      }
     },
     "f6c631a6bb4f46df80f9500949182b28": {
      "model_module": "@jupyter-widgets/controls",
      "model_module_version": "1.5.0",
      "model_name": "LabelModel",
      "state": {
       "layout": "IPY_MODEL_07eecad7c2ea421dbe82bff47f5e7e3a",
       "style": "IPY_MODEL_0fe332c8ef4143bda7021375f95ca4df",
       "value": "Enable traitsui gui"
      }
     },
     "f7826b1ed9a143ac8376309b52ccad3c": {
      "model_module": "@jupyter-widgets/controls",
      "model_module_version": "1.5.0",
      "model_name": "DescriptionStyleModel",
      "state": {
       "description_width": ""
      }
     },
     "f7be9ec154dd4fcbbe6ea7bf13e05407": {
      "model_module": "@jupyter-widgets/controls",
      "model_module_version": "1.5.0",
      "model_name": "CheckboxModel",
      "state": {
       "disabled": false,
       "layout": "IPY_MODEL_0282b5bcbe28439ba2a8cf4f7c1168b5",
       "style": "IPY_MODEL_7ee588bd49eb4ad28aedd363df5e51eb",
       "value": false
      }
     },
     "f7f26c461fd74bf8a4a17696e202e39b": {
      "model_module": "@jupyter-widgets/base",
      "model_module_version": "1.2.0",
      "model_name": "LayoutModel",
      "state": {}
     },
     "f84c6cc0fee94558a34a86e40fc12c53": {
      "model_module": "@jupyter-widgets/controls",
      "model_module_version": "1.5.0",
      "model_name": "LabelModel",
      "state": {
       "layout": "IPY_MODEL_b6918f9f48c847cba936377391f96ed2",
       "style": "IPY_MODEL_50830ad233a64e38a00750695e045dfe",
       "value": "Navigate up"
      }
     },
     "f8e1616de9114030babcd138fe429328": {
      "model_module": "@jupyter-widgets/controls",
      "model_module_version": "1.5.0",
      "model_name": "HBoxModel",
      "state": {
       "children": [
        "IPY_MODEL_94fe40cbc61f4e04bba7ba352c3a823c",
        "IPY_MODEL_57d69bcefb8e402697f63fb456cb95b9"
       ],
       "layout": "IPY_MODEL_3c03c17e3313474f9c52dfc995e73901"
      }
     },
     "f97e5ddaf3b04acabf5a24cbd899f0f0": {
      "model_module": "@jupyter-widgets/controls",
      "model_module_version": "1.5.0",
      "model_name": "HBoxModel",
      "state": {
       "children": [
        "IPY_MODEL_1a4631a9102c4f9f88eafc83517bd8e3",
        "IPY_MODEL_d767faecfc444edaa6b60e550b703dd5"
       ],
       "layout": "IPY_MODEL_3c03c17e3313474f9c52dfc995e73901"
      }
     },
     "f9c60a24203d46bfae71bfc1b2368110": {
      "model_module": "@jupyter-widgets/base",
      "model_module_version": "1.2.0",
      "model_name": "LayoutModel",
      "state": {}
     },
     "fb5c129506ea45648e4b7a5e829148b5": {
      "model_module": "@jupyter-widgets/controls",
      "model_module_version": "1.5.0",
      "model_name": "LabelModel",
      "state": {
       "layout": "IPY_MODEL_292880ed6f2a43edab86502093971daf",
       "style": "IPY_MODEL_09aaf742b14446bfa9f471114408be7b",
       "value": "Stage tilt"
      }
     },
     "fbb17a127c7d4a89a74eabc109d24938": {
      "model_module": "@jupyter-widgets/controls",
      "model_module_version": "1.5.0",
      "model_name": "DescriptionStyleModel",
      "state": {
       "description_width": ""
      }
     },
     "fbecd3a1c907415db4e06d97c5f1fa4d": {
      "model_module": "@jupyter-widgets/base",
      "model_module_version": "1.2.0",
      "model_name": "LayoutModel",
      "state": {}
     },
     "fea32c5d811b4d8fb36b29fd2f63bcf7": {
      "model_module": "@jupyter-widgets/controls",
      "model_module_version": "1.5.0",
      "model_name": "DescriptionStyleModel",
      "state": {
       "description_width": ""
      }
     },
     "fecc82a2626a49f7829a6e86a10fd6dd": {
      "model_module": "@jupyter-widgets/controls",
      "model_module_version": "1.5.0",
      "model_name": "CheckboxModel",
      "state": {
       "disabled": false,
       "layout": "IPY_MODEL_9f8c922b6cee42b897745acbf48ed1c0",
       "style": "IPY_MODEL_6f52358a84e449e693dcaf2c5d7b29e8",
       "value": true
      }
     },
     "fedca682b4d44b899526f13fe1961a51": {
      "model_module": "@jupyter-widgets/controls",
      "model_module_version": "1.5.0",
      "model_name": "HBoxModel",
      "state": {
       "children": [
        "IPY_MODEL_2086b5a2728a4046a8e0b1e3bced2e10",
        "IPY_MODEL_586cfa7ed4b843fdb86184a336ed9b04"
       ],
       "layout": "IPY_MODEL_3c03c17e3313474f9c52dfc995e73901"
      }
     },
     "ff1f5bca5f404ef1b4ba7d63fb7d9832": {
      "model_module": "@jupyter-widgets/base",
      "model_module_version": "1.2.0",
      "model_name": "LayoutModel",
      "state": {}
     }
    },
    "version_major": 2,
    "version_minor": 0
   }
  }
 },
 "nbformat": 4,
 "nbformat_minor": 4
}