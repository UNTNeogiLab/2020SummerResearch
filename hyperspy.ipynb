{
 "cells": [
  {
   "cell_type": "code",
   "execution_count": 4,
   "metadata": {
    "pycharm": {
     "name": "#%%\n"
    }
   },
   "outputs": [
    {
     "data": {
      "application/vnd.jupyter.widget-view+json": {
       "model_id": "9484cf82bfbb4a14a730bcb9c9fb309a",
       "version_major": 2,
       "version_minor": 0
      },
      "text/plain": [
       "VBox(children=(Tab(children=(VBox(children=(HBox(children=(Label(value='Expand structures in DictionaryTreeBro…"
      ]
     },
     "metadata": {},
     "output_type": "display_data"
    },
    {
     "name": "stdout",
     "output_type": "stream",
     "text": [
      "Imported Packages\n"
     ]
    }
   ],
   "source": [
    "%matplotlib widget\n",
    "from ipywidgets import interact, interactive, fixed, interact_manual\n",
    "import ipywidgets as widgets\n",
    "from utils.importer import *\n",
    "from utils.func import *\n",
    "import matplotlib.pyplot as plt\n",
    "import hyperspy.api as hs\n",
    "hs.preferences.gui()\n",
    "print(\"Imported Packages\")"
   ]
  },
  {
   "cell_type": "code",
   "execution_count": 5,
   "metadata": {
    "pycharm": {
     "name": "#%%\n"
    }
   },
   "outputs": [
    {
     "name": "stdout",
     "output_type": "stream",
     "text": [
      "txt\n",
      "[[[ 1.17666200e+00  0.00000000e+00  0.00000000e+00 ...  2.39572311e+02\n",
      "    2.45615707e+02  2.56099304e+02]\n",
      "  [ 1.17666200e+00  2.35392000e+00  1.17725800e+00 ...  3.00962708e+02\n",
      "    2.96536041e+02  2.83057129e+02]\n",
      "  [-1.17666200e+00 -1.17696000e+00  2.35451700e+00 ...  5.58502930e+02\n",
      "    5.49640015e+02  5.22682190e+02]\n",
      "  ...\n",
      "  [ 1.17666200e+00  3.53088000e+00  1.17725800e+00 ...  1.49732690e+01\n",
      "    1.49765680e+01  1.64742240e+01]\n",
      "  [ 2.35332300e+00  1.17696000e+00  4.70903400e+00 ...  1.64705960e+01\n",
      "    1.19812550e+01  1.04835980e+01]\n",
      "  [ 1.17666200e+00  0.00000000e+00  2.35451700e+00 ...  8.98396200e+00\n",
      "    1.64742240e+01  1.04835980e+01]]\n",
      "\n",
      " [[-1.17666200e+00  1.17696000e+00  2.35451700e+00 ...  2.47058945e+02\n",
      "    2.48611023e+02  2.72573547e+02]\n",
      "  [ 1.17666200e+00  2.35392000e+00  1.17725800e+00 ...  4.02780945e+02\n",
      "    3.93883728e+02  4.13353271e+02]\n",
      "  [ 2.35332300e+00  0.00000000e+00  3.53177500e+00 ...  5.16577820e+02\n",
      "    5.37658813e+02  5.49640015e+02]\n",
      "  ...\n",
      "  [ 1.17666200e+00  0.00000000e+00  2.35451700e+00 ...  1.34759430e+01\n",
      "    2.09671960e+01  1.64742240e+01]\n",
      "  [ 0.00000000e+00 -1.17696000e+00  3.53177500e+00 ...  1.34759430e+01\n",
      "    1.49765680e+01  1.19812550e+01]\n",
      "  [ 1.17666200e+00  0.00000000e+00  2.35451700e+00 ...  1.64705960e+01\n",
      "    1.04835980e+01  1.64742240e+01]]\n",
      "\n",
      " [[ 0.00000000e+00  1.17696000e+00  1.17725800e+00 ...  1.49732697e+02\n",
      "    1.37784424e+02  1.46770370e+02]\n",
      "  [ 4.70664600e+00 -1.17696000e+00  0.00000000e+00 ...  3.90802338e+02\n",
      "    3.87893097e+02  4.17846252e+02]\n",
      "  [ 1.17666200e+00 -1.17696000e+00  0.00000000e+00 ...  2.08128448e+02\n",
      "    1.94695389e+02  1.96193039e+02]\n",
      "  ...\n",
      "  [ 1.17666200e+00  1.17696000e+00  0.00000000e+00 ...  2.09625780e+01\n",
      "    1.79718820e+01  1.79718820e+01]\n",
      "  [ 0.00000000e+00  1.17696000e+00  0.00000000e+00 ...  1.04812890e+01\n",
      "    1.49765680e+01  1.34789110e+01]\n",
      "  [ 2.35332300e+00  1.17696000e+00  0.00000000e+00 ...  1.79679240e+01\n",
      "    1.49765680e+01  1.64742240e+01]]\n",
      "\n",
      " ...\n",
      "\n",
      " [[ 1.17666200e+00  1.17696000e+00  0.00000000e+00 ...  9.14866760e+02\n",
      "    8.77626892e+02  8.73133911e+02]\n",
      "  [ 1.17666200e+00 -1.17696000e+00  1.17725800e+00 ...  9.14866760e+02\n",
      "    9.12072998e+02  8.95598755e+02]\n",
      "  [ 0.00000000e+00  3.53088000e+00 -1.17725800e+00 ...  1.17390430e+03\n",
      "    1.19213477e+03  1.22208789e+03]\n",
      "  ...\n",
      "  [-2.35332300e+00  2.35392000e+00  0.00000000e+00 ...  1.20385083e+03\n",
      "    1.16218164e+03  1.22358557e+03]\n",
      "  [ 2.35332300e+00  0.00000000e+00  0.00000000e+00 ...  1.19336963e+03\n",
      "    1.10527075e+03  1.15918640e+03]\n",
      "  [ 0.00000000e+00  1.17696000e+00  2.35451700e+00 ...  1.10053528e+03\n",
      "    1.10676831e+03  1.10826599e+03]]\n",
      "\n",
      " [[ 1.17666200e+00 -1.17696000e+00  0.00000000e+00 ...  9.85241150e+02\n",
      "    8.97096436e+02  8.98594055e+02]\n",
      "  [ 0.00000000e+00  0.00000000e+00  0.00000000e+00 ...  1.01518768e+03\n",
      "    9.36035522e+02  1.00043475e+03]\n",
      "  [ 4.70664600e+00  1.17696000e+00  2.35451700e+00 ...  1.22032141e+03\n",
      "    1.18913953e+03  1.16218164e+03]\n",
      "  ...\n",
      "  [ 1.17666200e+00 -1.17696000e+00 -1.17725800e+00 ...  1.19636426e+03\n",
      "    1.15768872e+03  1.14720508e+03]\n",
      "  [ 0.00000000e+00  3.53088000e+00  0.00000000e+00 ...  1.11700586e+03\n",
      "    1.15619104e+03  1.15768872e+03]\n",
      "  [ 0.00000000e+00  0.00000000e+00  1.17725800e+00 ...  1.13946582e+03\n",
      "    1.18165125e+03  1.17566052e+03]]\n",
      "\n",
      " [[ 1.17666200e+00  3.53088000e+00  1.17725800e+00 ...  5.21069763e+02\n",
      "    5.46644714e+02  5.22682190e+02]\n",
      "  [ 0.00000000e+00  2.35392000e+00  2.35451700e+00 ...  9.68770569e+02\n",
      "    9.85458191e+02  9.83960510e+02]\n",
      "  [-2.35332300e+00  0.00000000e+00  2.35451700e+00 ...  1.18438562e+03\n",
      "    1.17416296e+03  1.22957617e+03]\n",
      "  ...\n",
      "  [ 1.17666200e+00 -1.17696000e+00  1.17725800e+00 ...  1.20385083e+03\n",
      "    1.19812549e+03  1.22508325e+03]\n",
      "  [ 2.35332300e+00  1.17696000e+00  0.00000000e+00 ...  1.15893103e+03\n",
      "    1.18464648e+03  1.16817224e+03]\n",
      "  [ 0.00000000e+00  0.00000000e+00  3.53177500e+00 ...  1.13796851e+03\n",
      "    1.17715820e+03  1.12773560e+03]]]\n"
     ]
    }
   ],
   "source": [
    "data = read(gui_fname().decode(\"utf-8\"))"
   ]
  },
  {
   "cell_type": "code",
   "execution_count": 3,
   "metadata": {
    "pycharm": {
     "name": "#%%\n"
    }
   },
   "outputs": [
    {
     "ename": "NameError",
     "evalue": "name 'data' is not defined",
     "output_type": "error",
     "traceback": [
      "\u001B[1;31m---------------------------------------------------------------------------\u001B[0m",
      "\u001B[1;31mNameError\u001B[0m                                 Traceback (most recent call last)",
      "\u001B[1;32m<ipython-input-3-3a19aaef2fa0>\u001B[0m in \u001B[0;36m<module>\u001B[1;34m\u001B[0m\n\u001B[0;32m      3\u001B[0m \u001B[1;31m#data.crop_signal1D(200,400)\u001B[0m\u001B[1;33m\u001B[0m\u001B[1;33m\u001B[0m\u001B[1;33m\u001B[0m\u001B[0m\n\u001B[0;32m      4\u001B[0m \u001B[1;31m#print(data.find_peaks1D_ohaver())\u001B[0m\u001B[1;33m\u001B[0m\u001B[1;33m\u001B[0m\u001B[1;33m\u001B[0m\u001B[0m\n\u001B[1;32m----> 5\u001B[1;33m \u001B[0mdata\u001B[0m\u001B[1;33m.\u001B[0m\u001B[0mcalibrate\u001B[0m\u001B[1;33m(\u001B[0m\u001B[1;33m)\u001B[0m\u001B[1;33m\u001B[0m\u001B[1;33m\u001B[0m\u001B[0m\n\u001B[0m",
      "\u001B[1;31mNameError\u001B[0m: name 'data' is not defined"
     ]
    }
   ],
   "source": [
    "#data.axes_manager.gui()\n",
    "#data.axes_manager.gui_navigation_sliders()\n",
    "#data.crop_signal1D(200,400)\n",
    "#print(data.find_peaks1D_ohaver())\n",
    "data.calibrate()"
   ]
  },
  {
   "cell_type": "code",
   "execution_count": 6,
   "metadata": {
    "collapsed": false,
    "jupyter": {
     "outputs_hidden": false
    },
    "pycharm": {
     "name": "#%%\n"
    }
   },
   "outputs": [
    {
     "data": {
      "application/vnd.jupyter.widget-view+json": {
       "model_id": "b8a1ab7276b44d24a8c47ae4b0b57462",
       "version_major": 2,
       "version_minor": 0
      },
      "text/plain": [
       "Canvas(toolbar=Toolbar(toolitems=[('Home', 'Reset original view', 'home', 'home'), ('Back', 'Back to previous …"
      ]
     },
     "metadata": {},
     "output_type": "display_data"
    },
    {
     "data": {
      "application/vnd.jupyter.widget-view+json": {
       "model_id": "6da5bafb41634d7c9843427396e043d0",
       "version_major": 2,
       "version_minor": 0
      },
      "text/plain": [
       "Canvas(toolbar=Toolbar(toolitems=[('Home', 'Reset original view', 'home', 'home'), ('Back', 'Back to previous …"
      ]
     },
     "metadata": {},
     "output_type": "display_data"
    }
   ],
   "source": [
    "data.plot()"
   ]
  },
  {
   "cell_type": "code",
   "execution_count": null,
   "metadata": {
    "pycharm": {
     "name": "#%%\n"
    }
   },
   "outputs": [],
   "source": [
    "band =  hs.roi.SpanROI(1,2)\n",
    "data2 = band(data)\n",
    "data2.plot()"
   ]
  },
  {
   "cell_type": "code",
   "execution_count": null,
   "metadata": {},
   "outputs": [],
   "source": []
  },
  {
   "cell_type": "code",
   "execution_count": null,
   "metadata": {},
   "outputs": [],
   "source": []
  }
 ],
 "metadata": {
  "kernelspec": {
   "display_name": "Anaconda (research)2",
   "language": "python",
   "name": "myenv"
  },
  "language_info": {
   "codemirror_mode": {
    "name": "ipython",
    "version": 3
   },
   "file_extension": ".py",
   "mimetype": "text/x-python",
   "name": "python",
   "nbconvert_exporter": "python",
   "pygments_lexer": "ipython3",
   "version": "3.8.3"
  }
 },
 "nbformat": 4,
 "nbformat_minor": 4
}