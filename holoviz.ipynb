{
 "cells": [
  {
   "cell_type": "markdown",
   "metadata": {
    "pycharm": {
     "name": "#%% md\n"
    }
   },
   "source": [
    "## Holoviz Panel and Xarray 5d plotting (limited 3d support)\n",
    "This cell imports  libraries"
   ]
  },
  {
   "cell_type": "code",
   "execution_count": null,
   "metadata": {
    "collapsed": false,
    "jupyter": {
     "outputs_hidden": false
    },
    "pycharm": {
     "name": "#%%\n"
    }
   },
   "outputs": [],
   "source": [
    "import xarray as xr\n",
    "import panel as pn\n",
    "import os\n",
    "import holoviews as hv\n",
    "from panel.interact import fixed\n",
    "import numpy as np\n",
    "hv.extension('bokeh')"
   ]
  },
  {
   "cell_type": "markdown",
   "metadata": {
    "pycharm": {
     "name": "#%% md\n"
    }
   },
   "source": [
    "This cell defines the plotting function"
   ]
  },
  {
   "cell_type": "code",
   "execution_count": null,
   "metadata": {
    "collapsed": false,
    "jupyter": {
     "outputs_hidden": false
    },
    "pycharm": {
     "name": "#%%\n"
    }
   },
   "outputs": [],
   "source": [
    "h2 = pn.pane.Markdown('''## Plot''')\n",
    "def getRange(dim,ds):\n",
    "    return (ds.coords[dim].values.min(),ds.coords[dim].values.max())\n",
    "def plot(filename):\n",
    "    extension = filename.split('.')[1]\n",
    "    if(extension == \"3nc\"):\n",
    "        ds = xr.open_dataset(filename)\n",
    "        def plot2(wavelength):\n",
    "            return hv.HeatMap(ds.isel(wavelength=wavelength)).opts(cmap = 'Reds',width = 900,colorbar = True)\n",
    "        dmap = hv.DynamicMap(plot2, kdims = ['wavelength'])\n",
    "        return pn.Column(h2,pn.panel(dmap.redim.values(wavelength=ds.coords['wavelength'].values)))\n",
    "    elif(extension == \"5nc\"):\n",
    "        ds = xr.open_dataset(filename, chunks = {'Orientation':1})\n",
    "        def plot(Orientation,Wavelength):\n",
    "            polys = hv.Polygons([]).opts(fill_alpha=0.2, line_color='white')\n",
    "            box_stream = hv.streams.BoxEdit(source=polys,num_objects = 1)\n",
    "            def plot3(data, Orientation=Orientation):\n",
    "                if not data or not any(len(d) for d in data.values()):\n",
    "                    output = np.log(ds.isel(Orientation=Orientation).mean(dim = ['x','y']))\n",
    "                    return hv.Image(output).opts(cmap = 'Blues',width = 900,colorbar = True,title=(f\" Orientation: {Orientation}\"))\n",
    "                output = np.log(ds.isel(Orientation=Orientation,x=range(round(data['x0'][0]),round(data['x1'][0])),y = range(round(data['y0'][0]),round(data['y1'][0]))).mean(dim = ['x','y']))\n",
    "                return hv.Image(output).opts(cmap = 'Reds',width = 900,colorbar = True,title=(f\"Orientation: {Orientation}\"))\n",
    "            def plot2(Orientation, wavelength):\n",
    "                data = ds.isel(Orientation=Orientation,wavelength = wavelength).mean(dim = 'Polarization')\n",
    "                output = hv.HeatMap(data).opts(colorbar = True,title=(f\"Wavelength: {wavelength}, Orientation: {Orientation}\"))\n",
    "                return output.redim(x=hv.Dimension('x', range= getRange('x',ds)),y=hv.Dimension('y', range= getRange('y',ds)))\n",
    "            dmap = hv.DynamicMap(plot3, streams=[box_stream])\n",
    "            return plot2(Orientation,Wavelength)*polys + dmap\n",
    "        layout = pn.interact(plot, Orientation = ds.coords['Orientation'].values,Wavelength = ds.coords['wavelength'].values)\n",
    "        return pn.Column(h2,layout[0],layout[1])\n",
    "    else:\n",
    "        return \"<br>\\n#INVALID FILE TYPE\""
   ]
  },
  {
   "cell_type": "markdown",
   "metadata": {
    "pycharm": {
     "name": "#%% md\n"
    }
   },
   "source": [
    "This cell creates the GUI"
   ]
  },
  {
   "cell_type": "code",
   "execution_count": null,
   "metadata": {
    "collapsed": false,
    "jupyter": {
     "outputs_hidden": false
    },
    "pycharm": {
     "name": "#%%\n"
    }
   },
   "outputs": [],
   "source": [
    "h1 = pn.pane.Markdown('''\n",
    "#Multidimensional spectral data visualizer\n",
    "##Choose a file below\n",
    "''')\n",
    "layout = pn.interact(plot,filename=([\"converted/\"+file for file in os.listdir('converted')]))\n",
    "GUI = pn.Row(pn.Column(h1,layout[0]),layout[1])\n",
    "GUI.servable()"
   ]
  }
 ],
 "metadata": {
  "kernelspec": {
   "display_name": "PyCharm (2020SummerResearch)",
   "language": "python",
   "name": "pycharm-feb00c44"
  },
  "language_info": {
   "codemirror_mode": {
    "name": "ipython",
    "version": 3
   },
   "file_extension": ".py",
   "mimetype": "text/x-python",
   "name": "python",
   "nbconvert_exporter": "python",
   "pygments_lexer": "ipython3",
   "version": "3.8.3"
  },
  "widgets": {
   "application/vnd.jupyter.widget-state+json": {
    "state": {},
    "version_major": 2,
    "version_minor": 0
   }
  }
 },
 "nbformat": 4,
 "nbformat_minor": 4
}